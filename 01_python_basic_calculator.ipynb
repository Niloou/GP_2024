{
 "cells": [
  {
   "cell_type": "code",
   "execution_count": null,
   "metadata": {},
   "outputs": [],
   "source": [
    "from IPython.display import display, clear_output, HTML\n",
    "import time\n",
    "\n",
    "def countdown_timer(minutes):\n",
    "    total_seconds = minutes * 60\n",
    "    for seconds in range(total_seconds, 0, -1):\n",
    "        mins, secs = divmod(seconds, 60)\n",
    "        time_str = f\"{mins:02}'{secs:02}''\"\n",
    "        clear_output(wait=True)\n",
    "        # HTML with styling\n",
    "        display(HTML(f'<div style=\"font-size: 24px; color: blue; font-weight: bold;\">Time remaining: {time_str}</div>'))\n",
    "        time.sleep(1)\n",
    "    clear_output(wait=True)\n",
    "    # Final message with different styling\n",
    "    display(HTML('<div style=\"font-size: 24px; color: green; font-weight: bold;\">Time\\'s up!</div>'))"
   ]
  },
  {
   "cell_type": "markdown",
   "metadata": {},
   "source": [
    "<div style=\"text-align: center;\">\n",
    "    <img src=\"https://upload.wikimedia.org/wikipedia/commons/thumb/f/f8/Python_logo_and_wordmark.svg/972px-Python_logo_and_wordmark.svg.png?20210516005643\" alt=\"The Python logo\" style=\"width: 60%; max-width: 500px;\">\n",
    "</div>"
   ]
  },
  {
   "cell_type": "markdown",
   "metadata": {},
   "source": [
    "<div class=\"alert alert-block alert-light\">\n",
    "\n",
    "<div style=\"display: flex; justify-content: space-between;\">\n",
    "<div style=\"width: 48%; line-height: 1.5;\">\n",
    "\n",
    "#### Exercise\n",
    " Insert a `Markdown` cell containing a heading, e.g., \"Python as a basic calculator\", and some text, e.g., \"In this lecture we are going to learn about numbers\".\n",
    "</div>\n",
    "<div style=\"width: 4%;\">\n",
    "</div>\n",
    "<div style=\"width: 48%; line-height: 1.3;color: grey;\">\n",
    "\n",
    "#### Übung\n",
    "Fügen Sie eine `Markdown`-Zelle ein, die eine Überschrift enthält, z.B. \"Python als einfacher Taschenrechner\", und etwas Text, z.B. \"In dieser Vorlesung werden wir etwas über Zahlen lernen\".\n",
    "</div>\n",
    "</div>"
   ]
  },
  {
   "cell_type": "code",
   "execution_count": null,
   "metadata": {},
   "outputs": [],
   "source": [
    "#countdown\n",
    "countdown_timer(2)"
   ]
  },
  {
   "cell_type": "markdown",
   "metadata": {},
   "source": [
    "<div class=\"alert alert-block alert-info\">\n",
    "\n",
    "<div style=\"display: flex; justify-content: space-between;\">\n",
    "<div style=\"width: 48%; line-height: 1.5;\">\n",
    "\n",
    "At any point during these tutorials, feel encouraged to insert your own cells to take notes or experiment with commands.\n",
    "</div>\n",
    "<div style=\"width: 48%; line-height: 1.5;color: grey;\">\n",
    "\n",
    "Sie können während der Übungen jederzeit Ihre eigenen Zellen einzufügen, um Notizen zu machen oder mit Befehlen zu experimentieren.\n",
    "</div>\n",
    "</div>"
   ]
  },
  {
   "cell_type": "markdown",
   "metadata": {},
   "source": [
    "<div class=\"alert alert-block alert-warning\">\n",
    "\n",
    "<div style=\"display: flex; justify-content: space-between;\">\n",
    "<div style=\"width: 48%; line-height: 1.5;\">\n",
    "\n",
    "# Numbers (Python as calculator) \n",
    "</div>\n",
    "<div style=\"width: 4%;\">\n",
    "</div>\n",
    "<div style=\"width: 48%; line-height: 1.3; color: grey;\">\n",
    "\n",
    "# Zahlen (Python als Rechner)\n",
    "</div>\n",
    "</div>\n",
    "\n",
    "</div>"
   ]
  },
  {
   "cell_type": "markdown",
   "metadata": {},
   "source": [
    "<div style=\"display: flex; justify-content: space-between;\">\n",
    "<div style=\"width: 48%; line-height: 1.5;\">\n",
    "\n",
    "Python can be used as a simple calculator to add, multiply, and subtract numbers. \n",
    "\n",
    "There are three main types of numbers in Python: integers `int`, real numbers `float`, and complex numbers `complex`. \n",
    "\n",
    "In an interactive session like a Jupyter Notebook, you can combine these numbers using operators, and the result is immediately displayed.\n",
    "\n",
    "Please note: Calculations must be performed in cells of type `Python`, not in Markdown cells!\n",
    "</div>\n",
    "<div style=\"width: 4%;\">\n",
    "</div>\n",
    "<div style=\"width: 48%; line-height: 1.3;color: grey;\">\n",
    "\n",
    "Python kann als einfacher Taschenrechner verwendet werden, um Zahlen zu addieren, zu multiplizieren und zu subtrahieren. \n",
    "\n",
    "Es gibt drei Haupttypen von Zahlen in Python: Ganzzahlen `int`, reelle Zahlen `float` und komplexe Zahlen `complex`. \n",
    "\n",
    "In einer interaktiven Sitzung wie einem Jupyter-Notebook können Sie diese Zahlen mit Hilfe von Operatoren kombinieren und das Ergebnis wird sofort angezeigt.\n",
    "\n",
    "Bitte beachten Sie: Berechnungen müssen in Zellen des Typs `Python` durchgeführt werden, nicht in Markdown-Zellen!\n",
    "</div>\n",
    "</div>"
   ]
  },
  {
   "cell_type": "code",
   "execution_count": null,
   "metadata": {},
   "outputs": [],
   "source": [
    "1 + 2"
   ]
  },
  {
   "cell_type": "code",
   "execution_count": null,
   "metadata": {},
   "outputs": [],
   "source": [
    "10 / 6"
   ]
  },
  {
   "cell_type": "code",
   "execution_count": null,
   "metadata": {},
   "outputs": [],
   "source": [
    "6897 * 743657"
   ]
  },
  {
   "cell_type": "markdown",
   "metadata": {},
   "source": [
    "<div style=\"display: flex; justify-content: space-between;\">\n",
    "<div style=\"width: 48%; line-height: 1.5;\">\n",
    "\n",
    "**A word of caution:**\n",
    "\n",
    "What happens if you enter two lines of calculations before pressing `SHIFT+ENTER`? \n",
    "Try something like:\n",
    "\n",
    "</div>\n",
    "<div style=\"width: 4%;\">\n",
    "</div>\n",
    "<div style=\"width: 48%; line-height: 1.3;color: grey;\">\n",
    "\n",
    "**Warnung:**\n",
    "\n",
    "Was passiert, wenn Sie zwei Zeilen mit Berechnungen eingeben, bevor Sie `SHIFT+ENTER` drücken?\n",
    "Versuchen Sie etwas wie:\n",
    "</div>\n",
    "</div>"
   ]
  },
  {
   "cell_type": "code",
   "execution_count": 1,
   "metadata": {},
   "outputs": [
    {
     "data": {
      "text/plain": [
       "45"
      ]
     },
     "execution_count": 1,
     "metadata": {},
     "output_type": "execute_result"
    }
   ],
   "source": [
    "3 + 17\n",
    "5 * 9"
   ]
  },
  {
   "cell_type": "markdown",
   "metadata": {},
   "source": [
    "<div style=\"display: flex; justify-content: space-between;\">\n",
    "<div style=\"width: 48%; line-height: 1.5;\">\n",
    "\n",
    "You only see the result of the second calculation (`5 * 9`), which is `45`. This happens because in Python (and most programming languages), the notebook only displays the result of the last expression in a cell by default.\n",
    "\n",
    "To display both results, you need to explicitly tell the notebook to output both calculations. \n",
    "You can use the `print()` function:\n",
    "\n",
    "</div>\n",
    "<div style=\"width: 4%;\">\n",
    "</div>\n",
    "<div style=\"width: 48%; line-height: 1.3;color: grey;\">\n",
    "\n",
    "Sie sehen nur das Ergebnis der zweiten Berechnung (`5 * 9`), das `45` ist. Das liegt daran, dass in Python (und den meisten Programmiersprachen) das Notebook standardmäßig nur das Ergebnis des letzten Ausdrucks in einer Zelle anzeigt.\n",
    "\n",
    "Um beide Ergebnisse anzuzeigen, müssen Sie dem Notizbuch explizit sagen, dass es beide Berechnungen ausgeben soll.\n",
    "Dazu können Sie die Funktion `print()` verwenden:\n",
    "</div>\n",
    "</div>"
   ]
  },
  {
   "cell_type": "code",
   "execution_count": 2,
   "metadata": {},
   "outputs": [
    {
     "name": "stdout",
     "output_type": "stream",
     "text": [
      "20\n",
      "45\n"
     ]
    }
   ],
   "source": [
    "print(3 + 17)\n",
    "print(5 * 9)"
   ]
  },
  {
   "cell_type": "markdown",
   "metadata": {},
   "source": [
    "<div style=\"display: flex; justify-content: space-between;\">\n",
    "<div style=\"width: 48%; line-height: 1.5;\">\n",
    "\n",
    "####  Comment your code! \n",
    "\n",
    "To make code more understandable, it is good practice to add comments: Everything on a single line following a `#` character is ignored by the Python interpreter and so can be used to write human-readable remarks providing explanation and context to the code.\n",
    "</div>\n",
    "<div style=\"width: 4%;\">\n",
    "</div>\n",
    "<div style=\"width: 48%; line-height: 1.5;color: grey;\">\n",
    "\n",
    "####  Kommentieren Sie Ihren Code!\n",
    "\n",
    "Um den Code verständlicher zu machen, ist es eine gute Praxis, Kommentare hinzuzufügen: Alles, was in einer einzelnen Zeile auf ein `#`-Zeichen folgt, wird vom Python-Interpreter ignoriert und kann daher dazu verwendet werden, um menschenlesbare Anmerkungen zu schreiben, die den Code und dessen Kontext erklären.\n",
    "</div>\n",
    "</div>"
   ]
  },
  {
   "cell_type": "markdown",
   "metadata": {},
   "source": [
    "<div style=\"display: flex; justify-content: space-between;\">\n",
    "<div style=\"width: 48%; line-height: 1.5;\">\n",
    "Without comments: \n",
    "</div>\n",
    "<div style=\"width: 4%;\">\n",
    "</div>\n",
    "<div style=\"width: 48%; line-height: 1.3;color: grey;\">\n",
    "Ohne Kommentaren: \n",
    "</div>\n",
    "</div>"
   ]
  },
  {
   "cell_type": "code",
   "execution_count": 16,
   "metadata": {},
   "outputs": [
    {
     "name": "stdout",
     "output_type": "stream",
     "text": [
      "120\n"
     ]
    }
   ],
   "source": [
    "def factorial(n):\n",
    "    result = 1\n",
    "    while n > 0:\n",
    "        result *= n\n",
    "        n -= 1\n",
    "    return result\n",
    "\n",
    "print(factorial(5))"
   ]
  },
  {
   "cell_type": "markdown",
   "metadata": {},
   "source": [
    "<div style=\"display: flex; justify-content: space-between;\">\n",
    "<div style=\"width: 48%; line-height: 1.5;\">\n",
    "With comments: \n",
    "</div>\n",
    "<div style=\"width: 4%;\">\n",
    "</div>\n",
    "<div style=\"width: 48%; line-height: 1.3;color: grey;\">\n",
    "Mit Kommentaren: \n",
    "</div>\n",
    "</div>"
   ]
  },
  {
   "cell_type": "code",
   "execution_count": 6,
   "metadata": {},
   "outputs": [
    {
     "name": "stdout",
     "output_type": "stream",
     "text": [
      "120\n"
     ]
    }
   ],
   "source": [
    "def factorial(n):\n",
    "# Initialize result to 1, as the factorial of 0 is 1 and it is the multiplicative identity\n",
    "    result = 1\n",
    "\n",
    "# Loop through numbers from n down to 1\n",
    "    while n > 0:\n",
    "# Multiply the current result by n\n",
    "        result *= n\n",
    "# Decrement n by 1\n",
    "        n -= 1\n",
    "\n",
    "# Return the computed factorial\n",
    "    return result\n",
    "\n",
    "# Print the factorial of 5 (which is 120)\n",
    "print(factorial(5))"
   ]
  },
  {
   "cell_type": "markdown",
   "metadata": {},
   "source": [
    "## Integer (`int`)"
   ]
  },
  {
   "cell_type": "markdown",
   "metadata": {},
   "source": [
    "<div style=\"display: flex; justify-content: space-between;\">\n",
    "<div style=\"width: 48%; line-height: 1.5;\">\n",
    "Represent whole numbers without any fractional part. They can be positive, negative, or zero.\n",
    "</div>\n",
    "<div style=\"width: 4%;\">\n",
    "</div>\n",
    "<div style=\"width: 48%; line-height: 1.3;color: grey;\">\n",
    "Sie stellen Ganzzahlen ohne Bruchteile dar. Sie können positiv, negativ oder Null sein.\n",
    "</div>\n",
    "</div>"
   ]
  },
  {
   "cell_type": "code",
   "execution_count": null,
   "metadata": {},
   "outputs": [],
   "source": [
    "x = 10  # Positive integer\n",
    "y = -5  # Negative integer\n",
    "z = 0   # Zero"
   ]
  },
  {
   "cell_type": "markdown",
   "metadata": {},
   "source": [
    "## Floating-point (`float`)]"
   ]
  },
  {
   "cell_type": "markdown",
   "metadata": {},
   "source": [
    "<div style=\"display: flex; justify-content: space-between;\">\n",
    "<div style=\"width: 48%; line-height: 1.5;\">\n",
    "Represent real numbers with a fractional part. They are used to handle decimal values.\n",
    "</div>\n",
    "<div style=\"width: 4%;\">\n",
    "</div>\n",
    "<div style=\"width: 48%; line-height: 1.3;color: grey;\">\n",
    "Sie stellen reelle Zahlen mit einem Bruchteil dar. Sie werden verwendet, um Dezimalwerte zu verarbeiten.\n",
    "</div>\n",
    "</div>"
   ]
  },
  {
   "cell_type": "code",
   "execution_count": null,
   "metadata": {},
   "outputs": [],
   "source": [
    "a = 3.14        # Positive float\n",
    "b = -2.718      # Negative float\n",
    "c = 0.0         # Zero float"
   ]
  },
  {
   "cell_type": "markdown",
   "metadata": {},
   "source": [
    "<div style=\"display: flex; justify-content: space-between;\">\n",
    "<div style=\"width: 48%; line-height: 1.5;\">\n",
    "\n",
    "####  Exponential notation\n",
    "\n",
    "In chemistry we often deal with either very small (e.g., Planck's constant) or very large numbers (e.g., Avogadro's number) . To specify these we make use exponential notation, where Planck's constant is written `6.626e-34`, and the Avogadro's number is `6.022e23`. Numbers written in exponential notation are always floating-point (`float`).\n",
    "</div>\n",
    "<div style=\"width: 4%;\">\n",
    "</div>\n",
    "<div style=\"width: 48%; line-height: 1.3;color: grey;\">\n",
    "\n",
    "####  Exponentialschreibweise\n",
    "\n",
    "In der Chemie beschäftigen wir uns häufig entweder mit sehr kleinen (z.B. die Planck-Konstante) oder sehr großen Zahlen (z.B. die Avogadro-Konstante). Um diese anzugeben, verwenden wir die Exponentialschreibweise, wobei die Planck-Konstante als `6.626e-34` geschrieben wird und die Avogadro-Konstante als `6.022e23`. Zahlen, die in Exponentialschreibweise dargestellt werden, sind immer Gleitkommazahlen (`float`).\n",
    "\n",
    "</div>\n",
    "</div>"
   ]
  },
  {
   "cell_type": "code",
   "execution_count": null,
   "metadata": {},
   "outputs": [],
   "source": [
    "# Using exponential notation: 4e5 = 4x10^5 = 400000\n",
    "\n",
    "4e5"
   ]
  },
  {
   "cell_type": "markdown",
   "metadata": {},
   "source": [
    "## Complex Numbers (`complex`)"
   ]
  },
  {
   "cell_type": "markdown",
   "metadata": {},
   "source": [
    "<div style=\"display: flex; justify-content: space-between;\">\n",
    "<div style=\"width: 48%; line-height: 1.5;\">\n",
    "\n",
    "Represent numbers with a real part and an imaginary part. Complex numbers are written in the form `a + bj`, where `a` is the real part and `b` is the imaginary part.\n",
    "</div>\n",
    "<div style=\"width: 4%;\">\n",
    "</div>\n",
    "<div style=\"width: 48%; line-height: 1.3;color: grey;\">\n",
    "\n",
    "Sie stellen Zahlen mit einem Realteil und einem Imaginärteil dar. Komplexe Zahlen werden in der Form `a + bj` geschrieben, wobei `a` für den Realteil und `b` für den Imaginärteil steht.\n",
    "</div>\n",
    "</div>"
   ]
  },
  {
   "cell_type": "code",
   "execution_count": null,
   "metadata": {},
   "outputs": [],
   "source": [
    "p = 3 + 4j  # Real part is 3, imaginary part is 4\n",
    "q = -1 - 2j # Real part is -1, imaginary part is -2"
   ]
  },
  {
   "cell_type": "markdown",
   "metadata": {},
   "source": [
    "<div style=\"display: flex; justify-content: space-between;\">\n",
    "<div style=\"width: 48%; line-height: 1.5;\">\n",
    "\n",
    "### Key Properties and Operations \n",
    "</div>\n",
    "<div style=\"width: 4%;\">\n",
    "</div>\n",
    "<div style=\"width: 48%; line-height: 1.3;color: grey;\">\n",
    "\n",
    "### Hauptfunktionen und Operationen \n",
    "</div>\n",
    "</div>"
   ]
  },
  {
   "cell_type": "markdown",
   "metadata": {},
   "source": [
    "| Operation            | Result                                        | Ergebnis                           |\n",
    "|----------------------|-----------------------------------------------|---------------------------------------------|\n",
    "| `x + y`              | sum of $x$ and $y$                               | Summe von $x$ und $y$                          |\n",
    "| `x - y`              | difference of $x$ and $y$                        | Differenz von $x$ und $y$                      |\n",
    "| `x * y`              | product of $x$ and $y$                           | Produkt von $x$ und $y$                        |\n",
    "| `x ** y`             | $x$ to the power $y$                             | $x$ hoch $y$                                   |\n",
    "| `x / y`              | quotient of $x$ and $y$                          | Quotient von $x$ und $y$                       |\n",
    "| `x // y`             | integer division of $x$ and $y$                  | Ganzzahlige Division von $x$ und $y$         |\n",
    "| `x % y`              | remainder of $x$ / $y$                           | Rest von $x$ / $y$                             |\n",
    "| `divmod(x, y)`       | the pair (`x // y`, `x % y`)                    | Das Paar (`x // y`, `x % y`)                  |\n",
    "| `-x`                 | $x$ negated                                    | $x$ negiert                                   |\n",
    "| `abs(x)`             | absolute value or magnitude of $x$             | Absoluter Wert oder Betrag von $x$           |\n",
    "| `int(x)`             | $x$ converted to integer                       | $x$ in Ganzzahl umgewandelt                  |\n",
    "| `float(x)`           | $x$ converted to floating point                 | $x$ in Gleitkommazahl umgewandelt            |\n",
    "| `complex(re, im)`    | a complex number with real part $re$, imaginary part $im$ ($im$ defaults to zero) | Eine komplexe Zahl mit dem Realteil $re$, Imaginärteil $im$ ($im$ standardmäßig null) |\n",
    "| `c.conjugate()`      | conjugate of the complex number $c$            | Konjugierte der komplexen Zahl $c$           |"
   ]
  },
  {
   "cell_type": "markdown",
   "metadata": {},
   "source": [
    "<div style=\"display: flex; justify-content: space-between;\">\n",
    "<div style=\"width: 48%; line-height: 1.5;\">\n",
    "\n",
    "About complex numbers:\n",
    "https://mathworld.wolfram.com/topics/ComplexNumbers.html\n",
    "</div>\n",
    "<div style=\"width: 4%;\">\n",
    "</div>\n",
    "<div style=\"width: 48%; line-height: 1.3;color: grey;\">\n",
    "\n",
    "Über komplexe Zahlen:\n",
    "https://mathworld.wolfram.com/topics/ComplexNumbers.html\n",
    "</div>\n",
    "</div>"
   ]
  },
  {
   "cell_type": "markdown",
   "metadata": {},
   "source": [
    "<div class=\"alert alert-block alert-light\">\n",
    "\n",
    "<div style=\"display: flex; justify-content: space-between;\">\n",
    "<div style=\"width: 48%; line-height: 1.5;\">\n",
    "\n",
    "#### Exercise\n",
    "\n",
    "Insert as many code cells as you need and apply the various mathematical operations to: \n",
    "\n",
    "- Two integers, $10$ and $6$.\n",
    "- Two floating-point numbers, $3.14$ and $2.71$. \n",
    "- Two complex numbers, $3+4j$ and $1-2j$.\n",
    "\n",
    "Comment on your code snippets. Alternatively, for a more polished presentation, use markdown syntax to explain your steps.\n",
    "\n",
    "- What is the difference between division and integer division?\n",
    "- What is the remainder? \n",
    "- Are all operations supported for every number type?\n",
    "\n",
    "</div>\n",
    "<div style=\"width: 4%;\">\n",
    "</div>\n",
    "<div style=\"width: 48%; line-height: 1.3;color: grey;\">\n",
    "\n",
    "#### Übung\n",
    "\n",
    "Fügen Sie so viele Code Zellen ein, wie Sie benötigen, und wenden Sie die verschiedenen mathematischen Operationen an:\n",
    "\n",
    "- Zwei ganze Zahlen, $10$ und $6$.\n",
    "- Zwei Gleitkommazahlen, $3.14$ und $2.71$.\n",
    "- Zwei komplexe Zahlen, $3+4j$ und $1-2j$.\n",
    "\n",
    "Kommentieren Sie Ihre Codeschnipsel. Für eine bessere Präsentation können Sie auch die Markdown-Syntax verwenden, um Ihre Schritte zu erklären.\n",
    "\n",
    "- Was ist der Unterschied zwischen Division und ganzzahliger Division?\n",
    "- Was ist der Rest?\n",
    "- Werden alle Operationen für jeden Zahlentyp unterstützt?\n",
    "\n",
    "</div>\n",
    "</div>"
   ]
  },
  {
   "cell_type": "code",
   "execution_count": null,
   "metadata": {},
   "outputs": [],
   "source": [
    "#countdown\n",
    "countdown_timer(10)"
   ]
  },
  {
   "cell_type": "code",
   "execution_count": 7,
   "metadata": {},
   "outputs": [
    {
     "name": "stdout",
     "output_type": "stream",
     "text": [
      "Integer Operations:\n",
      "Addition: 16\n",
      "Subtraction: 4\n",
      "Multiplication: 60\n",
      "Division: 1.6666666666666667\n",
      "Integer Division: 1\n",
      "Modulus: 4\n",
      "Exponentiation: 1000000\n",
      "\n",
      "Floating-Point Operations:\n",
      "Addition: 5.85\n",
      "Subtraction: 0.43000000000000016\n",
      "Multiplication: 8.5094\n",
      "Division: 1.1586715867158672\n",
      "Integer Division: 1.0\n",
      "Modulus: 0.43000000000000016\n",
      "Exponentiation: 22.21668954600232\n",
      "\n",
      "Complex Number Operations:\n",
      "Addition: (4+2j)\n",
      "Subtraction: (2+6j)\n",
      "Multiplication: (11-2j)\n",
      "Division: (-1+2j)\n",
      "Exponentiation: (-21.083139690689016-24.00021070941257j)\n",
      "Conjugate of p: (3-4j)\n"
     ]
    }
   ],
   "source": [
    "# Integer\n",
    "x = 10\n",
    "y = 6\n",
    "print(\"Integer Operations:\")\n",
    "print(\"Addition:\", x + y)\n",
    "print(\"Subtraction:\", x - y)\n",
    "print(\"Multiplication:\", x * y)\n",
    "print(\"Division:\", x / y)   \n",
    "print(\"Integer Division:\", x // y)\n",
    "print(\"Modulus:\", x % y)\n",
    "print(\"Exponentiation:\", x ** y)\n",
    "\n",
    "# Float\n",
    "a = 3.14\n",
    "b = 2.71\n",
    "print(\"\\nFloating-Point Operations:\")\n",
    "print(\"Addition:\", a + b)\n",
    "print(\"Subtraction:\", a - b)\n",
    "print(\"Multiplication:\", a * b)\n",
    "print(\"Division:\", a / b)\n",
    "print(\"Integer Division:\", a // b)\n",
    "print(\"Modulus:\", a % b)\n",
    "print(\"Exponentiation:\", a ** b)\n",
    "\n",
    "# Complex Numbers\n",
    "p = 3 + 4j\n",
    "q = 1 - 2j\n",
    "print(\"\\nComplex Number Operations:\")\n",
    "print(\"Addition:\", p + q)\n",
    "print(\"Subtraction:\", p - q)\n",
    "print(\"Multiplication:\", p * q)\n",
    "print(\"Division:\", p / q)\n",
    "#print(\"Integer Division:\", p // q)              # TypeError: unsupported operand type(s) for //: 'complex' and 'complex'\n",
    "#print(\"Modulus:\", p % q)                        # TypeError: unsupported operand type(s) for %: 'complex' and 'complex'\n",
    "print(\"Exponentiation:\", p ** q)\n",
    "print(\"Conjugate of p:\", p.conjugate())"
   ]
  },
  {
   "cell_type": "markdown",
   "metadata": {},
   "source": [
    "## Boolean (`bool`)"
   ]
  },
  {
   "cell_type": "markdown",
   "metadata": {},
   "source": [
    "<div style=\"display: flex; justify-content: space-between;\">\n",
    "<div style=\"width: 48%; line-height: 1.5;\">\n",
    "\n",
    "A subtype of integers representing truth values. There are only two boolean values: `True` and `False`.\n",
    "\n",
    "The `==` operator is used to compare two values for equality: It checks whether the values on the left and right sides of the operator are equal. If they are equal, the expression evaluates to `True`; if not, it evaluates to `False`.\n",
    "\n",
    "**The *equality* operator is `==`: two equals signs, not to be confused with the single equals, `=`, used for assignment.**\n",
    "</div>\n",
    "<div style=\"width: 4%;\">\n",
    "</div>\n",
    "<div style=\"width: 48%; line-height: 1.3;color: grey;\">\n",
    "\n",
    "Ein Subtyp von Ganzzahlen, der Wahrheitswerte darstellt. Es gibt nur zwei boolesche Werte: `True` (\"Wahr\") und `False` (\"Falsch\").\n",
    "\n",
    "Der Operator `==` wird verwendet, um zwei Werte auf Gleichheit zu vergleichen: Er prüft, ob die Werte auf der linken und rechten Seite des Operators gleich sind. Wenn sie gleich sind, wird der Ausdruck als `True` ausgewertet; wenn nicht, wird er als `False` ausgewertet.\n",
    "\n",
    "**Der *Gleichheits*-Operator ist `==`: zwei Gleichheitszeichen, nicht zu verwechseln mit dem einzelnen Gleichheitszeichen, `=`, das für Zuweisungen verwendet wird.**\n",
    "</div>\n",
    "</div>"
   ]
  },
  {
   "cell_type": "code",
   "execution_count": null,
   "metadata": {},
   "outputs": [],
   "source": [
    "2 + 2 == 4      # Boolean True"
   ]
  },
  {
   "cell_type": "code",
   "execution_count": null,
   "metadata": {},
   "outputs": [],
   "source": [
    "2 + 2 == 5      # Boolean False"
   ]
  },
  {
   "cell_type": "markdown",
   "metadata": {},
   "source": [
    "<div style=\"display: flex; justify-content: space-between;\">\n",
    "<div style=\"width: 48%; line-height: 1.5;\">\n",
    "\n",
    "In addition to the equality operator, you find the following comparison operations, too:\n",
    "</div>\n",
    "<div style=\"width: 4%;\">\n",
    "</div>\n",
    "<div style=\"width: 48%; line-height: 1.3;color: grey;\">\n",
    "\n",
    "Neben dem Gleichheitsoperator gibt es auch noch die folgenden Vergleichsoperationen:\n",
    "</div>\n",
    "</div>"
   ]
  },
  {
   "cell_type": "markdown",
   "metadata": {},
   "source": [
    "| Operation | Meaning                        | Bedeutung                   |\n",
    "|-----------|--------------------------------|--------------------------------------|\n",
    "| `==`      | equal                          | gleich                               |\n",
    "| `!=`      | not equal                     | ungleich                             |\n",
    "| `<`       | strictly less than             | strikt kleiner als                   |\n",
    "| `<=`      | less than or equal            | kleiner oder gleich                  |\n",
    "| `>`       | strictly greater than          | strikt größer als                    |\n",
    "| `>=`      | greater than or equal         | größer oder gleich                   |"
   ]
  },
  {
   "cell_type": "markdown",
   "metadata": {},
   "source": [
    "<div style=\"display: flex; justify-content: space-between;\">\n",
    "<div style=\"width: 48%; line-height: 1.5;\">\n",
    "\n",
    "Comparison operators are like questions that help a program decide what to do next (truth value testing). They compare two values and check if one is greater than, less than, or equal to the other.<br> Based on the answer (which is either `True` or `False`), the program can choose to perform certain actions. <br>We will revisit this concept in the context of loops and conditional statements.\n",
    "\n",
    "</div>\n",
    "<div style=\"width: 4%;\">\n",
    "</div>\n",
    "<div style=\"width: 48%; line-height: 1.5;color: grey;\">\n",
    "\n",
    "Vergleichsoperatoren sind wie Fragen, die einem Programm helfen zu entscheiden, was als nächstes zu tun ist (Wahrheitswertprüfung). Sie vergleichen zwei Werte und prüfen, ob der eine größer, kleiner oder gleich dem anderen ist. Anhand der Antwort (die entweder `True` oder `False` ist) kann das Programm entscheiden, ob es bestimmte Aktionen durchführen will. Wir werden dieses Konzept im Zusammenhang mit Schleifen und bedingten Anweisungen wieder aufgreifen.\n",
    "</div>\n",
    "</div>"
   ]
  },
  {
   "cell_type": "markdown",
   "metadata": {},
   "source": [
    "<div class=\"alert alert-block alert-light\">\n",
    "\n",
    "<div style=\"display: flex; justify-content: space-between;\">\n",
    "<div style=\"width: 48%; line-height: 1.5;\">\n",
    "\n",
    "#### Exercise\n",
    " \n",
    "Evaluate the truthfulness of the following comparisons:\n",
    "\n",
    "- $\\frac{1}{3} + \\frac{1}{6}  <  \\frac{1}{2}$\n",
    "\n",
    "- $2^4 - 5 == 11$\n",
    "\n",
    "- $\\frac{9}{4} + 0.5 \\leq  3$\n",
    "\n",
    "- $\\frac{3}{8} + \\frac{5}{16} \\neq 0.5$\n",
    "\n",
    "</div>\n",
    "<div style=\"width: 4%;\">\n",
    "</div>\n",
    "<div style=\"width: 48%; line-height: 1.5;color: grey;\">\n",
    "\n",
    "#### Übung\n",
    "\n",
    "Evaluieren Sie den Wahrheitsgehalt der folgenden Vergleiche:\n",
    "\n",
    "- $\\frac{1}{3} + \\frac{1}{6}  < \\frac{1}{2}$\n",
    "\n",
    "- $2^4 - 5 == 11$\n",
    "\n",
    "- $\\frac{9}{4} + 0,5 \\leq 3$\n",
    "\n",
    "- $\\frac{3}{8} + \\frac{5}{16} \\neq 0.5$\n",
    "\n",
    "</div>\n",
    "</div>"
   ]
  },
  {
   "cell_type": "code",
   "execution_count": null,
   "metadata": {},
   "outputs": [],
   "source": [
    "countdown_timer(5)"
   ]
  },
  {
   "cell_type": "markdown",
   "metadata": {},
   "source": [
    "<div style=\"display: flex; justify-content: space-between;\">\n",
    "<div style=\"width: 48%; line-height: 1.5;\">\n",
    "\n",
    "In Python, *booleans are treated as integers*: `True` is equivalent to `1` and `False` is equivalent to `0`. \n",
    "This means that when performing arithmetic operations, `True` and `False` can be used like integers. \n",
    "\n",
    "For example, the expression `True + True` evaluates to `2`, while `True + False` evaluates to `1`.\n",
    "This can be very convenient, for example, when counting true or false values in the columns of a data table. \n",
    "</div>\n",
    "<div style=\"width: 4%;\">\n",
    "</div>\n",
    "<div style=\"width: 48%; line-height: 1.5;color: grey;\">\n",
    "\n",
    "*In Python werden Boolesche Werte wie ganze Zahlen behandelt*, wobei `True` gleich `1` und `False` gleich `0` ist. Das bedeutet, dass bei der Durchführung von arithmetischen Operationen `True` und `False` wie ganze Zahlen verwendet werden können. <br>\n",
    "Zum Beispiel ergibt der Ausdruck `True + True` den Wert `2`, während `True + False` den Wert `1` ergibt.\n",
    "Dies kann sehr praktisch sein, wenn man zum Beispiel wahre oder falsche Werte in den Spalten einer Datentabelle zählen will.\n",
    "</div>\n",
    "</div>"
   ]
  },
  {
   "cell_type": "markdown",
   "metadata": {},
   "source": [
    "<div style=\"display: flex; justify-content: space-between;\">\n",
    "<div style=\"width: 48%; line-height: 1.5;\">\n",
    "\n",
    "#### Everything is an object, and every object has a type\n",
    "\n",
    "If we are not sure if a number is an integer, floating point, or complex, we can use the `type()` command:\n",
    "</div>\n",
    "<div style=\"width: 4%;\">\n",
    "</div>\n",
    "<div style=\"width: 48%; line-height: 1.3;color: grey;\">\n",
    "\n",
    "#### Alles ist ein Objekt, und jedes Objekt hat einen Typ\n",
    "\n",
    "Wenn wir nicht sicher sind, ob eine Zahl eine Ganzzahl, eine Fließkommazahl oder eine komplexe Zahl ist, können wir den Befehl `type()` verwenden:\n",
    "</div>\n",
    "</div>"
   ]
  },
  {
   "cell_type": "code",
   "execution_count": 14,
   "metadata": {},
   "outputs": [
    {
     "data": {
      "text/plain": [
       "int"
      ]
     },
     "execution_count": 14,
     "metadata": {},
     "output_type": "execute_result"
    }
   ],
   "source": [
    "type(4)"
   ]
  },
  {
   "cell_type": "code",
   "execution_count": null,
   "metadata": {},
   "outputs": [],
   "source": [
    "type(4.0)"
   ]
  },
  {
   "cell_type": "code",
   "execution_count": null,
   "metadata": {},
   "outputs": [],
   "source": [
    "type(4 == 8)"
   ]
  },
  {
   "cell_type": "markdown",
   "metadata": {},
   "source": [
    "<div style=\"display: flex; justify-content: space-between;\">\n",
    "<div style=\"width: 48%; line-height: 1.5;\">\n",
    "\n",
    "Here are a few data types that we will see today and in the next lectures:\n",
    "</div>\n",
    "<div style=\"width: 4%;\">\n",
    "</div>\n",
    "<div style=\"width: 48%; line-height: 1.5;color: grey;\">\n",
    "\n",
    "Hier sind einige Datentypen, die wir heute und in den nächsten Vorlesungen sehen werden:\n",
    "</div>\n",
    "</div>"
   ]
  },
  {
   "cell_type": "markdown",
   "metadata": {},
   "source": [
    "| Data Type      | Command Example         |\n",
    "|---------------|--------------------------|\n",
    "| `int`         | `type(5)`                |\n",
    "| `float`       | `type(5.0)`              |\n",
    "| `complex`     | `type(5 + 3j)`           |\n",
    "| `bool`        | `type(True)`             |\n",
    "| `module`      | `type(math)`             |\n",
    "| `str`         | `type(\"hello\")`          |\n",
    "| `list`        | `type([1, 2, 3])`        |\n",
    "| `tuple`       | `type((1, 2, 3))`        |\n",
    "| `set`         | `type({1, 2, 3})`        |\n",
    "| `dict`        | `type({\"key\": \"value\"})` |\n",
    "| `range`       | `type(range(5))`         |\n",
    "| `function`    | `type(factorial)`        |\n",
    "| `NoneType`    | `type(None)`             |"
   ]
  },
  {
   "cell_type": "markdown",
   "metadata": {},
   "source": [
    "<div style=\"display: flex; justify-content: space-between;\">\n",
    "<div style=\"width: 48%; line-height: 1.5;\">\n",
    "\n",
    "## More complex mathematical operations\n",
    "\n",
    "One of the best aspects of Python is its extensive collection of high-quality custom libraries. \n",
    "Some of these libraries are part of the \"standard library,\" meaning they are available wherever Python is installed. \n",
    "Other libraries can be easily added, even if they are not included with Python by default. \n",
    "In either case, we access these libraries through imports. \n",
    "\n",
    "For example, if we wish to use more complicated mathematical operators, such as trigonometric functions, we need to import the `math` module.\n",
    "</div>\n",
    "<div style=\"width: 4%;\">\n",
    "</div>\n",
    "<div style=\"width: 48%; line-height: 1.5;color: grey;\">\n",
    "\n",
    "## Kompliziertere Operationen\n",
    "\n",
    "Einer der besten Aspekte von Python ist seine umfangreiche Sammlung von qualitativ hochwertigen benutzerdefinierten Bibliotheken. \n",
    "Einige dieser Bibliotheken sind Teil der \"Standardbibliothek\", d. h. sie sind überall verfügbar, wo Python installiert ist. \n",
    "Andere Bibliotheken können leicht hinzugefügt werden, auch wenn sie nicht standardmäßig in Python enthalten sind. \n",
    "In jedem Fall greifen wir auf diese Bibliotheken über Importe zu. \n",
    "\n",
    "Wenn wir kompliziertere mathematische Operatoren, wie trigonometrische Funktionen, verwenden wollen, müssen wir das Modul `math` importieren.\n",
    "</div>\n",
    "</div>"
   ]
  },
  {
   "cell_type": "code",
   "execution_count": 15,
   "metadata": {},
   "outputs": [
    {
     "data": {
      "text/plain": [
       "module"
      ]
     },
     "execution_count": 15,
     "metadata": {},
     "output_type": "execute_result"
    }
   ],
   "source": [
    "import math\n",
    "\n",
    "type(math)"
   ]
  },
  {
   "cell_type": "code",
   "execution_count": null,
   "metadata": {},
   "outputs": [],
   "source": [
    "# you can always ask for help\n",
    "\n",
    "help(math)"
   ]
  },
  {
   "cell_type": "markdown",
   "metadata": {},
   "source": [
    "<div style=\"display: flex; justify-content: space-between;\">\n",
    "<div style=\"width: 48%; line-height: 1.5;\">\n",
    "\n",
    "#### Some operators available in the `math` module\n",
    " <b>Angles are assumed to be in radians.</b>\n",
    "</div>\n",
    "<div style=\"width: 4%;\">\n",
    "</div>\n",
    "<div style=\"width: 48%; line-height: 1.3;color: grey;\">\n",
    "\n",
    "#### Einige im `math`-modul verfügbare Operatoren\n",
    " <b>Die Winkel werden im Bogenmaß angenommen.</b>\n",
    "</div>\n",
    "</div>"
   ]
  },
  {
   "cell_type": "markdown",
   "metadata": {},
   "source": [
    "|                     |                    | Python `math` Function   |\n",
    "|------------------------------|-----------------------------|--------------------------|\n",
    "| Square Root                  | Quadratwurzel               | `math.sqrt(x)`           |\n",
    "| Exponentiation               | Exponentiation              | `math.exp(x)`            |\n",
    "| Logarithm (base $e$)           | Logarithmus (Basis $e$)       | `math.log(x)`            |\n",
    "| Logarithm (base 10)          | Logarithmus (Basis 10)      | `math.log10(x)`          |\n",
    "| Sine                         | Sinus                       | `math.sin(x)`            |\n",
    "| Cosine                       | Kosinus                     | `math.cos(x)`            |\n",
    "| Tangent                      | Tangens                     | `math.tan(x)`            |\n",
    "| Arcsine                      | Arkussinus                  | `math.asin(x)`           |\n",
    "| Arccosine                    | Arkuskosinus                | `math.acos(x)`           |\n",
    "| Arctangent                   | Arkustangens                | `math.atan(x)`           |\n",
    "| Hyperbolic Sine              | Hyperbolischer Sinus        | `math.sinh(x)`           |\n",
    "| Hyperbolic Cosine            | Hyperbolischer Kosinus      | `math.cosh(x)`           |\n",
    "| Hyperbolic Tangent           | Hyperbolischer Tangens      | `math.tanh(x)`           |\n",
    "| Convert Degrees to Radians   | Grad in Bogenmaß umwandeln  | `math.radians(x)`        |\n",
    "| Convert Radians to Degrees   | Bogenmaß in Grad umwandeln  | `math.degrees(x)`        |\n",
    "| Power                        | Potenz                      | `math.pow(x, y)`         |\n",
    "| Absolute Value               | Absoluter Wert              | `math.abs(x)`            |\n",
    "| Factorial                    | Fakultät                    | `math.factorial(x)`      |\n",
    "| Pi ($\\pi$)                   | Pi ($\\pi$)                  | `math.pi`                |\n",
    "| Euler's Number ($e$)           | Eulersche Zahl ($e$)          | `math.e`                 |"
   ]
  },
  {
   "cell_type": "code",
   "execution_count": 1,
   "metadata": {},
   "outputs": [],
   "source": [
    "# Tell Python we want to load the math module - only needs to be loaded once per notebook\n",
    "import math"
   ]
  },
  {
   "cell_type": "code",
   "execution_count": null,
   "metadata": {},
   "outputs": [],
   "source": [
    "#We use the operators in the math module by typing 'math.' followed by the name of the operator.\n",
    "#math.sqrt(x) calculates the square-root of the number x\n",
    "math.sqrt(81) "
   ]
  },
  {
   "cell_type": "code",
   "execution_count": null,
   "metadata": {},
   "outputs": [],
   "source": [
    "#math.e returns the value of Euler's number\n",
    "math.e"
   ]
  },
  {
   "cell_type": "code",
   "execution_count": null,
   "metadata": {},
   "outputs": [],
   "source": [
    "#math.pi returns the value of Pi\n",
    "math.pi "
   ]
  },
  {
   "cell_type": "code",
   "execution_count": null,
   "metadata": {},
   "outputs": [],
   "source": [
    "# The area of a circle with radius = 1.5 is \n",
    "math.pi * 1.5**2"
   ]
  },
  {
   "cell_type": "markdown",
   "metadata": {},
   "source": [
    "<div style=\"display: flex; justify-content: space-between;\">\n",
    "<div style=\"width: 48%; line-height: 1.5;\">\n",
    "\n",
    " `round` rounds a number to a given precision in decimal digits (or to the nearest integer if no precision is specified):\n",
    "</div>\n",
    "<div style=\"width: 4%;\">\n",
    "</div>\n",
    "<div style=\"width: 48%; line-height: 1.3;color: grey;\">\n",
    "\n",
    " `round` rundet eine Zahl auf eine bestimmte Genauigkeit in Dezimalstellen (oder auf die nächste Ganzzahl, wenn keine Genauigkeit angegeben ist):\n",
    "</div>\n",
    "</div>"
   ]
  },
  {
   "cell_type": "code",
   "execution_count": null,
   "metadata": {},
   "outputs": [],
   "source": [
    "round(math.pi , 4)"
   ]
  },
  {
   "cell_type": "code",
   "execution_count": null,
   "metadata": {},
   "outputs": [],
   "source": [
    "round(math.pi)"
   ]
  },
  {
   "cell_type": "markdown",
   "metadata": {},
   "source": [
    "<div class=\"alert alert-block alert-light\">\n",
    "\n",
    "<div style=\"display: flex; justify-content: space-between;\">\n",
    "<div style=\"width: 48%; line-height: 1.5;\">\n",
    "\n",
    "#### Exercise\n",
    "\n",
    "Calculate the volume of various geometric shapes based on provided dimensions:\n",
    "</div>\n",
    "<div style=\"width: 4%;\">\n",
    "</div>\n",
    "<div style=\"width: 48%; line-height: 1.3;color: grey;\">\n",
    "\n",
    "#### Übung\n",
    "\n",
    "Berechnen Sie das Volumen verschiedener geometrischer Formen auf der Grundlage der eingegebenen Maße:\n",
    "</div>\n",
    "</div>\n",
    "<div style=\"display: flex; justify-content: space-between;\">\n",
    "<div style=\"text-align: center; margin-top: 20px; width: 48%\">\n",
    "    \n",
    "**Cube/Würfel**: $ V = s^3 $\n",
    "\n",
    "**Cylinder/Zylinder**: $ V = \\pi r^2 h $\n",
    "\n",
    "**Sphere/Kugel**: $ V = \\frac{4}{3} \\pi r^3 $\n",
    "\n",
    "**Cone/Kegel**: $ V = \\frac{1}{3} \\pi r^2 h $\n",
    "</div>\n",
    "<div style=\"text-align: center; margin-top: 20px;\">\n",
    "where:\n",
    "    \n",
    "$$s = 5.5$$\n",
    "\n",
    "$$r = 3.7$$\n",
    "\n",
    "$$h = 9.2$$\n",
    "</div>\n",
    "</div>"
   ]
  },
  {
   "cell_type": "code",
   "execution_count": null,
   "metadata": {},
   "outputs": [],
   "source": [
    "#countdown\n",
    "countdown_timer(10)"
   ]
  },
  {
   "cell_type": "markdown",
   "metadata": {},
   "source": [
    "<div class=\"alert alert-block alert-light\">\n",
    "\n",
    "<div style=\"display: flex; justify-content: space-between;\">\n",
    "<div style=\"width: 48%; line-height: 1.5;\">\n",
    "\n",
    "#### Exercise\n",
    "\n",
    " What is the kinetic energy of 4.3 Kg projectile travelling at a speed of 1.2 m/s? Recall the kinetic energy is given as: \n",
    "</div>\n",
    "<div style=\"width: 4%;\">\n",
    "</div>\n",
    "<div style=\"width: 48%; line-height: 1.3;color: grey;\">\n",
    "\n",
    "#### Übung\n",
    "\n",
    " Wie hoch ist die kinetische Energie eines 4.3 kg schweren Geschosses, das sich mit einer Geschwindigkeit von 1.2 m/s bewegt? Zur Erinnerung: Die kinetische Energie ist gegeben als: \n",
    "</div>\n",
    "</div>\n",
    "<div style=\"text-align: center; margin-top: 20px;\">\n",
    "\n",
    "$$\n",
    "K = \\frac{1}{2} m v^2\n",
    "$$\n",
    "</div>"
   ]
  },
  {
   "cell_type": "code",
   "execution_count": null,
   "metadata": {},
   "outputs": [],
   "source": [
    "#countdown\n",
    "countdown_timer(5)"
   ]
  },
  {
   "cell_type": "markdown",
   "metadata": {},
   "source": [
    "<div class=\"alert alert-block alert-warning\">\n",
    "\n",
    "<div style=\"display: flex; justify-content: space-between;\">\n",
    "<div style=\"width: 48%; line-height: 1.5;\">\n",
    "\n",
    "# Variables \n",
    "</div>\n",
    "<div style=\"width: 48%; line-height: 1.3;color: grey;\">\n",
    "\n",
    "# Variablen\n",
    "</div>\n",
    "</div>"
   ]
  },
  {
   "cell_type": "markdown",
   "metadata": {},
   "source": [
    "<div class=\"alert alert-block alert-light\">\n",
    "\n",
    "<div style=\"display: flex; justify-content: space-between;\">\n",
    "<div style=\"width: 48%; line-height: 1.5;\">\n",
    "\n",
    "#### Exercise\n",
    "\n",
    "The Arrhenius equation for the desorption rate of a molecule is given by:\n",
    "</div>\n",
    "<div style=\"width: 4%;\">\n",
    "</div>\n",
    "<div style=\"width: 48%; line-height: 1.3;color: grey;\">\n",
    "\n",
    "#### Übung\n",
    "\n",
    "Die Arrhenius-Gleichung für die Desorptionsrate eines Moleküls ist gegeben durch:\n",
    "</div>\n",
    "</div>\n",
    "<div style=\"text-align: center; margin-top: 20px;\">\n",
    "\n",
    "$$ k_d = \\nu \\cdot \\exp\\left(-\\frac{E_a}{k_B \\cdot T}\\right)$$\n",
    "</div>\n",
    "<div style=\"display: flex; justify-content: space-between;\">\n",
    "<div style=\"width: 48%; line-height: 1.5;\">\n",
    "Calculate the desorption temperature of a molecule with an adsorption energy of -0.875 eV. Use the following values:\n",
    "</div>\n",
    "<div style=\"width: 4%;\">\n",
    "</div>\n",
    "<div style=\"width: 48%; line-height: 1.3;color: grey;\">\n",
    "Berechnen Sie die Desorptionstemperatur eines Moleküls mit einer Adsorptionsenergie von -0.875 eV. Verwenden Sie die folgenden Werte:\n",
    "</div>\n",
    "</div>\n",
    "<div style=\"text-align: center; margin-top: 20px;\">\n",
    "\n",
    "$$ k_B = 8.617 \\cdot 10^{-5} \\, \\text{eV/K} $$\n",
    "\n",
    "$$ \\nu = 10^{13} \\, \\text{s}^{-1} $$\n",
    "\n",
    "$$ k_d = 1 \\, \\text{s}^{-1} $$\n",
    "</div>"
   ]
  },
  {
   "cell_type": "code",
   "execution_count": null,
   "metadata": {},
   "outputs": [],
   "source": [
    "countdown_timer(10)"
   ]
  },
  {
   "cell_type": "markdown",
   "metadata": {},
   "source": [
    "$$ T = - \\frac{E_a}{k_B \\ln(\\frac{k_d}{\\nu})} = \\frac{E_a}{k_B \\ln(\\frac{\\nu}{k_d})}$$"
   ]
  },
  {
   "cell_type": "code",
   "execution_count": null,
   "metadata": {},
   "outputs": [],
   "source": [
    "import math\n",
    "\n",
    "round(0.875 / (8.617e-5 * math.log(1e13 / 1.)), 2)"
   ]
  },
  {
   "cell_type": "code",
   "execution_count": null,
   "metadata": {},
   "outputs": [],
   "source": [
    "import math\n",
    "\n",
    "- 0.875 / (8.617e-5 * math.log(1. / 1e13)) == 0.875 / (8.617e-5 * math.log(1e13 / 1.))"
   ]
  },
  {
   "cell_type": "markdown",
   "metadata": {},
   "source": [
    "<div style=\"display: flex; justify-content: space-between;\">\n",
    "<div style=\"width: 48%; line-height: 1.5;\">\n",
    "\n",
    "Writing something like \n",
    "\n",
    "`0.875 / (8.617e-5 * math.log(1e13 / 1.))`\n",
    "\n",
    "can be a bit tedious, especially when we want to change values on the fly. \n",
    "\n",
    "It is very easy to miss an instance if you need to dig through your code every time. Furthermore, we might need to reuse those values or the result of our operation later on, and we do not want to copy and paste their numerical value every time.\n",
    "\n",
    "That is why we can assign *variables*</em>* to their values.\n",
    "Creating a variable in Python is extremely simple, all we need to do is use the `=` sign! Python automatically assigns a class (i.e., integer, float, string, etc.) to the variable.\n",
    "\n",
    "Once we have created a variable, we can use it anywhere else in our code, and its value will be substituted automatically:\n",
    "\n",
    "</div>\n",
    "<div style=\"width: 4%;\">\n",
    "</div>\n",
    "<div style=\"width: 48%; line-height: 1.3;color: grey;\">\n",
    "\n",
    "Es kann mühsam sein, etwas wie \n",
    "\n",
    "`0.875 / (8.617e-5 * math.log(1e13 / 1.))`\n",
    "\n",
    "zu schreiben, vor allem, wenn wir Werte spontan ändern wollen. \n",
    "\n",
    "Es ist sehr leicht, eine Instanz zu übersehen, wenn man jedes Mal seinen Code durchforsten muss. Außerdem kann es sein, dass wir diese Werte oder das Ergebnis unserer Operation zu einem späteren Zeitpunkt wiederverwenden müssen, und wir wollen nicht jedes Mal ihren numerischen Wert kopieren und einfügen\n",
    "\n",
    "Deshalb können wir *Variablen* ihre Werte zugewiesen.\n",
    "Eine Variable in Python zu erstellen ist extrem einfach, alles was wir tun müssen, ist das `=` Zeichen zu verwenden! Python weist der Variablen automatisch eine Klasse zu ( Integer, Float, String, etc.).\n",
    "\n",
    "Sobald wir eine Variable erstellt haben, können wir sie an jeder anderen Stelle in unserem Code verwenden, und ihr Wert wird automatisch ersetzt:\n",
    "\n",
    "</div>\n",
    "</div>"
   ]
  },
  {
   "cell_type": "code",
   "execution_count": null,
   "metadata": {},
   "outputs": [],
   "source": [
    "import math\n",
    "\n",
    "# Constants\n",
    "nu = 1e13  # Pre-exponential factor in s^-1\n",
    "k_B = 8.617e-5  # Boltzmann constant in eV/K\n",
    "k_d = 1.  # Desorption rate in s^-1\n",
    "\n",
    "# Adsorption energy\n",
    "E_a = 0.875\n",
    "\n",
    "# Calculate desorption temperature and assign that result to a variable named T\n",
    "T = E_a / (k_B * math.log(nu / k_d))\n",
    "\n",
    "print(f\"The desorption temperature is {T:.0f} K.\")"
   ]
  },
  {
   "cell_type": "markdown",
   "metadata": {},
   "source": [
    "<div style=\"display: flex; justify-content: space-between;\">\n",
    "<div style=\"width: 48%; line-height: 1.5;\">\n",
    "\n",
    "Once we have created a variable, we can use it anywhere else in our code, and its value will be substituted automatically:\n",
    "\n",
    "</div>\n",
    "<div style=\"width: 4%;\">\n",
    "</div>\n",
    "<div style=\"width: 48%; line-height: 1.3;color: grey;\">\n",
    "\n",
    "Sobald wir eine Variable erstellt haben, können wir sie an jeder anderen Stelle in unserem Code verwenden, und ihr Wert wird automatisch ersetzt:\n",
    "\n",
    "</div>\n",
    "</div>"
   ]
  },
  {
   "cell_type": "code",
   "execution_count": null,
   "metadata": {},
   "outputs": [],
   "source": [
    "# Let's see if Python remembers what we set earlier:\n",
    "\n",
    "print(nu)\n",
    "print(k_B)\n",
    "print(k_d)\n",
    "print(E_a)\n",
    "print(T)"
   ]
  },
  {
   "cell_type": "markdown",
   "metadata": {},
   "source": [
    "<div style=\"display: flex; justify-content: space-between;\">\n",
    "<div style=\"width: 48%; line-height: 1.5;\">\n",
    "\n",
    "In general, to work with a variable, you need to begin by selecting the name you want to use. Variable names are ideally short and descriptive. They also need to satisfy several requirements:\n",
    "\n",
    "- They cannot have spaces (e.g., `k B` is NOT allowed)\n",
    "\n",
    "- They can only include letters, numbers, and underscores (e.g., `k_B*` is NOT allowed)\n",
    "\n",
    "- They have to start with a letter or underscore (e.g., `1_k_B` is NOT allowed)\n",
    "   \n",
    "\n",
    "</div>\n",
    "<div style=\"width: 4%;\">\n",
    "</div>\n",
    "<div style=\"width: 48%; line-height: 1.3;color: grey;\">\n",
    "\n",
    "Um mit einer Variablen zu arbeiten, müssen Sie zunächst den Namen auswählen, den Sie verwenden möchten. Variablennamen sind idealerweise kurz und beschreibend. Sie müssen außerdem mehrere Anforderungen erfüllen:\n",
    "\n",
    "- Sie dürfen keine Leerzeichen enthalten (z.B. `k B` ist NICHT erlaubt)\n",
    "\n",
    "- Sie dürfen nur Buchstaben, Zahlen und Unterstriche enthalten (z.B. `k_B*` ist NICHT erlaubt)\n",
    "\n",
    "- Sie müssen mit einem Buchstaben oder Unterstrich beginnen ( `1_k_B` ist NICHT erlaubt)\n",
    "\n",
    "</div>\n",
    "</div>"
   ]
  },
  {
   "cell_type": "markdown",
   "metadata": {},
   "source": [
    "<div style=\"display: flex; justify-content: space-between;\">\n",
    "<div style=\"width: 48%; line-height: 1.5;\">\n",
    "\n",
    "Attempting to use a variable before you have created it will result in an error. This is a reason why the cells in a Jupyter notebook should be run in order.\n",
    "\n",
    "</div>\n",
    "<div style=\"width: 4%;\">\n",
    "</div>\n",
    "<div style=\"width: 48%; line-height: 1.3;color: grey;\">\n",
    "\n",
    "Wenn Sie versuchen, eine Variable zu verwenden, bevor Sie sie erstellt haben, führt dies zu einem Fehler. Dies ist ein Grund, warum die Zellen in einem Jupyter-Notebook in der richtigen Reihenfolge ausgeführt werden sollten.\n",
    "\n",
    "</div>\n",
    "</div>"
   ]
  },
  {
   "cell_type": "code",
   "execution_count": null,
   "metadata": {},
   "outputs": [],
   "source": [
    "undefined_variable"
   ]
  },
  {
   "cell_type": "markdown",
   "metadata": {},
   "source": [
    "<div style=\"display: flex; justify-content: space-between;\">\n",
    "<div style=\"width: 48%; line-height: 1.5;\">\n",
    "\n",
    "You can always change the value assigned to a variable by overriding the previous value.\n",
    "\n",
    "</div>\n",
    "<div style=\"width: 4%;\">\n",
    "</div>\n",
    "<div style=\"width: 48%; line-height: 1.3;color: grey;\">\n",
    "\n",
    "Sie können den einer Variablen zugewiesenen Wert jederzeit ändern, indem Sie den vorherigen Wert überschreiben.\n",
    "\n",
    "</div>\n",
    "</div>"
   ]
  },
  {
   "cell_type": "code",
   "execution_count": null,
   "metadata": {},
   "outputs": [],
   "source": [
    "# Set the value E_a\n",
    "E_a = 0.875\n",
    "\n",
    "# Print the value assigned to E_a\n",
    "print(E_a)\n",
    "\n",
    "# Change the value of the variable \n",
    "E_a = 1.3\n",
    "\n",
    "# Print the new value\n",
    "print(E_a)\n",
    "\n",
    "# Increase the current value by 0.222\n",
    "E_a = E_a + 0.222\n",
    "\n",
    "# Print the new value\n",
    "print(E_a)"
   ]
  },
  {
   "cell_type": "markdown",
   "metadata": {},
   "source": [
    "<div style=\"display: flex; justify-content: space-between;\">\n",
    "<div style=\"width: 48%; line-height: 1.5;\">\n",
    "\n",
    "Let's take the last expression, `E_a = E_a + 0.222`: \n",
    "\n",
    "It is important to realize that this does not represent some (impossible) mathematical equation to be solved for the number `E_a`, but is rather an instruction to take the value of `E_a`, add `0.222` to it, and then reassign (“rebind”) the name `E_a` to the result. \n",
    "\n",
    "The original value of `1.3` is then “forgotten”. \n",
    "\n",
    "Expressions like this are so common in programming that Python provides a shortcut (`+=`, so-called “augmented assignment”):\n",
    "\n",
    "</div>\n",
    "<div style=\"width: 4%;\">\n",
    "</div>\n",
    "<div style=\"width: 48%; line-height: 1.3;color: grey;\">\n",
    "\n",
    "Nehmen wir den letzten Ausdruck, `E_a = E_a + 0.222`: \n",
    "\n",
    "Es ist wichtig zu erkennen, dass dies keine (unmögliche) mathematische Gleichung darstellt, die für die Zahl `E_a` gelöst werden muss, sondern vielmehr eine Anweisung ist, den Wert von `E_a` zu nehmen, `0.222` dazu zu addieren und dann dem Ergebnis den Namen `E_a` neu zuzuweisen (\"rebind\"). \n",
    "\n",
    "Der ursprüngliche Wert von `1.3` ist dann \"vergessen\". \n",
    "\n",
    "Ausdrücke wie dieser kommen in der Programmierung so häufig vor, dass Python eine Abkürzung bereitstellt (`+=`, sogenannte \"erweiterte Zuweisung\"):\n",
    "\n",
    "</div>\n",
    "</div>"
   ]
  },
  {
   "cell_type": "code",
   "execution_count": null,
   "metadata": {},
   "outputs": [],
   "source": [
    "E_a = 1.3\n",
    "\n",
    "E_a += 0.222\n",
    "\n",
    "E_a"
   ]
  },
  {
   "cell_type": "code",
   "execution_count": null,
   "metadata": {},
   "outputs": [],
   "source": [
    "E_a -= 0.222\n",
    "\n",
    "E_a"
   ]
  },
  {
   "cell_type": "code",
   "execution_count": null,
   "metadata": {},
   "outputs": [],
   "source": [
    "E_a /= 2\n",
    "\n",
    "E_a"
   ]
  },
  {
   "cell_type": "code",
   "execution_count": null,
   "metadata": {},
   "outputs": [],
   "source": [
    "E_a *= 2\n",
    "\n",
    "E_a"
   ]
  },
  {
   "cell_type": "markdown",
   "metadata": {},
   "source": [
    "<div style=\"display: flex; justify-content: space-between;\">\n",
    "<div style=\"width: 48%; line-height: 1.5;\">\n",
    "\n",
    "Another useful shortcut is the use of comma-separated values (actually, tuples) to assign several variables at once, for example:\n",
    "\n",
    "</div>\n",
    "<div style=\"width: 4%;\">\n",
    "</div>\n",
    "<div style=\"width: 48%; line-height: 1.3;color: grey;\">\n",
    "\n",
    "Eine weitere nützliche Abkürzung ist die Verwendung von kommagetrennten Werten (eigentlich Tupeln), um beispielsweise mehrere Variablen auf einmal zuzuweisen:\n",
    "\n",
    "</div>\n",
    "</div>"
   ]
  },
  {
   "cell_type": "code",
   "execution_count": null,
   "metadata": {},
   "outputs": [],
   "source": [
    "nu, k_B, k_d, E_a = 1e13, 8.617e-5, 1., 0.875\n",
    "\n",
    "print(nu, k_B, k_d, E_a)"
   ]
  },
  {
   "cell_type": "markdown",
   "metadata": {},
   "source": [
    "<div class=\"alert alert-block alert-light\">\n",
    "\n",
    "<div style=\"display: flex; justify-content: space-between;\">\n",
    "<div style=\"width: 48%; line-height: 1.5;\">\n",
    "\n",
    "# Exercises\n",
    "</div>\n",
    "<div style=\"width: 4%;\">\n",
    "</div>\n",
    "<div style=\"width: 48%; line-height: 1.3;color: grey;\">\n",
    "\n",
    "# Übungen\n",
    "</div>\n",
    "</div>"
   ]
  },
  {
   "cell_type": "markdown",
   "metadata": {},
   "source": [
    "<div class=\"alert alert-block alert-light\">\n",
    "\n",
    "<div style=\"display: flex; justify-content: space-between;\">\n",
    "<div style=\"width: 48%; line-height: 1.5;\">\n",
    "\n",
    "####   1 \n",
    "The mole is defined as an Avogadro's number of anything.  For example, 1 mole (mol) of carbon atoms is equal to $6.022 \\cdot 10^{23}$ atoms. Calculate the number of moles of carbon atoms in a sample of $1.67 \\cdot 10^{24}$ carbon atoms. \n",
    "</div>\n",
    "<div style=\"width: 4%;\">\n",
    "</div>\n",
    "<div style=\"width: 48%; line-height: 1.5;color: grey;\">\n",
    "\n",
    "####   1 \n",
    "Das Mol ist definiert als die Avogadrosche Zahl von irgendetwas.  Zum Beispiel ist 1 Mol (mol) von Kohlenstoff-Atomen gleich $6.022 \\cdot 10^{23}$ Atome. Berechne die Anzahl der Mole der Kohlenstoffatome in einer Probe von $1.67 \\cdot 10^{24}$ Kohlenstoffatomen.\n",
    "</div>\n",
    "</div>"
   ]
  },
  {
   "cell_type": "code",
   "execution_count": null,
   "metadata": {},
   "outputs": [],
   "source": [
    "1.67e24 / 6.022e23"
   ]
  },
  {
   "cell_type": "markdown",
   "metadata": {},
   "source": [
    "<div class=\"alert alert-block alert-light\">\n",
    "\n",
    "<div style=\"display: flex; justify-content: space-between;\">\n",
    "<div style=\"width: 48%; line-height: 1.5;\">\n",
    "\n",
    "####   2 \n",
    "The periodic table shows valuable information for all known elements. Use variables to store the atomic masses (g/mol) for carbon, hydrogen, and oxygen, which are $12.011$, $1.008$, and $15.999$, respectively.\n",
    "</div>\n",
    "<div style=\"width: 4%;\">\n",
    "</div>\n",
    "<div style=\"width: 48%; line-height: 1.5;color: grey;\">\n",
    "\n",
    "####   2 \n",
    "Das Periodensystem enthält wertvolle Informationen für alle bekannten Elemente. Verwenden Sie Variablen, um die Atommassen (g/mol) für Kohlenstoff, Wasserstoff und Sauerstoff zu speichern, die $12.011$, $1.008$ bzw. $15.999$ betragen.\n",
    "</div>\n",
    "</div>"
   ]
  },
  {
   "cell_type": "code",
   "execution_count": null,
   "metadata": {},
   "outputs": [],
   "source": [
    "carbon = 12.011\n",
    "hydrogen = 1.008\n",
    "oxygen = 15.999"
   ]
  },
  {
   "cell_type": "markdown",
   "metadata": {},
   "source": [
    "<div class=\"alert alert-block alert-light\">\n",
    "\n",
    "<div style=\"display: flex; justify-content: space-between;\">\n",
    "<div style=\"width: 48%; line-height: 1.5;\">\n",
    "\n",
    "####   3 \n",
    "The atomic mass of carbon is $12.011\\, \\mathrm{g \\cdot mol^{-1}}$. This means that $1\\, \\mathrm{mol}$ of carbon is equal to $12.011\\, \\mathrm{g}$. Calculate the mass of $0.56$ mol of carbon using the variable you assigned for the carbon atomic mass.\n",
    "</div>\n",
    "<div style=\"width: 4%;\">\n",
    "</div>\n",
    "<div style=\"width: 48%; line-height: 1.5;color: grey;\">\n",
    "\n",
    "####   3 \n",
    "Die Atommasse von Kohlenstoff beträgt $12.011\\, \\mathrm{g \\cdot mol^{-1}}$. Das bedeutet, dass $1\\, \\mathrm{mol}$ Kohlenstoff $12.011\\, \\mathrm{g}$ entspricht. Berechnen Sie die Masse von $0.56$ Mol Kohlenstoff mit Hilfe der Variablen, die Sie für die Atommasse des Kohlenstoffs vergeben haben.\n",
    "</div>\n",
    "</div>"
   ]
  },
  {
   "cell_type": "code",
   "execution_count": null,
   "metadata": {},
   "outputs": [],
   "source": [
    "mass_carbon = 0.56 * carbon\n",
    "mass_carbon"
   ]
  },
  {
   "cell_type": "markdown",
   "metadata": {},
   "source": [
    "<div class=\"alert alert-block alert-light\">\n",
    "\n",
    "<div style=\"display: flex; justify-content: space-between;\">\n",
    "<div style=\"width: 48%; line-height: 1.5;\">\n",
    "\n",
    "####   4 \n",
    "The molar mass of a molecule is calculated by adding the atomic masses of all of the atoms in the molecule. Calculate the molar mass of glucose, $\\mathrm{C_6H_{12}O_6}$, using variables you assigned for the atomic masses of the elements in the molecule.\n",
    "</div>\n",
    "<div style=\"width: 4%;\">\n",
    "</div>\n",
    "<div style=\"width: 48%; line-height: 1.5;color: grey;\">\n",
    "\n",
    "####   4 \n",
    "Die molare Masse eines Moleküls wird durch Addition der Atommassen aller Atome des Moleküls berechnet. Berechnen Sie die molare Masse von Glucose $\\mathrm{C_6H_{12}O_6}$ mit Hilfe der Variablen, die Sie für die Atommassen der Elemente im Molekül vergeben haben.\n",
    "</div>\n",
    "</div>"
   ]
  },
  {
   "cell_type": "code",
   "execution_count": null,
   "metadata": {},
   "outputs": [],
   "source": [
    "molar_mass_glucose = (6 * carbon) + (12 * hydrogen) + (6 * oxygen)\n",
    "molar_mass_glucose"
   ]
  },
  {
   "cell_type": "markdown",
   "metadata": {},
   "source": [
    "<div class=\"alert alert-block alert-light\">\n",
    "\n",
    "<div style=\"display: flex; justify-content: space-between;\">\n",
    "<div style=\"width: 48%; line-height: 1.5;\">\n",
    "\n",
    "####   5 \n",
    "Use a variable to store the value of the atomic mass of glucose. Use this variable to calculate the number of moles contained in a $12.7\\, \\mathrm{g}$ sample of glucose. How many <i>molecules</i> of glucose are contained in the sample?\n",
    "</div>\n",
    "<div style=\"width: 4%;\">\n",
    "</div>\n",
    "<div style=\"width: 48%; line-height: 1.3;color: grey;\">\n",
    "\n",
    "####   5 \n",
    "Verwenden Sie eine Variable, um den Wert der Atommasse von Glukose zu speichern. Verwenden Sie diese Variable, um die Anzahl der Mole zu berechnen, die in einer $12.7\\, \\mathrm{g}$ schweren Glukoseprobe enthalten sind. Wie viele <i>Moleküle</i> von Glucose sind in der Probe enthalten?\n",
    "</div>\n",
    "</div>"
   ]
  },
  {
   "cell_type": "code",
   "execution_count": null,
   "metadata": {},
   "outputs": [],
   "source": [
    "mols_glucose = 12.7 / molar_mass_glucose\n",
    "\n",
    "molecules_glucose = mols_glucose * 6.022e23\n",
    "\n",
    "molecules_glucose"
   ]
  },
  {
   "cell_type": "markdown",
   "metadata": {},
   "source": [
    "<div class=\"alert alert-block alert-light\">\n",
    "\n",
    "<div style=\"display: flex; justify-content: space-between;\">\n",
    "<div style=\"width: 48%; line-height: 1.5;\">\n",
    "\n",
    "####   6 \n",
    "\n",
    "The concentration of hydronium ions, $\\mathrm{H_3O^+}$, can range over large magnitudes of concentration, therefore, this concentration is more readily represented using the <i>pH</i> scale, which is a logarithmic scale.  \n",
    "\n",
    "The relationship between the concentration of $\\mathrm{H_3O^+}$ and pH is given by the equation: \n",
    "</div>\n",
    "<div style=\"width: 4%;\">\n",
    "</div>\n",
    "<div style=\"width: 48%; line-height: 1.5;color: grey;\">\n",
    "\n",
    "####   6 \n",
    "Die Konzentration von Hydronium-Ionen, $\\mathrm{H_3O^+}$, kann sich über große Konzentrationsbereiche erstrecken, daher lässt sich diese Konzentration besser mit der <i>pH</i>-Skala darstellen, die eine logarithmische Skala ist.  \n",
    "\n",
    "Die Beziehung zwischen der Konzentration von $\\mathrm{H_3O^+}$ und dem pH-Wert wird durch die folgende Gleichung dargestellt: \n",
    "</div>\n",
    "</div>\n",
    "<div style=\"text-align: center; margin-top: 20px;\">\n",
    "\n",
    "$$\n",
    "\\mathrm{pH = - \\log \\left[ H_3O^+ \\right]}\n",
    "$$\n",
    "</div>\n",
    "<div style=\"display: flex; justify-content: space-between;\">\n",
    "<div style=\"width: 48%; line-height: 1.5;\">\n",
    "where log is the logarithm to the base 10. \n",
    "\n",
    "Calculate the pH of a solution containing $\\mathrm{\\left[ H_3O^+ \\right] = 5.3 \\cdot 10^{-3} M}$. \n",
    "\n",
    "Note: Molarity $\\mathrm{M}$ (mole of solute per liter of solution) is the unit of concentration used when calculating pH. \n",
    "</div>\n",
    "<div style=\"width: 4%;\">\n",
    "</div>\n",
    "<div style=\"width: 48%; line-height: 1.5;color: grey;\">\n",
    "wobei log der Logarithmus zur Basis 10 ist. \n",
    "\n",
    "Berechnen Sie den pH-Wert einer Lösung mit $\\mathrm{\\left[ H_3O^+ \\right] = 5.3 \\cdot 10^{-3} M}$. \n",
    "\n",
    "Anmerkung: Die Molarität $\\mathrm{M}$ (Mol der gelösten Substanz pro Liter Lösung) ist die Konzentrationseinheit, die bei der Berechnung des pH-Wertes verwendet wird.\n",
    "</div>\n",
    "</div>"
   ]
  },
  {
   "cell_type": "code",
   "execution_count": null,
   "metadata": {},
   "outputs": [],
   "source": [
    "import math\n",
    "\n",
    "M = 5.3e-3\n",
    "\n",
    "pH = -math.log10(M)\n",
    "\n",
    "round(pH, 2)"
   ]
  },
  {
   "cell_type": "markdown",
   "metadata": {},
   "source": [
    "<div class=\"alert alert-block alert-light\">\n",
    "\n",
    "<div style=\"display: flex; justify-content: space-between;\">\n",
    "<div style=\"width: 48%; line-height: 1.5;\">\n",
    "\n",
    "####   7 \n",
    "\n",
    "How many molecules of water are there in a $250\\, \\mathrm{mL}$ glass of water?\n",
    "Use the following values for the density and the molar mass:\n",
    "</div>\n",
    "<div style=\"width: 4%;\">\n",
    "</div>\n",
    "<div style=\"width: 48%; line-height: 1.5;color: grey;\">\n",
    "\n",
    "####   7 \n",
    "\n",
    "Wie viele Wassermoleküle befinden sich in einem $250\\, \\mathrm{mL}$ Glas Wasser?\n",
    "Verwenden Sie die folgenden Werte für die Dichte und die molare Masse:\n",
    "</div>\n",
    "</div>\n",
    "<div style=\"text-align: center; margin-top: 20px;\">\n",
    "\n",
    "$$\n",
    "\\rho = 1\\, \\mathrm{g \\cdot cm^{-3}}\n",
    "$$\n",
    "$$\n",
    "M = 18\\, \\mathrm{g \\cdot mol^{-1}}\n",
    "$$"
   ]
  },
  {
   "cell_type": "code",
   "execution_count": null,
   "metadata": {},
   "outputs": [],
   "source": [
    "N_A = 6.022e23  # Avogadro constant\n",
    "V = 250 # V = 250 mL = 250 cm^3\n",
    "rho = 1 # density\n",
    "molar_mass = 18 # molar mass\n",
    "\n",
    "mass = V * rho\n",
    "\n",
    "moles = mass / molar_mass\n",
    "\n",
    "molecules = moles * N_A\n",
    "\n",
    "molecules\n"
   ]
  },
  {
   "cell_type": "markdown",
   "metadata": {},
   "source": [
    "<div class=\"alert alert-block alert-light\">\n",
    "\n",
    "<div style=\"display: flex; justify-content: space-between;\">\n",
    "<div style=\"width: 48%; line-height: 1.5;\">\n",
    "\n",
    "####  8 \n",
    "\n",
    "The speed of sound in a gas of molar mass M at temperature T is:\n",
    "</div>\n",
    "<div style=\"width: 4%;\">\n",
    "</div>\n",
    "<div style=\"width: 48%; line-height: 1.5;color: grey;\">\n",
    "\n",
    "####  8 \n",
    "\n",
    "Die Schallgeschwindigkeit in einem Gas der molaren Masse M bei der Temperatur T ist:\n",
    "</div>\n",
    "</div>\n",
    "<div style=\"text-align: center; margin-top: 20px;\">\n",
    "\n",
    "$$\n",
    "c = \\sqrt{\\frac{\\gamma R T}{M}},\n",
    "$$\n",
    "</div>\n",
    "<div style=\"display: flex; justify-content: space-between;\">\n",
    "<div style=\"width: 48%; line-height: 1.5;\">\n",
    "\n",
    "where $R$ is the gas constant, $M$ is the molar mass, and $\\gamma$ is the adiabatic index, defined as the ratio of the heat capacities $\\frac{C_p}{C_V}$. (Don’t worry, you weren’t expected to know that!) For air, $\\gamma = \\frac{7}{5}$.\n",
    "\n",
    "Estimate the speed of sound in air at the following temperatures:\n",
    "\n",
    "- $25^{\\circ}\\, \\mathrm{C}$\n",
    "- $-20^{\\circ}\\, \\mathrm{C}$\n",
    "\n",
    "Please note that according to SI units, $c$ should be in $\\mathrm{m \\cdot s^{-1}}$, and that implies expressing $M$ in $\\mathrm{Kg \\cdot mol^{-1}}$ and the temperature in Kelvin.\n",
    "</div>\n",
    "<div style=\"width: 4%;\">\n",
    "</div>\n",
    "<div style=\"width: 48%; line-height: 1.5;color: grey;\">\n",
    "\n",
    "wobei ist $R$ die Gaskonstante, $M$ die molare Masse und $\\gamma$ der adiabatische Index, definiert als das Verhältnis der Wärmekapazitäten $\\frac{C_p}{C_V}$. (Keine Sorge, das sollten Sie nicht wissen!) Für Luft ist $\\gamma = \\frac{7}{5}$.\n",
    "\n",
    "Schätzen Sie die Schallgeschwindigkeit in Luft bei den folgenden Temperaturen:\n",
    "\n",
    "- $25^{\\circ}\\, \\mathrm{C}$\n",
    "- $-20^{\\circ}\\, \\mathrm{C}$\n",
    "\n",
    "Bitte beachten Sie, dass nach den SI-Einheiten $c$ in $\\mathrm{m \\cdot s^{-1}}$ angegeben werden sollte, was bedeutet, dass $M$ in $\\mathrm{Kg \\cdot mol^{-1}}$ und die Temperatur in Kelvin ausgedrückt werden.\n",
    "</div>\n",
    "</div>"
   ]
  },
  {
   "cell_type": "code",
   "execution_count": null,
   "metadata": {},
   "outputs": [],
   "source": [
    "R = 8.314   # gas constant in J K / mol\n",
    "molar_mass = 29/1000# M in kg/mol\n",
    "gamma = 7/5 # gamma\n",
    "\n",
    "T_1 = 25 + 273  # T_1 in Kelvin\n",
    "T_2 = -20 + 273  # T_2 in Kelvin\n",
    "\n",
    "c_1 = math.sqrt((gamma * R * T_1)/molar_mass)\n",
    "print(round(c_1)) \n",
    "\n",
    "c_2 = math.sqrt((gamma * R * T_2)/molar_mass)\n",
    "print(round(c_2)) "
   ]
  },
  {
   "cell_type": "markdown",
   "metadata": {},
   "source": [
    "<div class=\"alert alert-block alert-light\">\n",
    "\n",
    "<div style=\"display: flex; justify-content: space-between;\">\n",
    "<div style=\"width: 48%; line-height: 1.5;\">\n",
    "\n",
    "####   9 \n",
    "\n",
    "Calculate the gravitational force that attracts two bodies with masses $M$ and $m$:\n",
    "</div>\n",
    "<div style=\"width: 4%;\">\n",
    "</div>\n",
    "<div style=\"width: 48%; line-height: 1.3;color: grey;\">\n",
    "\n",
    "####   9 \n",
    "\n",
    "Berechnen Sie die Gravitationskraft, die zwei Körper mit den Massen $M$ und $m$ anzieht:\n",
    "</div>\n",
    "</div>\n",
    "<div style=\"text-align: center; margin-top: 20px;\">\n",
    "\n",
    "$$\n",
    "F_g= - \\frac{G \\cdot M \\cdot m}{r^2}.\n",
    "$$\n",
    "</div>\n",
    "<div style=\"display: flex; justify-content: space-between;\">\n",
    "<div style=\"width: 48%; line-height: 1.5;\">\n",
    "\n",
    "Use the following values (what are they? can you guess?):\n",
    "</div>\n",
    "<div style=\"width: 4%;\">\n",
    "</div>\n",
    "<div style=\"width: 48%; line-height: 1.3;color: grey;\">\n",
    "\n",
    "Verwenden Sie die folgenden Werte (Was sind sie? Können Sie es erraten?):\n",
    "</div>\n",
    "</div>\n",
    "<div style=\"text-align: center; margin-top: 20px;\">\n",
    "\n",
    "$$ G = 6.67430 \\cdot 10^{-11} \\, \\text{m}^3 \\cdot \\mathrm{Kg}^{-1\\cdot} \\text{s}^{-2} \n",
    "$$\n",
    "$$\n",
    "M = 5.972 \\cdot 10^{24} \\, \\mathrm{Kg}\n",
    "$$\n",
    "$$\n",
    "m = 7.348 \\cdot 10^{22} \\, \\mathrm{Kg}\n",
    "$$\n",
    "$$\n",
    "r = 3.844 \\cdot 10^{8} \\, \\mathrm{m}$$\n",
    "</div>"
   ]
  },
  {
   "cell_type": "code",
   "execution_count": 1,
   "metadata": {},
   "outputs": [
    {
     "name": "stdout",
     "output_type": "stream",
     "text": [
      "The gravitational force between the Earth and the Moon is approximately -1.98e+20 N\n"
     ]
    }
   ],
   "source": [
    "# Constants\n",
    "G = 6.67430e-11  # Gravitational constant in m^3 kg^-1 s^-2\n",
    "M = 5.972e24  # Mass of Earth in kg\n",
    "m = 7.348e22  # Mass of Moon in kg\n",
    "r = 3.844e8  # Average distance between Earth and Moon in meters\n",
    "\n",
    "# Compute the force\n",
    "F = - G * (M * m) / r**2\n",
    "\n",
    "# Print the result\n",
    "print(f\"The gravitational force between the Earth and the Moon is approximately {F:.2e} N\")"
   ]
  }
 ],
 "metadata": {
  "kernelspec": {
   "display_name": "base",
   "language": "python",
   "name": "python3"
  },
  "language_info": {
   "codemirror_mode": {
    "name": "ipython",
    "version": 3
   },
   "file_extension": ".py",
   "mimetype": "text/x-python",
   "name": "python",
   "nbconvert_exporter": "python",
   "pygments_lexer": "ipython3",
   "version": "3.10.14"
  }
 },
 "nbformat": 4,
 "nbformat_minor": 2
}
