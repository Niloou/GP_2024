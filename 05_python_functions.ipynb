{
 "cells": [
  {
   "cell_type": "code",
   "execution_count": 1,
   "metadata": {},
   "outputs": [],
   "source": [
    "from IPython.display import display, clear_output, HTML\n",
    "import time\n",
    "\n",
    "def countdown_timer(minutes):\n",
    "    total_seconds = minutes * 60\n",
    "    for seconds in range(total_seconds, 0, -1):\n",
    "        mins, secs = divmod(seconds, 60)\n",
    "        time_str = f\"{mins:02}'{secs:02}''\"\n",
    "        clear_output(wait=True)\n",
    "        # HTML with styling\n",
    "        display(HTML(f'<div style=\"font-size: 24px; color: blue; font-weight: bold;\">Time remaining: {time_str}</div>'))\n",
    "        time.sleep(1)\n",
    "    clear_output(wait=True)\n",
    "    # Final message with different styling\n",
    "    display(HTML('<div style=\"font-size: 24px; color: green; font-weight: bold;\">Time\\'s up!</div>'))"
   ]
  },
  {
   "cell_type": "markdown",
   "metadata": {},
   "source": [
    "<div style=\"text-align: center;\">\n",
    "    <img src=\"https://upload.wikimedia.org/wikipedia/commons/thumb/f/f8/Python_logo_and_wordmark.svg/972px-Python_logo_and_wordmark.svg.png?20210516005643\" alt=\"The Python logo\" style=\"width: 60%; max-width: 500px;\">\n",
    "</div>"
   ]
  },
  {
   "cell_type": "markdown",
   "metadata": {},
   "source": [
    "<div class=\"alert alert-block alert-warning\">\n",
    "\n",
    "<div style=\"display: flex; justify-content: space-between;\">\n",
    "<div style=\"width: 48%; line-height: 1.3;\">\n",
    "\n",
    "# Functions \n",
    "</div>\n",
    "<div style=\"width: 48%; line-height: 1.3;color: grey;\">\n",
    "\n",
    "# Funktionen\n",
    "</div>\n",
    "</div>"
   ]
  },
  {
   "cell_type": "markdown",
   "metadata": {},
   "source": [
    "<div style=\"display: flex; justify-content: space-between;\">\n",
    "<div style=\"width: 48%; line-height: 1.3;\">\n",
    "        \n",
    "The code we've written so far lacks reusability. \n",
    "\n",
    "To enhance this, it's useful to organize code into named blocks, or functions, that can be called repeatedly, potentially with different inputs. \n",
    "\n",
    "Writing functions not only improves code portability and reduces repetition but also simplifies complex tasks into smaller, more manageable pieces. \n",
    "\n",
    "This leads to code that is easier to understand, maintain, and debug.\n",
    "        \n",
    "</div>\n",
    "<div style=\"width: 48%; line-height: 1.3;color: grey;\">\n",
    "        \n",
    "Dem Code, den wir bisher geschrieben haben, mangelt es an Wiederverwendbarkeit. \n",
    "\n",
    "Um dies zu verbessern, ist es nützlich, den Code in benannte Blöcke oder Funktionen zu gliedern, die wiederholt aufgerufen werden können, möglicherweise mit unterschiedlichen Eingaben. \n",
    "Das Schreiben von Funktionen verbessert nicht nur die Übertragbarkeit des Codes und reduziert Wiederholungen, sondern vereinfacht auch komplexe Aufgaben in kleinere, besser handhabbare Teile. \n",
    "\n",
    "Dies führt zu Code, der leichter zu verstehen, zu warten und zu debuggen ist.\n",
    "        \n",
    "</div>\n",
    "</div>"
   ]
  },
  {
   "cell_type": "markdown",
   "metadata": {},
   "source": [
    "<div style=\"display: flex; justify-content: space-between;\">\n",
    "<div style=\"width: 48%; line-height: 1.3;\">\n",
    "        \n",
    "A function is defined with a `def` statement which gives it a name and specifies any <i>arguments</i> that it takes in brackets, followed by a colon. \n",
    "\n",
    "The body of the function is indented by 4 spaces. \n",
    "        \n",
    "</div>\n",
    "<div style=\"width: 48%; line-height: 1.3;color: grey;\">\n",
    "        \n",
    "Eine Funktion wird mit einer `def`-Anweisung definiert, die ihr einen Namen gibt und alle <i>Argumente</i> angibt, die sie in Klammern, gefolgt von einem Doppelpunkt, annimmt.\n",
    "\n",
    "Der Körper der Funktion wird um 4 Leerzeichen eingerückt.\n",
    "        \n",
    "</div>\n",
    "</div>"
   ]
  },
  {
   "cell_type": "markdown",
   "metadata": {},
   "source": [
    "```python\n",
    "def <function_name>(<[arguments]>):\n",
    "    <body>\n",
    "    return <value>\n",
    "```"
   ]
  },
  {
   "cell_type": "markdown",
   "metadata": {},
   "source": [
    "<div style=\"display: flex; justify-content: space-between;\">\n",
    "<div style=\"width: 48%; line-height: 1.3;\">\n",
    "        \n",
    "When called, the function’s statements are executed; if the `return` keyword is encountered at any point, the specified values are returned to the caller:\n",
    "        \n",
    "</div>\n",
    "<div style=\"width: 48%; line-height: 1.3;color: grey;\">\n",
    "        \n",
    "Wenn die Funktion aufgerufen wird, werden die Anweisungen der Funktion ausgeführt; wenn das Schlüsselwort `return` an irgendeiner Stelle auftaucht, werden die angegebenen Werte an den Aufrufer zurückgegeben:\n",
    "        \n",
    "</div>\n",
    "</div>"
   ]
  },
  {
   "cell_type": "code",
   "execution_count": 5,
   "metadata": {},
   "outputs": [
    {
     "data": {
      "text/plain": [
       "'Hello, World!'"
      ]
     },
     "execution_count": 5,
     "metadata": {},
     "output_type": "execute_result"
    }
   ],
   "source": [
    "# Defining the function:\n",
    "def hello_world():\n",
    "    return(\"Hello, World!\")\n",
    "\n",
    "\n",
    "# Calling the function:\n",
    "hello_world()"
   ]
  },
  {
   "cell_type": "markdown",
   "metadata": {},
   "source": [
    "<div style=\"display: flex; justify-content: space-between;\">\n",
    "<div style=\"width: 48%; line-height: 1.3;\">\n",
    "        \n",
    "The function `hello_world` does not accept any arguments, but often we want functions to take input so they can operate on different values. To achieve this, you simply need to specify the argument inside the parentheses when defining the function.\n",
    "        \n",
    "</div>\n",
    "<div style=\"width: 48%; line-height: 1.3;color: grey;\">\n",
    "        \n",
    "The function `hello_world` does not accept any arguments, but often we want functions to take input so they can operate on different values. To achieve this, you simply need to specify the argument inside the parentheses when defining the function.\n",
    "        \n",
    "</div>\n",
    "</div>"
   ]
  },
  {
   "cell_type": "markdown",
   "metadata": {},
   "source": [
    "<div class=\"alert alert-block alert-light\">\n",
    "\n",
    "<div style=\"display: flex; justify-content: space-between;\">\n",
    "<div style=\"width: 48%; line-height: 1.3;\">\n",
    "\n",
    "#### Exercise\n",
    "\n",
    "Write a function that takes a number `x` as an argument and returns its cube.\n",
    "\n",
    "Test the function on a number of your choice.\n",
    "</div>\n",
    "<div style=\"width: 48%; line-height: 1.3;color: grey;\">\n",
    "\n",
    "#### Übung\n",
    "\n",
    "Schreiben Sie eine Funktion, die eine Zahl `x` als Argument nimmt und ihren Kubus zurückgibt.\n",
    "\n",
    "Testen Sie die Funktion mit einer Zahl Ihrer Wahl.\n",
    "</div>\n",
    "</div>"
   ]
  },
  {
   "cell_type": "code",
   "execution_count": null,
   "metadata": {},
   "outputs": [],
   "source": [
    "#countdown\n",
    "countdown_timer(5)"
   ]
  },
  {
   "cell_type": "code",
   "execution_count": 7,
   "metadata": {},
   "outputs": [
    {
     "data": {
      "text/plain": [
       "27"
      ]
     },
     "execution_count": 7,
     "metadata": {},
     "output_type": "execute_result"
    }
   ],
   "source": [
    "def cube(x):\n",
    "    x_cube = x**3\n",
    "    return x_cube\n",
    "\n",
    "cube(3)"
   ]
  },
  {
   "cell_type": "markdown",
   "metadata": {},
   "source": [
    "<div style=\"display: flex; justify-content: space-between;\">\n",
    "<div style=\"width: 48%; line-height: 1.3;\">\n",
    "    \n",
    "####  Passing multiple arguments \n",
    "        \n",
    "The function `cube` takes a single argument, `x` (the number to be cubed), and returns a single value (its cube). \n",
    "Of course, you can pass multiple arguments to a function. \n",
    "Simply list the arguments inside the parentheses, separated by commas, allowing the function to work with more than one input.\n",
    "        \n",
    "</div>\n",
    "<div style=\"width: 48%; line-height: 1.3;color: grey;\">\n",
    "    \n",
    "####  Mehrere Argumente übergeben \n",
    "        \n",
    "The function `cube` takes a single argument, `x` (the number to be cubed), and returns a single value (its cube). \n",
    "Of course, you can pass multiple arguments to a function. \n",
    "Simply list the arguments inside the parentheses, separated by commas, allowing the function to work with more than one input.\n",
    "        \n",
    "</div>\n",
    "</div>"
   ]
  },
  {
   "cell_type": "markdown",
   "metadata": {},
   "source": [
    "<div class=\"alert alert-block alert-light\">\n",
    "\n",
    "<div style=\"display: flex; justify-content: space-between;\">\n",
    "<div style=\"width: 48%; line-height: 1.3;\">\n",
    "\n",
    "#### Exercise\n",
    "\n",
    "Write a function that takes two numbers `r` and `h` as arguments and returns the volume of a cylinder, $V = \\pi r^2 h$.\n",
    "\n",
    "Test the function on two numbers of your choice.\n",
    "</div>\n",
    "<div style=\"width: 48%; line-height: 1.3;color: grey;\">\n",
    "\n",
    "#### Übung\n",
    "\n",
    "Schreiben Sie eine Funktion, die zwei Zahlen `r` und `h` als Argumente annimmt und das Volumen eines Zylinders, $V = \\pi r^2 h$, zurückgibt.\n",
    "\n",
    "Testen Sie die Funktion mit zwei Zahlen Ihrer Wahl.\n",
    "</div>\n",
    "</div>"
   ]
  },
  {
   "cell_type": "markdown",
   "metadata": {},
   "source": [
    "<div class=\"alert alert-block alert-light\">\n",
    "\n",
    "<div style=\"display: flex; justify-content: space-between;\">\n",
    "<div style=\"width: 48%; line-height: 1.3;\">\n",
    "\n",
    "#### Exercise\n",
    "\n",
    "Write a function that takes the lengths of the two shorter sides of a right triangle as input and returns the length of the hypotenuse.\n",
    "\n",
    "Test the function on two numbers of your choice.\n",
    "</div>\n",
    "<div style=\"width: 48%; line-height: 1.3;color: grey;\">\n",
    "\n",
    "#### Übung\n",
    "\n",
    "Write a function that takes the lengths of the two shorter sides of a right triangle as input and returns the length of the hypotenuse.\n",
    "\n",
    "Testen Sie die Funktion mit zwei Zahlen Ihrer Wahl.\n",
    "</div>\n",
    "</div>"
   ]
  },
  {
   "cell_type": "code",
   "execution_count": null,
   "metadata": {},
   "outputs": [],
   "source": [
    "#countdown\n",
    "countdown_timer(10)"
   ]
  },
  {
   "cell_type": "code",
   "execution_count": 2,
   "metadata": {},
   "outputs": [
    {
     "data": {
      "text/plain": [
       "62.83185307179586"
      ]
     },
     "execution_count": 2,
     "metadata": {},
     "output_type": "execute_result"
    }
   ],
   "source": [
    "import math \n",
    "\n",
    "def cylinder(r,h):\n",
    "    V = math.pi * r**2 * h\n",
    "    return V\n",
    "\n",
    "cylinder(2,5)"
   ]
  },
  {
   "cell_type": "code",
   "execution_count": 17,
   "metadata": {},
   "outputs": [
    {
     "data": {
      "text/plain": [
       "5.0"
      ]
     },
     "execution_count": 17,
     "metadata": {},
     "output_type": "execute_result"
    }
   ],
   "source": [
    "def pythagoras(a,b):\n",
    "    c = math.sqrt(a**2 + b**2)\n",
    "    return c\n",
    "\n",
    "pythagoras(3,4)"
   ]
  },
  {
   "cell_type": "markdown",
   "metadata": {},
   "source": [
    "<div style=\"display: flex; justify-content: space-between;\">\n",
    "<div style=\"width: 48%; line-height: 1.3;\">\n",
    "        \n",
    "<i>In Python, you should write `return c` rather than `return(c)`.\n",
    "\n",
    "Both will work in practice, but `return c` is the preferred syntax according to the Python style guide (PEP 8). \n",
    "\n",
    "This is because `return` is not a function, so parentheses are unnecessary. \n",
    "\n",
    "The parentheses in `return(c)` might confuse readers into thinking `return` is a function, which it is not.</i>\n",
    "        \n",
    "</div>\n",
    "<div style=\"width: 48%; line-height: 1.3;color: grey;\">\n",
    "        \n",
    "<i>In Python sollte man `return c` und nicht `return(c)` schreiben.\n",
    "\n",
    "Beide funktionieren in der Praxis, aber `return c` ist die bevorzugte Syntax nach dem Python Style Guide (PEP 8).\n",
    "\n",
    "Das liegt daran, dass `return` keine Funktion ist, so dass Klammern unnötig sind.\n",
    "\n",
    "Die Klammern in `return(c)` könnten den Leser zu der Annahme verleiten, dass `return` eine Funktion ist, was nicht der Fall ist.</i>\n",
    "        \n",
    "</div>\n",
    "</div>"
   ]
  },
  {
   "cell_type": "markdown",
   "metadata": {},
   "source": [
    "<div style=\"display: flex; justify-content: space-between;\">\n",
    "<div style=\"width: 48%; line-height: 1.3;\">\n",
    "\n",
    "####  Returning multiple values \n",
    "        \n",
    "And, of course, to return two or more values from a function, separate them by commas in the `return` statement.\n",
    "        \n",
    "</div>\n",
    "<div style=\"width: 48%; line-height: 1.3;color: grey;\">\n",
    "  \n",
    "####  Mehrere Werte zurückgeben \n",
    "        \n",
    "Wenn Sie zwei oder mehr Werte aus einer Funktion zurückgeben möchten, trennen Sie diese durch Kommas in der `return`-Anweisung.\n",
    "        \n",
    "</div>\n",
    "</div>"
   ]
  },
  {
   "cell_type": "markdown",
   "metadata": {},
   "source": [
    "<div class=\"alert alert-block alert-light\">\n",
    "\n",
    "<div style=\"display: flex; justify-content: space-between;\">\n",
    "<div style=\"width: 48%; line-height: 1.3;\">\n",
    "        #### Exercise\n",
    "\n",
    "Recall the quadratic formula and define a function that takes the polynomial coefficients `a`, `b`, and `c` as arguments, then returns the roots of the equation.\n",
    "</div>\n",
    "<div style=\"width: 48%; line-height: 1.3;color: grey;\">\n",
    "        #### Übung\n",
    "\n",
    "Erinnern Sie sich an die quadratische Formel und definieren Sie eine Funktion, die die Polynomkoeffizienten `a`, `b` und `c` als Argumente nimmt und dann die Wurzeln der Gleichung zurückgibt.\n",
    "</div>\n",
    "</div>\n",
    "<div style=\"text-align: center; margin-top: 20px;\">\n",
    "\n",
    "$$\n",
    "ax^2 + bx + c = 0  \\implies x_{1,2} = \\frac{-b \\pm \\sqrt{b^2 - 4ac}}{2a}\n",
    "$$\n",
    "</div>"
   ]
  },
  {
   "cell_type": "code",
   "execution_count": null,
   "metadata": {},
   "outputs": [],
   "source": [
    "#countdown\n",
    "countdown_timer(5)"
   ]
  },
  {
   "cell_type": "code",
   "execution_count": 3,
   "metadata": {},
   "outputs": [
    {
     "data": {
      "text/plain": [
       "(2.0, -5.0)"
      ]
     },
     "execution_count": 3,
     "metadata": {},
     "output_type": "execute_result"
    }
   ],
   "source": [
    "def roots(a, b, c):\n",
    "    d = b**2 - 4*a*c \n",
    "    r1 = (-b + math.sqrt(d)) / 2 / a \n",
    "    r2 = (-b - math.sqrt(d)) / 2 / a \n",
    "    return r1, r2\n",
    "\n",
    "roots(1,3,-10)"
   ]
  },
  {
   "cell_type": "code",
   "execution_count": 6,
   "metadata": {},
   "outputs": [
    {
     "data": {
      "text/plain": [
       "tuple"
      ]
     },
     "execution_count": 6,
     "metadata": {},
     "output_type": "execute_result"
    }
   ],
   "source": [
    "type(roots(1,3,-10))"
   ]
  },
  {
   "cell_type": "markdown",
   "metadata": {},
   "source": [
    "<div style=\"display: flex; justify-content: space-between;\">\n",
    "<div style=\"width: 48%; line-height: 1.3;\">\n",
    "        \n",
    "When you use `return` followed by multiple values separated by commas (e.g., `return r1, r2`), Python internally groups (<i>packs</i>) these values into a **tuple**.\n",
    "\n",
    "This means that the multiple values are stored in a single tuple object, which can then be unpacked later if needed.\n",
    "\n",
    "You can also unpack the tuple directly into variables:\n",
    "        \n",
    "</div>\n",
    "<div style=\"width: 48%; line-height: 1.3;color: grey;\">\n",
    "        \n",
    "Wenn Sie `return` gefolgt von mehreren durch Kommas getrennten Werten verwenden (z.B. `return r1, r2`), gruppiert (<i>packt</i>) Python intern diese Werte in ein **Tupel**.\n",
    "\n",
    "Das bedeutet, dass mehrere Werte in einem einzigen Tupel-Objekt gespeichert werden, das dann später bei Bedarf wieder entpackt werden kann.\n",
    "\n",
    "Sie können das Tupel auch direkt in Variablen entpacken:\n",
    "        \n",
    "</div>\n",
    "</div>"
   ]
  },
  {
   "cell_type": "code",
   "execution_count": 21,
   "metadata": {},
   "outputs": [
    {
     "name": "stdout",
     "output_type": "stream",
     "text": [
      "2.0\n",
      "-5.0\n"
     ]
    }
   ],
   "source": [
    "r1, r2 = roots(1,3,-10)\n",
    "\n",
    "print(r1)\n",
    "print(r2)"
   ]
  },
  {
   "cell_type": "markdown",
   "metadata": {},
   "source": [
    "<div style=\"display: flex; justify-content: space-between;\">\n",
    "<div style=\"width: 48%; line-height: 1.3;\">\n",
    "        \n",
    "<i>You technically can use tuple indexing to access individual elements of a tuple, but it’s not as efficient or readable when trying to \"unpack\" the values. \n",
    "\n",
    "Tuple unpacking and tuple indexing are two different approaches, and they serve different purposes.\n",
    "\n",
    "Tuple unpacking is the preferred and cleaner method when you know the exact number of elements in the tuple. \n",
    "\n",
    "It allows you to directly assign values to multiple variables in a single step, making the code more readable.</i>\n",
    "        \n",
    "</div>\n",
    "<div style=\"width: 48%; line-height: 1.3;color: grey;\">\n",
    "        \n",
    "<i>Technisch gesehen kann man die Tupel-Indizierung verwenden, um auf einzelne Elemente eines Tupels zuzugreifen, aber es ist nicht so effizient oder lesbar, wenn man versucht, die Werte \"auszupacken\". \n",
    "\n",
    "Tupel-Entpacken und Tupel-Indizierung sind zwei verschiedene Ansätze, die unterschiedlichen Zwecken dienen.\n",
    "\n",
    "Das Entpacken von Tupeln ist die bevorzugte und sauberere Methode, wenn Sie die genaue Anzahl der Elemente in einem Tupel kennen. \n",
    "\n",
    "Sie ermöglicht es Ihnen, mehreren Variablen in einem einzigen Schritt direkt Werte zuzuweisen, was den Code lesbarer macht.</i>\n",
    "        \n",
    "</div>\n",
    "</div>"
   ]
  },
  {
   "cell_type": "markdown",
   "metadata": {},
   "source": [
    "<div style=\"display: flex; justify-content: space-between;\">\n",
    "<div style=\"width: 48%; line-height: 1.3;\">\n",
    "\n",
    "## Keywords Arguments\n",
    "        \n",
    "So far, we have used <i>positional arguments</i> when calling functions, where the values are assigned based on the order in which they are passed. </br>\n",
    "\n",
    "For example, `roots(1, 3, -10)` calls the function with `a=1, b=3, c=-10`. \n",
    "\n",
    "Alternatively, you can pass values in any order by using <i>keyword arguments</i>, which explicitly assign values to specific parameters by name.\n",
    "        \n",
    "</div>\n",
    "<div style=\"width: 48%; line-height: 1.3;color: grey;\">\n",
    "\n",
    "## Schlüsselwort-Argumente\n",
    "        \n",
    "Bislang haben wir beim Aufruf von Funktionen <i>Positionsargumente</i> verwendet, bei denen die Werte in der Reihenfolge der Übergabe zugewiesen werden.\n",
    "\n",
    "Zum Beispiel ruft `roots(1, 3, -10)` die Funktion mit `a=1, b=3, c=-10` auf. \n",
    "\n",
    "Alternativ können Sie Werte in beliebiger Reihenfolge übergeben, indem Sie <i>Schlüsselwortargumente</i> verwenden, die bestimmten Parametern explizit Werte namentlich zuweisen.\n",
    "        \n",
    "</div>\n",
    "</div>"
   ]
  },
  {
   "cell_type": "code",
   "execution_count": 13,
   "metadata": {},
   "outputs": [
    {
     "data": {
      "text/plain": [
       "True"
      ]
     },
     "execution_count": 13,
     "metadata": {},
     "output_type": "execute_result"
    }
   ],
   "source": [
    "roots(1,3,-10) == roots(a=1, b=3, c=-10)"
   ]
  },
  {
   "cell_type": "code",
   "execution_count": 14,
   "metadata": {},
   "outputs": [
    {
     "data": {
      "text/plain": [
       "True"
      ]
     },
     "execution_count": 14,
     "metadata": {},
     "output_type": "execute_result"
    }
   ],
   "source": [
    "roots(1,3,-10) == roots(b=3, c=-10, a=1)"
   ]
  },
  {
   "cell_type": "markdown",
   "metadata": {},
   "source": [
    "<div style=\"display: flex; justify-content: space-between;\">\n",
    "<div style=\"width: 48%; line-height: 1.3;\">\n",
    "\n",
    "## Default Arguments \n",
    "        \n",
    "Sometimes it is helpful to make an argument to a function optional; that is, the function code will use a default value for that argument if one is not provided when the function is called. \n",
    "\n",
    "This can be done in the function definition:\n",
    "        \n",
    "</div>\n",
    "<div style=\"width: 48%; line-height: 1.3;color: grey;\">\n",
    "\n",
    "## Standardargumente\n",
    "        \n",
    "Manchmal ist es hilfreich, ein Argument für eine Funktion optional zu machen, d.h. der Funktionscode verwendet einen Standardwert für dieses Argument, wenn es beim Aufruf der Funktion nicht angegeben wird. \n",
    "\n",
    "Dies kann in der Funktionsdefinition erfolgen:\n",
    "        \n",
    "</div>\n",
    "</div>"
   ]
  },
  {
   "cell_type": "code",
   "execution_count": 16,
   "metadata": {},
   "outputs": [
    {
     "data": {
      "text/plain": [
       "(2.0, -5.0)"
      ]
     },
     "execution_count": 16,
     "metadata": {},
     "output_type": "execute_result"
    }
   ],
   "source": [
    "def roots(a=1, b=3, c=-10):\n",
    "    d = b**2 - 4*a*c \n",
    "    r1 = (-b + math.sqrt(d)) / 2 / a \n",
    "    r2 = (-b - math.sqrt(d)) / 2 / a \n",
    "    return r1, r2\n",
    "\n",
    "roots()     # we can call the function with no arguments, because default values have been provided in the definition"
   ]
  },
  {
   "cell_type": "markdown",
   "metadata": {},
   "source": [
    "<div style=\"display: flex; justify-content: space-between;\">\n",
    "<div style=\"width: 48%; line-height: 1.3;\">\n",
    "\n",
    "Now, the function can be called with no arguments.\n",
    "</div>\n",
    "<div style=\"width: 48%; line-height: 1.3;color: grey;\">\n",
    "\n",
    "Nun kann die Funktion ohne Argumente aufgerufen werden.\n",
    "</div>\n",
    "</div>"
   ]
  },
  {
   "cell_type": "markdown",
   "metadata": {},
   "source": [
    "<div style=\"display: flex; justify-content: space-between;\">\n",
    "<div style=\"width: 48%; line-height: 1.3;\">\n",
    "    \n",
    "##  Variable scope \n",
    "\n",
    "Every function we've written so far has included a return statement, even though it's optional: Functions can execute their tasks without one. \n",
    "\n",
    "However, to understand why we frequently use return statements, it's important to explore how Python handles variables within functions.\n",
    "\n",
    "Let’s revisit the function we defined earlier, `cube(x)`, but this time, we'll use a `print` statement instead of a `return` statement:\n",
    "</div>\n",
    "<div style=\"width: 48%; line-height: 1.3;color: grey;\">\n",
    "\n",
    "## Variablenbereich \n",
    "\n",
    "Jede Funktion, die wir bisher geschrieben haben, enthält eine Rückgabeanweisung, auch wenn sie optional ist: Funktionen können ihre Aufgaben auch ohne eine solche ausführen. \n",
    "\n",
    "Um jedoch zu verstehen, warum wir häufig Return-Anweisungen verwenden, ist es wichtig zu verstehen, wie Python mit Variablen innerhalb von Funktionen umgeht.\n",
    "\n",
    "Wenden wir uns noch einmal der Funktion zu, die wir vorhin definiert haben, `cube(x)`, aber dieses Mal verwenden wir eine `print`-Anweisung anstelle einer `return`-Anweisung:\n",
    "</div>\n",
    "</div>"
   ]
  },
  {
   "cell_type": "code",
   "execution_count": 9,
   "metadata": {},
   "outputs": [
    {
     "name": "stdout",
     "output_type": "stream",
     "text": [
      "27\n"
     ]
    }
   ],
   "source": [
    "def cube(x):\n",
    "    x_cube = x**3\n",
    "    print(x_cube)\n",
    "\n",
    "cube(3)"
   ]
  },
  {
   "cell_type": "markdown",
   "metadata": {},
   "source": [
    "<div style=\"display: flex; justify-content: space-between;\">\n",
    "<div style=\"width: 48%; line-height: 1.3;\">\n",
    "\n",
    "**In this version, the function will print the result of cubing x but won't return a value that can be used elsewhere in your code.**\n",
    "\n",
    "This means that while you can see the output, you won't be able to store or manipulate the result of the function.\n",
    "\n",
    "In fact, if we attempt to access the variable *x_cube* by calling it, we'll encounter an error:\n",
    "</div>\n",
    "<div style=\"width: 48%; line-height: 1.3;color: grey;\">\n",
    "\n",
    "**In dieser Version gibt die Funktion das Ergebnis der Kubikbildung von x aus, liefert aber keinen Wert, der an anderer Stelle in Ihrem Code verwendet werden kann.**\n",
    "\n",
    "Das bedeutet, dass Sie zwar die Ausgabe sehen können, aber nicht in der Lage sind, das Ergebnis der Funktion zu speichern oder zu manipulieren.\n",
    "\n",
    "Wenn wir nämlich versuchen, auf die Variable *x_cube* zuzugreifen, indem wir sie aufrufen, wird ein Fehler auftreten:\n",
    "</div>\n",
    "</div>"
   ]
  },
  {
   "cell_type": "code",
   "execution_count": 10,
   "metadata": {},
   "outputs": [
    {
     "ename": "NameError",
     "evalue": "name 'x_cube' is not defined",
     "output_type": "error",
     "traceback": [
      "\u001b[0;31m---------------------------------------------------------------------------\u001b[0m",
      "\u001b[0;31mNameError\u001b[0m                                 Traceback (most recent call last)",
      "Cell \u001b[0;32mIn[10], line 1\u001b[0m\n\u001b[0;32m----> 1\u001b[0m \u001b[43mx_cube\u001b[49m\n",
      "\u001b[0;31mNameError\u001b[0m: name 'x_cube' is not defined"
     ]
    }
   ],
   "source": [
    "x_cube"
   ]
  },
  {
   "cell_type": "markdown",
   "metadata": {},
   "source": [
    "<div style=\"display: flex; justify-content: space-between;\">\n",
    "<div style=\"width: 48%; line-height: 1.3;\">\n",
    "\n",
    "In Python, <i>variable scope</i> refers to where a variable is accessible within the code. \n",
    "\n",
    "Variables can be classified as either <i>global</i> or <i>local</i> based on where they are defined:\n",
    "</div>\n",
    "<div style=\"width: 48%; line-height: 1.3;color: grey;\">\n",
    "\n",
    "In Python bezieht sich der <i>Variablenbereich</i> darauf, wo eine Variable innerhalb des Codes zugänglich ist.\n",
    "\n",
    "Variablen können entweder als <i>global</i> oder <i>lokal</i> klassifiziert werden, je nachdem, wo sie definiert sind:\n",
    "</div>\n",
    "</div>"
   ]
  },
  {
   "cell_type": "markdown",
   "metadata": {},
   "source": [
    "<div style=\"display: flex; justify-content: space-between;\">\n",
    "<div style=\"width: 48%; line-height: 1.3;\">\n",
    "\n",
    "-  **Global** variables are defined outside of functions and are accessible throughout the entire program, including inside functions. \n",
    "\n",
    "-  **Local** variables are defined within a function and can only be accessed inside that function. Once the function ends, local variables are discarded, and trying to access them outside the function results in an error.\n",
    "\n",
    "</div>\n",
    "<div style=\"width: 48%; line-height: 1.3;color: grey;\">\n",
    "\n",
    "-  **Globale** Variablen werden außerhalb von Funktionen definiert und sind im gesamten Programm zugänglich, auch innerhalb von Funktionen.\n",
    "\n",
    "-  **Lokale** Variablen werden innerhalb einer Funktion definiert und können nur innerhalb dieser Funktion aufgerufen werden. Sobald die Funktion endet, werden lokale Variablen verworfen, und der Versuch, auf sie außerhalb der Funktion zuzugreifen, führt zu einem Fehler.\n",
    "\n",
    "</div>\n",
    "</div>"
   ]
  },
  {
   "cell_type": "markdown",
   "metadata": {},
   "source": [
    "<div style=\"display: flex; justify-content: space-between;\">\n",
    "<div style=\"width: 48%; line-height: 1.3;\">\n",
    "\n",
    "To use the value of a local variable later in your code, you need to <i>capture the returned value</i> from the function into a new variable: \n",
    "\n",
    "-  Return the value from the function using a `return` statement.\n",
    "\n",
    "-  Store the returned value in a new variable outside the function.\n",
    "\n",
    "\n",
    "**While the variable itself remains local to the function, the value it holds can be returned and then assigned to a different variable outside the function.**\n",
    "</div>\n",
    "<div style=\"width: 48%; line-height: 1.3;color: grey;\">\n",
    "\n",
    "Um den Wert einer lokalen Variablen später in Ihrem Code zu verwenden, <i>müssen Sie den von der Funktion zurückgegebenen Wert in eine neue Variable einfangen</i>: \n",
    "\n",
    "-  Geben Sie den Wert der Funktion mit einer `return`-Anweisung zurück.\n",
    "\n",
    "-  Speichern Sie den zurückgegebenen Wert in einer neuen Variablen außerhalb der Funktion.\n",
    "\n",
    "**Während die Variable selbst lokal in der Funktion bleibt, kann der Wert, den sie enthält, zurückgegeben und dann einer anderen Variablen außerhalb der Funktion zugewiesen werden.**\n",
    "</div>\n",
    "</div>"
   ]
  },
  {
   "cell_type": "code",
   "execution_count": 11,
   "metadata": {},
   "outputs": [],
   "source": [
    "def cube(x):\n",
    "    x_cube = x**3       # 'x_cube' is a local variable\n",
    "    return x_cube\n",
    "\n",
    "cubed_value = cube(3)   # capturing the returned value in a new variable "
   ]
  },
  {
   "cell_type": "code",
   "execution_count": 13,
   "metadata": {},
   "outputs": [
    {
     "data": {
      "text/plain": [
       "27"
      ]
     },
     "execution_count": 13,
     "metadata": {},
     "output_type": "execute_result"
    }
   ],
   "source": [
    "cubed_value             # now you can use 'cubed_value' later in your code"
   ]
  },
  {
   "cell_type": "markdown",
   "metadata": {},
   "source": [
    "<div class=\"alert alert-block alert-light\">\n",
    "\n",
    "<div style=\"display: flex; justify-content: space-between;\">\n",
    "<div style=\"width: 48%; line-height: 1.3;\">\n",
    "\n",
    "# Exercises\n",
    "</div>\n",
    "<div style=\"width: 48%; line-height: 1.3;color: grey;\">\n",
    "\n",
    "# Übungen\n",
    "</div>\n",
    "</div>"
   ]
  },
  {
   "cell_type": "markdown",
   "metadata": {},
   "source": [
    "<div class=\"alert alert-block alert-light\">\n",
    "\n",
    "<div style=\"display: flex; justify-content: space-between;\">\n",
    "<div style=\"width: 48%; line-height: 1.3;\">\n",
    "\n",
    "#### 1\n",
    "\n",
    "The code below attempts to calculate the balance of a savings account at the end of each year for a maximum of four years.  The account starts with a balance of 100 EUR, and the annual interest rate is 0.72%.  However, the code is not functioning as expected. Identify the issue(s) and offer a corrected version.\n",
    "</div>\n",
    "<div style=\"width: 48%; line-height: 1.3;color: grey;\">\n",
    "\n",
    "#### 1\n",
    "\n",
    "Der folgende Code versucht, den Saldo eines Sparkontos am Ende eines jeden Jahres für maximal vier Jahre zu berechnen.  Das Konto beginnt mit einem Saldo von 100 EUR, und der jährliche Zinssatz beträgt 0,72 %.  Der Code funktioniert jedoch nicht wie erwartet. Ermitteln Sie die Fehler und bieten Sie eine korrigierte Version an.\n",
    "</div>\n",
    "</div>"
   ]
  },
  {
   "cell_type": "code",
   "execution_count": 14,
   "metadata": {},
   "outputs": [
    {
     "name": "stdout",
     "output_type": "stream",
     "text": [
      "Balance after year 1 = 100\n",
      "Balance after year 2 = 100\n",
      "Balance after year 3 = 100\n",
      "Balance after year 4 = 100\n"
     ]
    }
   ],
   "source": [
    "# The following code does not work as intended - identify the problem, and correct it in the cell below\n",
    "\n",
    "balance = 100\n",
    "\n",
    "def add_interest(balance, rate):\n",
    "    balance += balance * rate/100\n",
    "    \n",
    "for year in range(1, 5):\n",
    "    add_interest(balance, 0.72)\n",
    "    print ('Balance after year', year, '=', balance)"
   ]
  },
  {
   "cell_type": "code",
   "execution_count": null,
   "metadata": {},
   "outputs": [],
   "source": [
    "countdown_timer(10)"
   ]
  },
  {
   "cell_type": "markdown",
   "metadata": {},
   "source": [
    "<div style=\"display: flex; justify-content: space-between;\">\n",
    "<div style=\"width: 48%; line-height: 1.3;\">\n",
    "\n",
    "####  Solution \n",
    "\n",
    "The code does not work as expected because of how variable scope works in Python, specifically regarding the `balance` variable inside the function.\n",
    "\n",
    "The original code doesn't work as expected because the function is modifying a local copy of the `balance` variable, not the global `balance`. To fix this, you need to return the updated value from the function and reassign it outside the function.\n",
    "\n",
    "1. **Local vs. Global Variables**:\n",
    "   - The `balance` variable is defined globally (outside of any function) with an initial value of `100`.\n",
    "   - Inside the `add_interest` function, Python treats `balance` as a **local variable** because you are trying to modify it (`balance += balance * rate/100`).\n",
    "   - This creates a **new local variable** `balance` within the function, which is separate from the global `balance` variable.\n",
    "   - As a result, the global `balance` variable remains unchanged outside the function, and the local `balance` only exists within the function.\n",
    "\n",
    "2. **No Return Statement**:\n",
    "   - The function `balance` modifies the **local** `balance` variable, but since it doesn't return anything, the changes made inside the function are not reflected outside the function.\n",
    "   - To fix this, you need to return the updated balance from the function and reassign it to the global `balance`.\n",
    "</div>\n",
    "<div style=\"width: 48%; line-height: 1.3;color: grey;\">\n",
    "\n",
    "#### Lösung \n",
    "\n",
    "Der Code funktioniert nicht wie erwartet, weil der Variablenbereich in Python so funktioniert, insbesondere in Bezug auf die `balance`-Variable innerhalb der Funktion.\n",
    "Der ursprüngliche Code funktioniert nicht wie erwartet, weil die Funktion eine lokale Kopie der Variable `balance` ändert, nicht die globale Variable `balance`. Um dies zu beheben, müssen Sie den aktualisierten Wert aus der Funktion zurückgeben und ihn außerhalb der Funktion neu zuweisen.\n",
    "\n",
    "1. **Lokale vs. globale Variablen**:\n",
    "   - Die Variable `balance` ist global (außerhalb einer Funktion) mit einem Anfangswert von \"100\" definiert.\n",
    "   - Innerhalb der Funktion `add_interest` behandelt Python die Variable \"Saldo\" als **lokale Variable**, da Sie versuchen, sie zu verändern (`balance += balance * rate/100`).\n",
    "   - Dadurch wird innerhalb der Funktion eine **neue lokale Variable** `balance` erzeugt, die von der globalen Variable `Guthaben` getrennt ist.\n",
    "   - Dadurch bleibt die globale Variable `balance` außerhalb der Funktion unverändert, und die lokale Variable `balance` existiert nur innerhalb der Funktion.\n",
    "\n",
    "2. **Keine Rückgabeanweisung**:\n",
    "   - Die Funktion `add_interest` ändert die **lokale** Variable `balance`, aber da sie nichts zurückgibt, werden die innerhalb der Funktion vorgenommenen Änderungen außerhalb der Funktion nicht berücksichtigt.\n",
    "   - Um dies zu beheben, müssen Sie den aktualisierten Saldo aus der Funktion zurückgeben und ihn erneut der globalen `balance`-Variable zuweisen.\n",
    "</div>\n",
    "</div>"
   ]
  },
  {
   "cell_type": "markdown",
   "metadata": {},
   "source": [
    "<div style=\"display: flex; justify-content: space-between;\">\n",
    "<div style=\"width: 48%; line-height: 1.3;\">\n",
    "\n",
    "You can modify the function to return the updated balance and then capture the returned value in the main code loop.\n",
    "\n",
    "In this solution:\n",
    "- The function returns the updated `balance`, which is then reassigned to the global `balance` variable after each year.\n",
    "- This way, the global `balance` is updated correctly, and the output reflects the change.\n",
    "</div>\n",
    "<div style=\"width: 48%; line-height: 1.3;color: grey;\">\n",
    "\n",
    "Sie können die Funktion so ändern, dass sie den aktualisierten Saldo zurückgibt und dann den zurückgegebenen Wert in der Hauptcodeschleife erfassen.\n",
    "\n",
    "In dieser Lösung:\n",
    "- Die Funktion gibt den aktualisierten `balance` zurück, der dann nach jedem Jahr der globalen `balance`-Variablen neu zugewiesen wird.\n",
    "- Auf diese Weise wird der globale `balance` korrekt aktualisiert, und die Ausgabe spiegelt die Änderung wider.\n",
    "</div>\n",
    "</div>"
   ]
  },
  {
   "cell_type": "code",
   "execution_count": 17,
   "metadata": {},
   "outputs": [
    {
     "name": "stdout",
     "output_type": "stream",
     "text": [
      "Balance after year 1 = 100.72\n",
      "Balance after year 2 = 101.445184\n",
      "Balance after year 3 = 102.1755893248\n",
      "Balance after year 4 = 102.91125356793856\n"
     ]
    }
   ],
   "source": [
    "balance = 100\n",
    "\n",
    "def add_interest(balance, rate):\n",
    "    balance += balance * rate / 100\n",
    "    return balance  # Return the updated balance\n",
    "\n",
    "# Now capture the returned value in the loop\n",
    "for year in range(1, 5):\n",
    "    balance = add_interest(balance, 0.72)  # Update balance with the returned value\n",
    "    print('Balance after year', year, '=', balance)"
   ]
  },
  {
   "cell_type": "markdown",
   "metadata": {},
   "source": [
    "<div class=\"alert alert-block alert-light\">\n",
    "\n",
    "<div style=\"display: flex; justify-content: space-between;\">\n",
    "<div style=\"width: 48%; line-height: 1.3;\">\n",
    "\n",
    "#### 2\n",
    "\n",
    "Write a simple program to numerically differentiate mathematical functions using the **first-principles definition** of a derivative:\n",
    "</div>\n",
    "<div style=\"width: 48%; line-height: 1.3;color: grey;\">\n",
    "\n",
    "#### 2\n",
    "\n",
    "Schreiben Sie ein einfaches Programm zur numerischen Differenzierung mathematischer Funktionen unter Verwendung der **Erstprinzipien-Definition** einer Ableitung:\n",
    "</div>\n",
    "</div>\n",
    "<div style=\"text-align: center; margin-top: 20px;\">\n",
    "\n",
    "$$\n",
    "f'(x) = \\lim_{h \\to 0} \\frac{f(x+h) - f(x)}{h}\n",
    "$$\n",
    "</div>\n",
    "<div style=\"display: flex; justify-content: space-between;\">\n",
    "<div style=\"width: 48%; line-height: 1.3;\">\n",
    "\n",
    "Here, $f(x)$ is the original function, $f'(x)$ is its derivative, and $h$ is the step size. \n",
    "\n",
    "This equation shows that to compute a derivative numerically, we only need the definition of the function $f(x)$ and a value for the step size—numerical differentiation simply requires that we can define the function!\n",
    "\n",
    "As a basic example, let's calculate the derivative of $f(x) = x^4$ at $x = 1.3$. \n",
    "\n",
    "The analytical solution, $f'(x) = 4x^3$, gives a result of 8.788. \n",
    "\n",
    "1. Define the mathematical function $f(x)=x^{4}$ using python.\n",
    "\n",
    "2. Using the first principles definition of a derivative, write a second function, `derivative()`, containing two parameters: the stepsize, $h$ (which we shall give a default value of 0.01), and the value of $x$ we are using to evaluate the derivative.\n",
    "\n",
    "**Useful tips:**\n",
    "\n",
    "- Functions can be called from within other functions, and their output used as normal.\n",
    "\n",
    "- Both `x` and `h` are numbers, therefore `x+h` is also a number, and can be passed to a function as an argument.\n",
    "</div>\n",
    "<div style=\"width: 48%; line-height: 1.3;color: grey;\">\n",
    "\n",
    "$f(x)$ ist die Funktion, $f'(x)$ ist ihre Ableitung und $h$ ist die Schrittweite. \n",
    "\n",
    "Diese Gleichung zeigt, dass wir für die numerische Berechnung einer Ableitung nur die Definition der Funktion $f(x)$ und einen Wert für die Schrittweite benötigen - die numerische Differenzierung erfordert lediglich, dass wir die Funktion definieren können!\n",
    "\n",
    "Berechnen wir als einfaches Beispiel die Ableitung von $f(x) = x^4$ bei $x = 1.3$. \n",
    "\n",
    "Die analytische Lösung, $f'(x) = 4x^3$, liefert ein Ergebnis von 8.788.\n",
    "\n",
    "1. Definieren Sie die mathematische Funktion $f(x)=x^{4}$ mit Python.\n",
    "\n",
    "2. Schreiben Sie unter Verwendung der Definition einer Ableitung nach den ersten Prinzipien eine zweite Funktion, `derivative()`, die zwei Parameter enthält: die Schrittweite $h$ (die wir mit 0.01 vorgeben) und den Wert von $x$, den wir zur Auswertung der Ableitung verwenden.\n",
    "\n",
    "**Nützliche Tipps:**\n",
    "\n",
    "- Funktionen können aus anderen Funktionen heraus aufgerufen werden, und ihre Ausgabe wird wie üblich verwendet.\n",
    "\n",
    "- Sowohl `x` als auch `h` sind Zahlen, daher ist `x+h` auch eine Zahl und kann als Argument an eine Funktion übergeben werden.\n",
    "</div>\n",
    "</div>"
   ]
  },
  {
   "cell_type": "code",
   "execution_count": 20,
   "metadata": {},
   "outputs": [
    {
     "data": {
      "text/plain": [
       "4096"
      ]
     },
     "execution_count": 20,
     "metadata": {},
     "output_type": "execute_result"
    }
   ],
   "source": [
    "def f(x):\n",
    "    y = x**4\n",
    "    return y\n",
    "\n",
    "f(8)"
   ]
  },
  {
   "cell_type": "code",
   "execution_count": 21,
   "metadata": {},
   "outputs": [
    {
     "data": {
      "text/plain": [
       "8.889921000000012"
      ]
     },
     "execution_count": 21,
     "metadata": {},
     "output_type": "execute_result"
    }
   ],
   "source": [
    "def derivative(x, h=0.01):\n",
    "    f_prime = (f(x+h) - f(x)) / h\n",
    "    return f_prime\n",
    "\n",
    "derivative(1.3, 0.01)"
   ]
  },
  {
   "cell_type": "markdown",
   "metadata": {},
   "source": [
    "<div style=\"display: flex; justify-content: space-between;\">\n",
    "<div style=\"width: 48%; line-height: 1.3;\">\n",
    "\n",
    "Your `derivative()` function should have returned a value of approximately 8.89 for the derivative of $x^4$ evaluated at $x=1.3$. \n",
    "\n",
    "While this is close to the exact value of 8.788, can we improve the accuracy?\n",
    "\n",
    "The first-principles definition of a derivative assumes the limit as $h$ approaches zero. \n",
    "\n",
    "This implies that by decreasing $h$ (getting closer to $h = 0$), our numerical approximation should become more precise. \n",
    "</div>\n",
    "<div style=\"width: 48%; line-height: 1.3;color: grey;\">\n",
    "\n",
    "Ihre Funktion `Ableitung()` sollte für die Ableitung von $x^4$ nach $x=1.3$ einen Wert von etwa 8.89 liefern. \n",
    "\n",
    "Dies liegt zwar nahe am exakten Wert von 8,788, aber können wir die Genauigkeit verbessern?\n",
    "\n",
    "Die Definition einer Ableitung nach den ersten Grundsätzen geht davon aus, dass der Grenzwert bei $h$ gegen Null geht. \n",
    "\n",
    "Das bedeutet, dass unsere numerische Näherung mit abnehmendem $h$ (näher an $h = 0$) präziser werden sollte.\n",
    "</div>\n",
    "</div>"
   ]
  },
  {
   "cell_type": "markdown",
   "metadata": {},
   "source": [
    "<div class=\"alert alert-block alert-light\">\n",
    "\n",
    "<div style=\"display: flex; justify-content: space-between;\">\n",
    "<div style=\"width: 48%; line-height: 1.3;\">\n",
    "\n",
    "#### 3\n",
    "\n",
    "Using your `derivative()` function, repeat the calculation above with step sizes of \n",
    "$$ h = 1, 0.1, 0.01, 0.001, 0.0001, 0.00001.$$ \n",
    "\n",
    "Try to incorporate a loop in your code to automate the function calls, instead of manually invoking the function for each step size.\n",
    "</div>\n",
    "<div style=\"width: 48%; line-height: 1.3;color: grey;\">\n",
    "\n",
    "#### 3\n",
    "\n",
    "Wiederholen Sie die obige Berechnung mit der Funktion `derivative()` mit Schrittweiten von\n",
    "$$ h = 1, 0.1, 0.01, 0.001, 0.0001, 0.00001.$$ \n",
    "\n",
    "Versuchen Sie, eine Schleife in Ihren Code einzubauen, um die Funktionsaufrufe zu automatisieren, anstatt die Funktion für jede Schrittweite manuell aufzurufen.\n",
    "</div>\n",
    "</div>"
   ]
  },
  {
   "cell_type": "code",
   "execution_count": 22,
   "metadata": {},
   "outputs": [
    {
     "name": "stdout",
     "output_type": "stream",
     "text": [
      "25.12799999999999\n",
      "9.85500000000001\n",
      "8.889921000000012\n",
      "8.798145200998864\n",
      "8.789014051999722\n",
      "8.788101400547532\n"
     ]
    }
   ],
   "source": [
    "step_sizes = [1, 0.1, 0.01, 0.001, 0.0001, 0.00001]\n",
    "\n",
    "for h in step_sizes:\n",
    "    print(derivative(1.3, h))"
   ]
  },
  {
   "cell_type": "markdown",
   "metadata": {},
   "source": [
    "<div class=\"alert alert-block alert-light\">\n",
    "\n",
    "<div style=\"display: flex; justify-content: space-between;\">\n",
    "<div style=\"width: 48%; line-height: 1.3;\">\n",
    "\n",
    "#### 4\n",
    "\n",
    "Write a program that can compute the derivative with respect to $x$ for any mathematical function of the form:\n",
    "$f(x) = ax^p$.\n",
    "\n",
    "Test your program by evaluating the derivative of $f(x) = 4x^3$ at $x = 3$. \n",
    "\n",
    "If your code is working correctly, it should return a value close to 108 (the exact value may vary slightly depending on the step size chosen).\n",
    "</div>\n",
    "<div style=\"width: 48%; line-height: 1.3;color: grey;\">\n",
    "\n",
    "#### 4\n",
    "\n",
    "Schreiben Sie ein Programm, das die Ableitung nach $x$ für eine beliebige mathematische Funktion der Form berechnen kann:\n",
    "$f(x) = ax^p$.\n",
    "\n",
    "Testen Sie Ihr Programm, indem Sie die Ableitung von $f(x) = 4x^3$ nach $x = 3$ auswerten. \n",
    "\n",
    "Wenn Ihr Programm korrekt arbeitet, sollte es einen Wert nahe 108 zurückgeben (der genaue Wert kann je nach der gewählten Schrittweite leicht variieren).\n",
    "</div>\n",
    "</div>"
   ]
  },
  {
   "cell_type": "code",
   "execution_count": 23,
   "metadata": {},
   "outputs": [
    {
     "name": "stdout",
     "output_type": "stream",
     "text": [
      "108.00003602184916\n"
     ]
    }
   ],
   "source": [
    "def f(x, a, p):\n",
    "    y = 4*x**p\n",
    "    return y\n",
    "\n",
    "def derivative(x, a, p, h):\n",
    "    value = (f(x+h, a, p) - f(x, a, p)) / h\n",
    "    print(value)\n",
    "    \n",
    "derivative(x=3, a=4, p=3, h=1.e-6)"
   ]
  },
  {
   "cell_type": "markdown",
   "metadata": {},
   "source": [
    "<div class=\"alert alert-block alert-light\">\n",
    "\n",
    "<div style=\"display: flex; justify-content: space-between;\">\n",
    "<div style=\"width: 48%; line-height: 1.3;\">\n",
    "\n",
    "#### 5\n",
    "\n",
    "Write a Python function to calculate the heat capacity of sodium and diamond according to the Einstein model given below.\n",
    "\n",
    "$\\Theta_E$ is 192 K for sodium and 1450 K for diamond.\n",
    "</div>\n",
    "<div style=\"width: 48%; line-height: 1.3;color: grey;\">\n",
    "\n",
    "#### 5\n",
    "\n",
    "Schreiben Sie eine Python-Funktion zur Berechnung der Wärmekapazität von Natrium und Diamant nach dem unten angegebenen Einstein-Modell.\n",
    "\n",
    "$\\Theta_E$ ist 192 K für Natrium und 1450 K für Diamant.\n",
    "</div>\n",
    "</div>\n",
    "<div style=\"text-align: center; margin-top: 20px;\">\n",
    "\n",
    "$$\n",
    "C_{V,m} = 3R \\left( \\frac{\\Theta_E}{T} \\right)^2 \\frac{\\exp\\left( \\frac{\\Theta_E}{T} \\right)}{\\left[ \\exp\\left( \\frac{\\Theta_E}{T} \\right) - 1 \\right]^2}\n",
    "$$\n",
    "</div>\n",
    "<div style=\"display: flex; justify-content: space-between;\">\n",
    "<div style=\"width: 48%; line-height: 1.3;\">\n",
    "\n",
    "**Hints**:\n",
    "\n",
    "- import $R$ from `scipy.constants`,\n",
    "\n",
    "- define a variable $\\Theta_E / T$ for your convenience,\n",
    "\n",
    "- remember to import all relevant modules.\n",
    "</div>\n",
    "<div style=\"width: 48%; line-height: 1.3;color: grey;\">\n",
    "\n",
    "**Hinweise**:\n",
    "\n",
    "- importieren Sie $R$ aus `scipy.constants`,\n",
    "\n",
    "- definieren Sie eine Variable $\\Theta_E / T$ für Ihre Bequemlichkeit,\n",
    "\n",
    "- Denken Sie daran, alle relevanten Module zu importieren.\n",
    "</div>\n",
    "</div>"
   ]
  },
  {
   "cell_type": "code",
   "execution_count": 27,
   "metadata": {},
   "outputs": [
    {
     "name": "stdout",
     "output_type": "stream",
     "text": [
      "Na: 24.109144168075208\n",
      "diamond: 4.713033453464986\n"
     ]
    }
   ],
   "source": [
    "from scipy.constants import R\n",
    "import math\n",
    "\n",
    "def C_V(T, Theta_E):\n",
    "    x = Theta_E / T\n",
    "    return 3 * R * x**2 * math.exp(x) / (math.exp(x) - 1)**2\n",
    "\n",
    "print(f\"Na: {C_V(300, 192)}\")\n",
    "print(f\"diamond: {C_V(300, 1450)}\")"
   ]
  },
  {
   "cell_type": "markdown",
   "metadata": {},
   "source": [
    "<div class=\"alert alert-block alert-light\">\n",
    "\n",
    "<div style=\"display: flex; justify-content: space-between;\">\n",
    "<div style=\"width: 48%; line-height: 1.3;\">\n",
    "\n",
    "#### 6\n",
    "\n",
    "For the following equations of state, define Python functions returning the pressure of a gas, $p$, given its volume $V$, amount $n$, and temperature $T$.\n",
    "\n",
    "- **Ideal gas equation of state**: $$ p = \\frac{nRT}{V},$$\n",
    "- **Van der Waals equation of state**: $$ p = \\frac{nRT}{V-nb} - \\frac{n^2a}{V^2},$$\n",
    "- **Dieterici equation of state**: $$ p = \\frac{nRT \\exp \\left( -\\frac{nc}{RTV} \\right)}{v-nd}.$$\n",
    "\n",
    "Use the following parameters:\n",
    "\n",
    "- T = 273.15 K;\n",
    "- V = 20 L;\n",
    "- a = 3.640 $L^2$ bar $mol^{-2}$, b = 0.04267 L $mol^{-1}$;\n",
    "- c = 4.692 $L^2$ bar $mol^{-2}$, d = 0.04639 L $mol^{-1}$;\n",
    "- n = 1 mol.\n",
    "\n",
    "Repeat the calculation for n = 0.1 mol.\n",
    "\n",
    "Print summaries using string formatting.\n",
    "</div>\n",
    "<div style=\"width: 48%; line-height: 1.3;color: grey;\">\n",
    "\n",
    "#### 6\n",
    "\n",
    "Definieren Sie für die folgenden Zustandsgleichungen Python-Funktionen, die den Druck eines Gases $p$ wiedergeben, wenn das Volumen $V$, die Menge $n$ und die Temperatur $T$ gegeben sind.\n",
    "\n",
    "- **Ideale Gaszustandsgleichung**: $$ p = \\frac{nRT}{V},$$\n",
    "- **Van-der-Waals-Zustandsgleichung**: $$ p = \\frac{nRT}{V-nb} - \\frac{n^2a}{V^2},$$\n",
    "- **Dieterici-Zustandsgleichung**: $$ p = \\frac{nRT \\exp \\left( -\\frac{nc}{RTV} \\right)}{v-nd}.$$\n",
    "\n",
    "Verwenden Sie die folgenden Parameter:\n",
    "\n",
    "- T = 273.15 K;\n",
    "- V = 20 L;\n",
    "- a = 3.640 $L^2$ bar $mol^{-2}$, b = 0.04267 L $mol^{-1}$;\n",
    "- c = 4.692 $L^2$ bar $mol^{-2}$, d = 0.04639 L $mol^{-1}$;\n",
    "- n = 1 mol.\n",
    "\n",
    "Wiederholen Sie die Berechnung für n = 0.1 mol.\n",
    "\n",
    "Zusammenfassungen unter Verwendung der String-Formatierung drucken.\n",
    "</div>\n",
    "</div>"
   ]
  },
  {
   "cell_type": "markdown",
   "metadata": {},
   "source": []
  }
 ],
 "metadata": {
  "kernelspec": {
   "display_name": "base",
   "language": "python",
   "name": "python3"
  },
  "language_info": {
   "codemirror_mode": {
    "name": "ipython",
    "version": 3
   },
   "file_extension": ".py",
   "mimetype": "text/x-python",
   "name": "python",
   "nbconvert_exporter": "python",
   "pygments_lexer": "ipython3",
   "version": "3.10.14"
  }
 },
 "nbformat": 4,
 "nbformat_minor": 2
}
