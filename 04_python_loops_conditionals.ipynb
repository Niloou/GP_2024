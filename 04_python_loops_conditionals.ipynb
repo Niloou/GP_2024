{
 "cells": [
  {
   "cell_type": "code",
   "execution_count": 4,
   "metadata": {},
   "outputs": [],
   "source": [
    "from IPython.display import display, clear_output, HTML\n",
    "import time\n",
    "\n",
    "def countdown_timer(minutes):\n",
    "    total_seconds = minutes * 60\n",
    "    for seconds in range(total_seconds, 0, -1):\n",
    "        mins, secs = divmod(seconds, 60)\n",
    "        time_str = f\"{mins:02}'{secs:02}''\"\n",
    "        clear_output(wait=True)\n",
    "        # HTML with styling\n",
    "        display(HTML(f'<div style=\"font-size: 24px; color: blue; font-weight: bold;\">Time remaining: {time_str}</div>'))\n",
    "        time.sleep(1)\n",
    "    clear_output(wait=True)\n",
    "    # Final message with different styling\n",
    "    display(HTML('<div style=\"font-size: 24px; color: green; font-weight: bold;\">Time\\'s up!</div>'))"
   ]
  },
  {
   "cell_type": "markdown",
   "metadata": {},
   "source": [
    "<div style=\"text-align: center;\">\n",
    "    <img src=\"https://upload.wikimedia.org/wikipedia/commons/thumb/f/f8/Python_logo_and_wordmark.svg/972px-Python_logo_and_wordmark.svg.png?20210516005643\" alt=\"The Python logo\" style=\"width: 60%; max-width: 500px;\">\n",
    "</div>"
   ]
  },
  {
   "cell_type": "code",
   "execution_count": 5,
   "metadata": {},
   "outputs": [],
   "source": [
    "import math"
   ]
  },
  {
   "cell_type": "markdown",
   "metadata": {},
   "source": [
    "<div class=\"alert alert-block alert-warning\">\n",
    "\n",
    "<div style=\"display: flex; justify-content: space-between;\">\n",
    "<div style=\"width: 48%; line-height: 1.3;\">\n",
    "\n",
    "# Loops \n",
    "</div>\n",
    "<div style=\"width: 48%; line-height: 1.3;color: grey;\">\n",
    "\n",
    "# Schleifen\n",
    "</div>\n",
    "</div>"
   ]
  },
  {
   "cell_type": "markdown",
   "metadata": {},
   "source": [
    "<div style=\"display: flex; justify-content: space-between;\">\n",
    "<div style=\"width: 48%; line-height: 1.3;\">\n",
    "\n",
    "Loops allow us to repeat a block of code multiple times. There are two main types of loops in Python: `for` loops and `while` loops.\n",
    "\n",
    "The main difference between them lies in whether the total number of iterations is specified explicitly in advance (a *definite* iteration) or if the code block will run continuously until a certain condition is met (an *indefinite* iteration).\n",
    "\n",
    "</div>\n",
    "<div style=\"width: 48%; line-height: 1.3;color: grey;\">\n",
    "\n",
    "Schleifen ermöglichen es uns, einen Codeblock mehrmals zu wiederholen. Es gibt zwei Haupttypen von Schleifen in Python: `for`-Schleifen und `while`-Schleifen.\n",
    "\n",
    "Der Hauptunterschied zwischen ihnen liegt darin, ob die Gesamtzahl der Iterationen im Voraus explizit festgelegt wird (eine *definite* Iteration) oder ob der Codeblock kontinuierlich läuft, bis eine bestimmte Bedingung erfüllt ist (eine *indefinite* Iteration).\n",
    "\n",
    "</div>\n",
    "</div>"
   ]
  },
  {
   "cell_type": "markdown",
   "metadata": {},
   "source": [
    "## `for`"
   ]
  },
  {
   "cell_type": "markdown",
   "metadata": {},
   "source": [
    "<div style=\"display: flex; justify-content: space-between;\">\n",
    "<div style=\"width: 48%; line-height: 1.3;\">\n",
    "\n",
    "When data are collected in a list, we often want to perform the same operations on each element in the list. We then need to walk through all list elements.\n",
    "\n",
    "A `for` loop is used to iterate over a sequence (like a list) and execute a block of code for each item in the sequence.\n",
    "</div>\n",
    "<div style=\"width: 48%; line-height: 1.3;color: grey;\">\n",
    "Wenn Daten in einer Liste gesammelt werden, wollen wir oft die gleichen Operationen an jedem Element der Liste durchführen. Dann müssen wir durch alle Listenelemente gehen.\n",
    "\n",
    "Eine `for`-Schleife wird verwendet, um über eine Sequenz (wie eine Liste) zu iterieren und einen Codeblock für jedes Element in der Sequenz auszuführen.\n",
    "</div>\n",
    "</div>"
   ]
  },
  {
   "cell_type": "markdown",
   "metadata": {},
   "source": [
    "```python\n",
    "for variable in iterable:\n",
    "    # code block to execute\n",
    "```"
   ]
  },
  {
   "cell_type": "markdown",
   "metadata": {},
   "source": [
    "<div style=\"display: flex; justify-content: space-between;\">\n",
    "<div style=\"width: 48%; line-height: 1.3;\">\n",
    "\n",
    "The `for` loop needs:\n",
    "\n",
    "- A variable name to use (in this example, `fruit`), which can be chosen arbitrarily; \n",
    "\n",
    "- The set of values to iterate over, which should be the name of a list, dictionary, string or other data structure (in this example, `fruits`).\n",
    "\n",
    "Pay attention to indentation.\n",
    "</div>\n",
    "<div style=\"width: 48%; line-height: 1.3;color: grey;\">\n",
    "\n",
    "Die `for`-Schleife braucht:\n",
    "\n",
    "- Einen Variablennamen (in diesem Beispiel `fruit`, der beliebig gewählt werden kann; \n",
    "\n",
    "- Die Menge der zu durchlaufenden Werte, die der Name einer Liste, eines Dictionary, einer Zeichenkette oder einer anderen Datenstruktur sein sollte (in diesem Beispiel `fruits`).\n",
    "\n",
    "Achten Sie auf die Einrückung.\n",
    "</div>\n",
    "</div>"
   ]
  },
  {
   "cell_type": "code",
   "execution_count": null,
   "metadata": {},
   "outputs": [],
   "source": [
    "# iterating over a list using a for loop\n",
    "fruits = ['apple', 'banana', 'cherry', 'orange', 'strawberry', 'coconut']\n",
    "\n",
    "for fruit in fruits:        # iteration\n",
    "    print(fruit)            # code to execute"
   ]
  },
  {
   "cell_type": "code",
   "execution_count": null,
   "metadata": {},
   "outputs": [],
   "source": [
    "# iterating over a list using a for loop\n",
    "fruits = ['apple', 'banana', 'cherry', 'orange', 'strawberry', 'coconut']\n",
    "\n",
    "for fruit in fruits[::2]:   # iteration\n",
    "    print(fruit)            # code to execute"
   ]
  },
  {
   "cell_type": "code",
   "execution_count": null,
   "metadata": {},
   "outputs": [],
   "source": [
    "# iterating over a dictionary using a for loop\n",
    "nato_alphabet = {\n",
    "'A': 'Alpha',\n",
    "'B': 'Bravo',\n",
    "'C': 'Charlie',\n",
    "'D': 'Delta',\n",
    "'E': 'Echo',\n",
    "'F': 'Foxtrot',\n",
    "'G': 'Golf',\n",
    "'H': 'Hotel',\n",
    "'I': 'India',\n",
    "'J': 'Juliett',\n",
    "'K': 'Kilo',\n",
    "'L': 'Lima',\n",
    "'M': 'Mike',\n",
    "'N': 'November',\n",
    "'O': 'Oscar',\n",
    "'P': 'Papa',\n",
    "'Q': 'Quebec',\n",
    "'R': 'Romeo',\n",
    "'S': 'Sierra',\n",
    "'T': 'Tango',\n",
    "'U': 'Uniform',\n",
    "'V': 'Victor',\n",
    "'W': 'Whiskey',\n",
    "'X': 'X-ray',\n",
    "'Y': 'Yankee',\n",
    "'Z': 'Zulu'\n",
    "}\n",
    "\n",
    "for key, value in nato_alphabet.items():\n",
    "    print(key, value)# or, with some formatting, print(f\"{key}: {value}\")"
   ]
  },
  {
   "cell_type": "code",
   "execution_count": null,
   "metadata": {},
   "outputs": [],
   "source": [
    "text = 'steganograpHy is the practicE of conceaLing a file, message, image, or video within another fiLe, message, image, Or video.'\n",
    "\n",
    "# print all the uppercase letters in text, one at a time\n",
    "for char in text:\n",
    "    if char.isupper():\n",
    "        print(char)   "
   ]
  },
  {
   "cell_type": "markdown",
   "metadata": {},
   "source": [
    "<div class=\"alert alert-block alert-light\">\n",
    "\n",
    "<div style=\"display: flex; justify-content: space-between;\">\n",
    "<div style=\"width: 48%; line-height: 1.3;\">\n",
    "\n",
    "#### Exercise\n",
    "\n",
    "Write a `for` loop that prints \"Hello?\" to screen five times. \n",
    "\n",
    "*Hint*: create a list that contains 5 \"Hello?\" items, and loop over it.\n",
    "\n",
    "</div>\n",
    "<div style=\"width: 48%; line-height: 1.3;color: grey;\">\n",
    "\n",
    "#### Übung\n",
    "\n",
    "Schreiben Sie eine `for`-Schleife, die fünfmal \"Hallo?\" auf dem Bildschirm ausgibt. \n",
    "\n",
    "*Tipp*: Erstellen Sie eine Liste, die 5 \"Hallo?\"-Einträge enthält, und führen Sie eine Schleife darüber.\n",
    "\n",
    "</div>\n",
    "</div>"
   ]
  },
  {
   "cell_type": "code",
   "execution_count": null,
   "metadata": {},
   "outputs": [],
   "source": [
    "#countdown\n",
    "countdown_timer(5)"
   ]
  },
  {
   "cell_type": "code",
   "execution_count": null,
   "metadata": {},
   "outputs": [],
   "source": [
    "hello = [\"Hello?\", \"Hello?\", \"Hello?\", \"Hello?\", \"Hello?\"]\n",
    "\n",
    "for message in hello:\n",
    "    print(message)"
   ]
  },
  {
   "cell_type": "markdown",
   "metadata": {},
   "source": [
    "<div style=\"display: flex; justify-content: space-between;\">\n",
    "<div style=\"width: 48%; line-height: 1.3;\">\n",
    "\n",
    "### The `range()` function\n",
    "\n",
    "In the example above, we saw how a `for` loop iterates over a list of objects, running as many times as there are items in the list. \n",
    "\n",
    "When we want to iterate over a numeric range, we can use the built-in `range()` function to simplify this process. \n",
    "\n",
    "For example, to loop through the values from 0 to 4, we could create a list with these numbers and iterate over it as follows:\n",
    "\n",
    "</div>\n",
    "<div style=\"width: 48%; line-height: 1.3; color: grey;\">\n",
    "\n",
    "### Die Funktion `range()`\n",
    "\n",
    "In den obigen Beispielen haben wir gesehen, wie eine `for`-Schleife über eine Liste von Objekten iteriert, wobei die Schleife so oft durchlaufen wird, wie es Elemente in der Liste gibt. \n",
    "\n",
    "Wenn wir über einen numerischen Bereich iterieren wollen, können wir Pythons eingebaute Funktion `range()` verwenden, um diesen Prozess zu vereinfachen. \n",
    "\n",
    "Um zum Beispiel die Werte von 0 bis 4 in einer Schleife zu durchlaufen, könnten wir eine Liste mit diesen Zahlen erstellen und wie folgt darüber iterieren:\n",
    "\n",
    "</div>\n",
    "</div>\n"
   ]
  },
  {
   "cell_type": "code",
   "execution_count": null,
   "metadata": {},
   "outputs": [],
   "source": [
    "# Create a list containing the integers 0-4 inclusive\n",
    "integer_list = [0, 1, 2, 3, 4]\n",
    "\n",
    "# Loop through the items in 'integer_list', printing each number\n",
    "for i in integer_list:\n",
    "    print(i)"
   ]
  },
  {
   "cell_type": "markdown",
   "metadata": {},
   "source": [
    "<div style=\"display: flex; justify-content: space-between;\">\n",
    "<div style=\"width: 48%; line-height: 1.3;\">\n",
    "\n",
    "While this approach works fine for a small number of values, it becomes cumbersome for larger ranges. \n",
    "\n",
    "Instead, we can use the `range()` function to generate the sequence automatically. \n",
    "\n",
    "The `range()` function, similar to NumPy's `arange()`, provides a more efficient way to generate integer sequences:\n",
    "\n",
    "</div>\n",
    "<div style=\"width: 48%; line-height: 1.3; color: grey;\">\n",
    "\n",
    "Während dieser Ansatz für eine kleine Anzahl von Werten gut funktioniert, wird er bei größeren Bereichen mühsam. \n",
    "\n",
    "Stattdessen können wir die Funktion `range()` verwenden, um die Folge automatisch zu erzeugen. \n",
    "\n",
    "Die Funktion `range()`, die der Funktion `arange()` von NumPy ähnelt, bietet eine effizientere Methode zur Erzeugung ganzer Sequenzen:\n",
    "\n",
    "</div>\n",
    "</div>\n"
   ]
  },
  {
   "cell_type": "code",
   "execution_count": null,
   "metadata": {},
   "outputs": [],
   "source": [
    "# Loop through integers from 0 to 4\n",
    "for i in range(5):\n",
    "    print(i)"
   ]
  },
  {
   "cell_type": "markdown",
   "metadata": {},
   "source": [
    "<div style=\"display: flex; justify-content: space-between;\">\n",
    "<div style=\"width: 48%; line-height: 1.3;\">\n",
    "\n",
    "You might notice similarities to `np.arange()`, which we have seen in the previous lecture. \n",
    "\n",
    "Both `np.arange()` and `range()` generate sequences of numbers, but *`np.arange()` returns a NumPy array and supports non-integer steps and floating-point numbers, while `range()` returns an immutable sequence of integers and only supports integer steps.*\n",
    "\n",
    "</div>\n",
    "<div style=\"width: 48%; line-height: 1.3; color: grey;\">\n",
    "\n",
    "Vielleicht bemerken Sie Ähnlichkeiten mit `np.arange()`, das wir in der vorherigen Vorlesung gesehen haben.\n",
    "\n",
    "Sowohl `np.arange()` als auch `range()` erzeugen Zahlenfolgen, aber *`np.arange()` gibt ein NumPy-Array zurück und unterstützt nicht-ganzzahlige Schritte und Fließkommazahlen, während `range()` eine unveränderliche Folge von Ganzzahlen zurückgibt und nur ganzzahlige Schritte unterstützt.*\n",
    "\n",
    "</div>\n",
    "</div>\n"
   ]
  },
  {
   "cell_type": "markdown",
   "metadata": {},
   "source": [
    "<div class=\"alert alert-block alert-light\">\n",
    "\n",
    "<div style=\"display: flex; justify-content: space-between;\">\n",
    "<div style=\"width: 48%; line-height: 1.3;\">\n",
    "\n",
    "#### Exercise\n",
    "\n",
    "Write a `for` loop that prints \"Hello?\" to screen five times using `range()`.\n",
    "\n",
    "</div>\n",
    "<div style=\"width: 48%; line-height: 1.3;color: grey;\">\n",
    "\n",
    "#### Übung\n",
    "\n",
    "Schreiben Sie eine `for`-Schleife, die mit `range()` fünfmal \"Hallo?\" auf dem Bildschirm ausgibt.\n",
    "\n",
    "</div>\n",
    "</div>"
   ]
  },
  {
   "cell_type": "code",
   "execution_count": null,
   "metadata": {},
   "outputs": [],
   "source": [
    "#countdown\n",
    "countdown_timer(5)"
   ]
  },
  {
   "cell_type": "code",
   "execution_count": null,
   "metadata": {},
   "outputs": [],
   "source": [
    "for i in range(5):\n",
    "    print(\"Hello?\")"
   ]
  },
  {
   "cell_type": "markdown",
   "metadata": {},
   "source": [
    "<div style=\"display: flex; justify-content: space-between;\">\n",
    "<div style=\"width: 48%; line-height: 1.3;\">\n",
    "\n",
    "The `range()` function can be supplied with up to two more arguments, `start` and `step` which allow us to change the starting integer and the spacing between values, respectively. \n",
    "\n",
    "The order the arguments should be specified in the function is `range(start, stop, step)`. \n",
    "\n",
    "All three arguments must be integers.\n",
    "\n",
    "</div>\n",
    "<div style=\"width: 48%; line-height: 1.3; color: grey;\">\n",
    "\n",
    "Die Funktion `range()` kann mit bis zu zwei weiteren Argumenten versehen werden, `start` und `step`, mit denen wir die Anfangszahl bzw. den Abstand zwischen den Werten ändern können. \n",
    "\n",
    "Die Reihenfolge, in der die Argumente in der Funktion angegeben werden müssen, ist `range(start, stop, step)`. \n",
    "\n",
    "Auch hier müssen alle drei Argumente ganze Zahlen sein.\n",
    "\n",
    "</div>\n",
    "</div>\n"
   ]
  },
  {
   "cell_type": "code",
   "execution_count": null,
   "metadata": {},
   "outputs": [],
   "source": [
    "# you can always ask for help\n",
    "\n",
    "help(range)"
   ]
  },
  {
   "cell_type": "markdown",
   "metadata": {},
   "source": [
    "<div class=\"alert alert-block alert-light\">\n",
    "\n",
    "<div style=\"display: flex; justify-content: space-between;\">\n",
    "<div style=\"width: 48%; line-height: 1.3;\">\n",
    "\n",
    "#### Exercise\n",
    "\n",
    "Utilize a `for` loop in conjunction with the `range` function to print all odd numbers from 1 to 25, inclusive. \n",
    "\n",
    "Ensure that 25 is included in the output.\n",
    "\n",
    "*Hint*: Simply print every second number in a sequence that starts at 1 and ends at 25.\n",
    "</div>\n",
    "<div style=\"width: 48%; line-height: 1.3;color: grey;\">\n",
    "\n",
    "#### Übung\n",
    "\n",
    "Benutzen Sie eine `for`-Schleife in Verbindung mit der `range`-Funktion, um alle ungeraden Zahlen von 1 bis einschließlich 25 auszugeben. \n",
    "\n",
    "Achten Sie darauf, dass 25 in der Ausgabe enthalten ist.\n",
    "\n",
    "*Tipp*: Drucken Sie einfach jede zweite Zahl in einer Folge, die bei 1 beginnt und bei 25 endet.\n",
    "</div>\n",
    "</div>"
   ]
  },
  {
   "cell_type": "code",
   "execution_count": null,
   "metadata": {},
   "outputs": [],
   "source": [
    "#countdown\n",
    "countdown_timer(5)"
   ]
  },
  {
   "cell_type": "code",
   "execution_count": null,
   "metadata": {},
   "outputs": [],
   "source": [
    "for i in range(1,26,2):\n",
    "    print(i)"
   ]
  },
  {
   "cell_type": "markdown",
   "metadata": {},
   "source": [
    "<div style=\"display: flex; justify-content: space-between;\">\n",
    "<div style=\"width: 48%; line-height: 1.3;\">\n",
    "\n",
    "### Some applications of the `for` loop \n",
    "#### Running totals \n",
    "<p style=\"line-height: 1.3;\">\n",
    "\n",
    "A common application of `for` loops is in calculating running totals. \n",
    "\n",
    "For example, consider the task of summing all odd numbers between 1 and 100, inclusive. \n",
    "\n",
    "If you were to perform this calculation manually, you would start by adding the first two odd numbers:\n",
    "\n",
    "<center> 1 + 3 = 4 </center>\n",
    "\n",
    "Next, you would add the subsequent number, 5, to this total:\n",
    "\n",
    "<center> 4 + 5 = 9 </center>\n",
    "\n",
    "This process continues, adding the next odd number each time, until you reach 100:\n",
    "\n",
    "<center> 9 + 7 = 16 </center>\n",
    "\n",
    "<center> 16 + 9 = 25 </center>\n",
    "\n",
    "This method involves repeated additions, maintaining a cumulative total until the final number is added.\n",
    "\n",
    "We can use a `for` loop to do exactly the same thing: adding the numbers one at a time to a running total. \n",
    "\n",
    "To keep track of the running sum, we use a variable known as an *accumulator* (for the purposes of this example we shall call this variable `s`).\n",
    "\n",
    "We initialize the value `s = 0`, because no numbers have been added to it yet. \n",
    "\n",
    "Next we update the value of the accumulator by adding the first number, `s + 1 = 1`. \n",
    "\n",
    "Then we add the next number, 3, and update the accumulator accordingly: `s + 3 = 4`. \n",
    "\n",
    "We repeat this process until we have added the final number to the accumulator. \n",
    "\n",
    "</div>\n",
    "<div style=\"width: 48%; line-height: 1.3; color: grey;\">\n",
    "\n",
    "### Einige Anwendungen der `for`-Schleife\n",
    "#### Summen laufen lassen\n",
    "<p style=\"line-height: 1.3;\">\n",
    "\n",
    "Eine häufige Anwendung von `for`-Schleifen ist die Berechnung von laufenden Summen. \n",
    "\n",
    "Nehmen wir zum Beispiel die Aufgabe, alle ungeraden Zahlen zwischen 1 und 100 zu summieren. \n",
    "\n",
    "Wenn Sie diese Berechnung manuell durchführen würden, würden Sie mit der Addition der ersten beiden ungeraden Zahlen beginnen:\n",
    "\n",
    "<center> 1 + 3 = 4 </center>\n",
    "\n",
    "Dann würde man die folgende Zahl, 5, zu dieser Summe addieren:\n",
    "\n",
    "<center> 4 + 5 = 9 </center>\n",
    "\n",
    "Dieser Prozess wird fortgesetzt, wobei jedes Mal die nächste ungerade Zahl hinzugefügt wird, bis man 100 erreicht:\n",
    "\n",
    "<center> 9 + 7 = 16 </center>\n",
    "\n",
    "<center> 16 + 9 = 25 </center>\n",
    "\n",
    "Bei dieser Methode wird immer wieder addiert, so dass die Gesamtsumme bis zur letzten Zahl erhalten bleibt.\n",
    "\n",
    "Wir können eine `for`-Schleife verwenden, um genau dasselbe zu tun: Wir addieren die Zahlen eine nach der anderen zu einer laufenden Summe. \n",
    "\n",
    "Um die laufende Summe zu verfolgen, verwenden wir eine Variable, die als *Akkumulator* bekannt ist (für die Zwecke dieses Beispiels nennen wir diese Variable `s`).\n",
    "\n",
    "Wir initialisieren den Wert `s = 0`, da ihm noch keine Zahlen hinzugefügt wurden. Als nächstes aktualisieren wir den Wert des Akkumulators, indem wir die erste Zahl hinzufügen, `s + 1 = 1`. \n",
    "\n",
    "Dann fügen wir die nächste Zahl hinzu, 3, und aktualisieren den Akkumulator entsprechend: `s + 3 = 4`. \n",
    "\n",
    "Wir wiederholen diesen Vorgang, bis wir die letzte Zahl zum Akkumulator hinzugefügt haben.\n",
    "\n",
    "</div>\n",
    "</div>\n"
   ]
  },
  {
   "cell_type": "code",
   "execution_count": 10,
   "metadata": {},
   "outputs": [
    {
     "name": "stdout",
     "output_type": "stream",
     "text": [
      "169\n"
     ]
    }
   ],
   "source": [
    "# Set the inital value of our accumulator, s, to 0: needs to be done before initialising the loop\n",
    "s=0\n",
    "\n",
    "# Use 'range(1,26,2)' to generate an iterable containing all the odd numbers between 0 and 25.\n",
    "# The for loop then adds each of these numbers in turn to our accumulator\n",
    "for i in range(1,26,2):\n",
    "    s += i  # 's += i' is shorthand notation for 's = s+i'\n",
    "\n",
    "# print the value of the accumulator to screen after the for loop has finished adding all the values\n",
    "print(s)"
   ]
  },
  {
   "cell_type": "markdown",
   "metadata": {},
   "source": [
    "<div class=\"alert alert-block alert-light\">\n",
    "\n",
    "<div style=\"display: flex; justify-content: space-between;\">\n",
    "<div style=\"width: 48%; line-height: 1.3;\">\n",
    "\n",
    "#### Exercise\n",
    " Evaluate the following sum:\n",
    "</div>\n",
    "<div style=\"width: 48%; line-height: 1.3;color: grey;\">\n",
    "\n",
    "#### Übung\n",
    "Berechnen Sie die folgende Summe:\n",
    "</div>\n",
    "</div>"
   ]
  },
  {
   "cell_type": "markdown",
   "metadata": {},
   "source": [
    "$$\\begin{align*}\\sum_{i=1}^{25}\\frac{1}{2^{i}}&=\\frac{1}{2^{1}}+\\frac{1}{2^{2}}+\\frac{1}{2^{3}}+\\ldots+\\frac{1}{2^{25}}\\\\[6pt]\n",
    "&=\\frac{1}{2}+\\frac{1}{4}+\\frac{1}{8}+\\ldots+\\frac{1}{33554432}\\\\[6pt]\n",
    "&=?\n",
    "\\end{align*}$$"
   ]
  },
  {
   "cell_type": "code",
   "execution_count": null,
   "metadata": {},
   "outputs": [],
   "source": [
    "#countdown\n",
    "countdown_timer(5)"
   ]
  },
  {
   "cell_type": "code",
   "execution_count": 11,
   "metadata": {},
   "outputs": [
    {
     "data": {
      "text/plain": [
       "0.9999999701976776"
      ]
     },
     "execution_count": 11,
     "metadata": {},
     "output_type": "execute_result"
    }
   ],
   "source": [
    "s = 0\n",
    "\n",
    "for i in range(1,26):\n",
    "    s += 1/(2**i)\n",
    "\n",
    "s"
   ]
  },
  {
   "cell_type": "markdown",
   "metadata": {},
   "source": [
    "<div style=\"display: flex; justify-content: space-between;\">\n",
    "<div style=\"width: 48%; line-height: 1.3;\">\n",
    "\n",
    "#### Creating lists \n",
    "<p style=\"line-height: 1.3;\">\n",
    "\n",
    "\n",
    "Another common use of `for` loops is to build lists, similar to the method for tracking a running sum with an accumulator. \n",
    "\n",
    "The key difference is that instead of updating a variable to store only the final value, we store all the values in a list.\n",
    "\n",
    "For example, let's use a loop to create a list of the squares of the numbers 1-15. \n",
    "\n",
    "First, we create an empty list to hold our values (analogous to initializing an accumulator). \n",
    "\n",
    "After each iteration of the loop, we add the calculated value to the list using the `append()` method, which we have seen in the previous lecture:\n",
    "\n",
    "</div>\n",
    "<div style=\"width: 48%; line-height: 1.3; color: grey;\">\n",
    "\n",
    "#### Listen erstellen\n",
    "<p style=\"line-height: 1.3;\">\n",
    "\n",
    "Eine weitere häufige Verwendung von `for`-Schleifen ist die Erstellung von Listen, ähnlich wie bei der Methode zur Verfolgung einer laufenden Summe mit einem Akkumulator. \n",
    "\n",
    "Der Hauptunterschied besteht darin, dass wir, anstatt eine Variable zu aktualisieren, die nur den Endwert speichert, alle Werte in einer Liste speichern.\n",
    "\n",
    "Verwenden wir zum Beispiel eine Schleife, um eine Liste mit den Quadraten der Zahlen 1-15 zu erstellen. \n",
    "\n",
    "Zunächst erstellen wir eine leere Liste, die unsere Werte enthält (analog zur Initialisierung eines Akkumulators). \n",
    "\n",
    "Nach jeder Iteration der Schleife fügen wir den berechneten Wert zur Liste hinzu, indem wir die Methode `append()` verwenden, den wir in der vorherigen Vorlesung gesehen haben:\n",
    "\n",
    "</div>\n",
    "</div>\n"
   ]
  },
  {
   "cell_type": "code",
   "execution_count": null,
   "metadata": {},
   "outputs": [],
   "source": [
    "#Create an empty list called 'squares' to store our values\n",
    "squares=[]\n",
    "\n",
    "#We want to store the squares of the numbers 1-15 inclusive, so use the 'range(1,16)' command.\n",
    "#To add values to the end of a list we use the 'list_name.append(x)' command\n",
    "\n",
    "for i in range(1,16):\n",
    "    squares.append(i**2)\n",
    "\n",
    "squares"
   ]
  },
  {
   "cell_type": "markdown",
   "metadata": {},
   "source": [
    "<div class=\"alert alert-block alert-light\">\n",
    "\n",
    "<div style=\"display: flex; justify-content: space-between;\">\n",
    "<div style=\"width: 48%; line-height: 1.3;\">\n",
    "\n",
    "#### Exercise\n",
    " Create a list containing the running sum of all odd numbers beween 1 and 25.\n",
    "</div>\n",
    "<div style=\"width: 48%; line-height: 1.3;color: grey;\">\n",
    "\n",
    "#### Übung\n",
    " Erstellen Sie eine Liste, die die laufende Summe aller ungeraden Zahlen zwischen 1 und 25 enthält.\n",
    "</div>\n",
    "</div>"
   ]
  },
  {
   "cell_type": "code",
   "execution_count": null,
   "metadata": {},
   "outputs": [],
   "source": [
    "#countdown\n",
    "countdown_timer(5)"
   ]
  },
  {
   "cell_type": "code",
   "execution_count": null,
   "metadata": {},
   "outputs": [],
   "source": [
    "s = 0                   # accumulator\n",
    "s_list = []             # list of accumulators\n",
    "\n",
    "for i in range(1,26,2):\n",
    "    s += i              # calculate the sum\n",
    "    s_list.append(s)    # append the sum to the list\n",
    "\n",
    "s_list"
   ]
  },
  {
   "cell_type": "markdown",
   "metadata": {},
   "source": [
    "<div style=\"display: flex; justify-content: space-between;\">\n",
    "<div style=\"width: 48%; line-height: 1.3;\">\n",
    "<h5>List comprehensions </h5>\n",
    "<p style=\"line-height: 1.3;\">\n",
    "List comprehensions provide a concise way to create lists. We can implement the previous snippet with two lines of code:\n",
    "\n",
    "</div>\n",
    "<div style=\"width: 48%; line-height: 1.3; color: grey;\">\n",
    "<h5>Listen erstellen</h5>\n",
    "<p style=\"line-height: 1.3;\">\n",
    "List Comprehensions bieten eine übersichtliche Möglichkeit, Listen zu erstellen. Wir können das vorherige Snippet mit zwei Zeilen Code implementieren:\n",
    "\n",
    "</div>\n",
    "</div>\n"
   ]
  },
  {
   "cell_type": "code",
   "execution_count": null,
   "metadata": {},
   "outputs": [],
   "source": [
    "#Create an empty list called 'squares' to store our values\n",
    "squares=[]\n",
    "\n",
    "#We want to store the squares of the numbers 1-15 inclusive, so use the 'range(1,16)' command.\n",
    "#To add values to the end of a list we use the 'list_name.append(x)' command\n",
    "\n",
    "for i in range(1,16):\n",
    "    squares.append(i**2)\n",
    "\n",
    "squares"
   ]
  },
  {
   "cell_type": "code",
   "execution_count": null,
   "metadata": {},
   "outputs": [],
   "source": [
    "squares = [i**2 for i in range(1,16)]\n",
    "\n",
    "squares"
   ]
  },
  {
   "cell_type": "markdown",
   "metadata": {},
   "source": [
    "<div style=\"display: flex; justify-content: space-between;\">\n",
    "<div style=\"width: 48%; line-height: 1.3;\">\n",
    "<p style=\"line-height: 1.3;\">\n",
    "We can also add a conditional: let us only store even numbers.\n",
    "\n",
    "</div>\n",
    "<div style=\"width: 48%; line-height: 1.3; color: grey;\">\n",
    "<p style=\"line-height: 1.3;\">\n",
    "Wir können auch eine Bedingung hinzufügen: Lassen Sie uns nur gerade Zahlen speichern.\n",
    "\n",
    "</div>\n",
    "</div>\n"
   ]
  },
  {
   "cell_type": "code",
   "execution_count": null,
   "metadata": {},
   "outputs": [],
   "source": [
    "even_squares = [i**2 for i in range(1,16) if (i**2 % 2) == 0]   # for en even number, the remainder of the division by 2 is 0\n",
    "\n",
    "even_squares"
   ]
  },
  {
   "cell_type": "markdown",
   "metadata": {},
   "source": [
    "## `while`"
   ]
  },
  {
   "cell_type": "markdown",
   "metadata": {},
   "source": [
    "<div style=\"display: flex; justify-content: space-between;\">\n",
    "<div style=\"width: 48%; line-height: 1.3;\">\n",
    "\n",
    "A `while` loop is used when the number of iterations is not known beforehand; it continues to execute as long as a specified condition remains true.\n",
    "\n",
    "</div>\n",
    "<div style=\"width: 48%; line-height: 1.3;color: grey;\">\n",
    "\n",
    "Eine `while`-Schleife wird verwendet, wenn die Anzahl der Iterationen vorher nicht bekannt ist; sie wird so lange ausgeführt, wie eine bestimmte Bedingung erfüllt bleibt.\n",
    "\n",
    "</div>\n",
    "</div>"
   ]
  },
  {
   "cell_type": "markdown",
   "metadata": {},
   "source": [
    "```python\n",
    "while <condition>:\n",
    "    <body>\n",
    "```"
   ]
  },
  {
   "cell_type": "markdown",
   "metadata": {},
   "source": [
    "<div style=\"display: flex; justify-content: space-between;\">\n",
    "<div style=\"width: 48%; line-height: 1.3;\">\n",
    "<p style=\"line-height: 1.3;\">\n",
    "\n",
    "The `condition` is a statement that evaluates to either `True` or `False`. The `body` consists of the Python commands executed during each iteration of the loop. The `condition` typically includes:\n",
    "\n",
    "A variable initialized before the loop begins, whose value is modified by the commands in the `body`.\n",
    "\n",
    "(Usually, but not always) a <a href=\"https://en.wikipedia.org/wiki/Relational_operator\">relational operator</a> that compares the value of this variable to another value and returns `True` or `False`. \n",
    "\n",
    "When a `while` loop is encountered in Python, the `condition` is evaluated first. \n",
    "\n",
    "If it evaluates to `True`, the commands in the `body` are executed. \n",
    "\n",
    "After this, the `condition` is re-evaluated. The loop continues to run as long as the `condition` remains `True`. Once it becomes `False`, the loop exits. \n",
    "\n",
    "The six relational operators in Python are:\n",
    "</div>\n",
    "<div style=\"width: 48%; line-height: 1.3;color: grey;\">\n",
    "<p style=\"line-height: 1.3;\"> \n",
    "\n",
    "Die `condition` (Bedingung) ist eine Aussage, die entweder `True` oder `False` ergibt. Der `body` besteht aus den Python-Befehlen, die bei jeder Iteration der Schleife ausgeführt werden. Die `condition` enthält typischerweise:\n",
    "\n",
    "Eine Variable, die vor Beginn der Schleife initialisiert wird und deren Wert durch die Befehle im `body` geändert wird.\n",
    "\n",
    "(Normalerweise, aber nicht immer) ein <a href=\"https://en.wikipedia.org/wiki/Relational_operator\">relationaler Operator</a>, der den Wert dieser Variablen mit einem anderen Wert vergleicht und `True` oder `False` zurückgibt.\n",
    "\n",
    "Wenn man in Python auf eine `while`-Schleife trifft, wird zuerst die `condition` ausgewertet.\n",
    "\n",
    "Wenn sie zu `True` ausgewertet wird, werden die Befehle im `body` ausgeführt. \n",
    "\n",
    "Danach wird die `condition` erneut ausgewertet. Die Schleife läuft so lange weiter, wie die `condition` `True` bleibt. Sobald sie `Falsch` wird, wird die Schleife beendet.\n",
    "\n",
    "Die sechs relationalen Operatoren in Python sind:\n",
    "</div>\n",
    "</div>"
   ]
  },
  {
   "cell_type": "markdown",
   "metadata": {},
   "source": [
    "| Operator | Description| Beschreibung   |\n",
    "|----------|------------------------------------|--------------------------------------------|\n",
    "| `<`  | Less than  | Kleiner als|\n",
    "| `<=` | Less than or equal to  | Kleiner oder gleich|\n",
    "| `>`  | Greater than   | Größer als |\n",
    "| `>=` | Greater than or equal to   | Größer oder gleich |\n",
    "| `==` | Equal to   | Gleich |\n",
    "| `!=` | Not equal to   | Ungleich   |\n"
   ]
  },
  {
   "cell_type": "markdown",
   "metadata": {},
   "source": [
    "<div style=\"display: flex; justify-content: space-between;\">\n",
    "<div style=\"width: 48%; line-height: 1.3;\">\n",
    "\n",
    "For example, `a < b` returns `True` if the value of `a` is less than `b`, and `False` otherwise (try typing `5 > 6` in a code cell to see what is returned).\n",
    "\n",
    "</div>\n",
    "<div style=\"width: 48%; line-height: 1.3;color: grey;\">\n",
    "\n",
    "Zum Beispiel gibt `a < b` `True` zurück, wenn der Wert von `a` kleiner als `b` ist, und andernfalls `False` (versuchen Sie, `5 > 6` in eine Codezelle einzugeben, um zu sehen, was zurückgegeben wird).\n",
    "\n",
    "</div>\n",
    "</div>"
   ]
  },
  {
   "cell_type": "markdown",
   "metadata": {},
   "source": [
    "<div style=\"display: flex; justify-content: space-between;\">\n",
    "<div style=\"width: 48%; line-height: 1.3;\">\n",
    "\n",
    "Let's print the first 10 natural numbers using a `while` loop.\n",
    "\n",
    "</div>\n",
    "<div style=\"width: 48%; line-height: 1.3;color: grey;\">\n",
    "\n",
    "Drucken wir die ersten 10 natürlichen Zahlen mit Hilfe einer \"while\"-Schleife.\n",
    "\n",
    "</div>\n",
    "</div>"
   ]
  },
  {
   "cell_type": "code",
   "execution_count": 12,
   "metadata": {},
   "outputs": [
    {
     "name": "stdout",
     "output_type": "stream",
     "text": [
      "1\n",
      "2\n",
      "3\n",
      "4\n",
      "5\n",
      "6\n",
      "7\n",
      "8\n",
      "9\n",
      "10\n"
     ]
    }
   ],
   "source": [
    "n = 1                   # initialize\n",
    "\n",
    "while n <= 10:          # as long as n <= 10...\n",
    "    print(n)            # ...return the value of n...\n",
    "    n += 1              # ...and increase the counter"
   ]
  },
  {
   "cell_type": "markdown",
   "metadata": {},
   "source": [
    "<div style=\"display: flex; justify-content: space-between;\">\n",
    "<div style=\"width: 48%; line-height: 1.3;\">\n",
    "\n",
    "This problem cannot be solved directly with a `for` loop because the number of iterations required is unknown at the start.\n",
    "\n",
    "</div>\n",
    "<div style=\"width: 48%; line-height: 1.3;color: grey;\">\n",
    "\n",
    "Dieses Problem kann nicht direkt mit einer `for`-Schleife gelöst werden, da die Anzahl der erforderlichen Iterationen zu Beginn unbekannt ist.\n",
    "\n",
    "</div>\n",
    "</div>"
   ]
  },
  {
   "cell_type": "markdown",
   "metadata": {},
   "source": [
    "| Feature | `for` Loop  | `for`-Schleife  | `while` Loop   | `while`-Schleife  |\n",
    "|---------------------------------|-----------------------------------------------------|----------------------------------------------------|-----------------------------------------------------|-----------------------------------------------------|\n",
    "| **Use Case**| Iterates over a sequence (e.g., list, range)| Durchläuft eine Sequenz (z.B. Liste, Bereich)   | Repeats as long as a condition is true   | Wiederholt sich, solange eine Bedingung wahr ist|\n",
    "| **Variable Initialization** | Automatic; variable is initialized by the loop  | Automatisch; die Variable wird von der Schleife initialisiert | Must be initialized before the loop | Muss vor der Schleife initialisiert werden   |\n",
    "| **Loop Control**| Controlled by the sequence being iterated over  | Wird durch die zu durchlaufende Sequenz gesteuert   | Controlled by a condition that must eventually become false | Wird durch eine Bedingung gesteuert, die schließlich falsch werden muss |\n",
    "| **Typical Usage**   | Known number of iterations or when iterating over a collection | Bekannte Anzahl von Iterationen oder beim Durchlaufen einer Sammlung | Unknown number of iterations or when condition-based looping is required | Unbekannte Anzahl von Iterationen oder wenn bedingungsbasierte Schleifen erforderlich sind |\n",
    "| **Automatic Update**| Loop variable is automatically updated  | Die Schleifenvariable wird automatisch aktualisiert | Manual update required within the loop  | Manuelle Aktualisierung innerhalb der Schleife erforderlich |\n",
    "| **Examples**| `for i in range(5):`| `for i in range(5):`   | `while i < 5:`  | `while i < 5:`  |\n"
   ]
  },
  {
   "cell_type": "markdown",
   "metadata": {},
   "source": [
    "<div class=\"alert alert-block alert-light\">\n",
    "\n",
    "<div style=\"display: flex; justify-content: space-between;\">\n",
    "<div style=\"width: 48%; line-height: 1.3;\">\n",
    "\n",
    "#### Exercise\n",
    " Find the smallest positive integer the square of which is larger than 1500.\n",
    "</div>\n",
    "<div style=\"width: 48%; line-height: 1.3;color: grey;\">\n",
    "\n",
    "#### Übung\n",
    " Finden Sie die kleinste positive ganze Zahl, deren Quadrat größer als 1500 ist.\n",
    "</div>\n",
    "</div>"
   ]
  },
  {
   "cell_type": "code",
   "execution_count": null,
   "metadata": {},
   "outputs": [],
   "source": [
    "#countdown\n",
    "countdown_timer(5)"
   ]
  },
  {
   "cell_type": "code",
   "execution_count": 13,
   "metadata": {},
   "outputs": [
    {
     "name": "stdout",
     "output_type": "stream",
     "text": [
      "39\n"
     ]
    }
   ],
   "source": [
    "n = 1                   # initialize\n",
    "\n",
    "while n**2 <= 1500:     # as long as n**2 <= 1500...\n",
    "    n += 1              # ...keep increasing n by 1\n",
    "\n",
    "print(n)"
   ]
  },
  {
   "cell_type": "markdown",
   "metadata": {},
   "source": [
    "<div class=\"alert alert-block alert-warning\">\n",
    "\n",
    "<div style=\"display: flex; justify-content: space-between;\">\n",
    "<div style=\"width: 48%; line-height: 1.3;\">\n",
    "\n",
    "# Conditional Statements \n",
    "</div>\n",
    "<div style=\"width: 48%; line-height: 1.3;color: grey;\">\n",
    "\n",
    "# Bedingte Anweisungen\n",
    "</div>\n",
    "</div>"
   ]
  },
  {
   "cell_type": "markdown",
   "metadata": {},
   "source": [
    "<div style=\"display: flex; justify-content: space-between;\">\n",
    "<div style=\"width: 48%; line-height: 1.3;\">\n",
    "\n",
    "Conditional statements in Python allow you to execute different blocks of code based on whether a condition is `True` or `False`.\n",
    "\n",
    "</div>\n",
    "<div style=\"width: 48%; line-height: 1.3;color: grey;\">\n",
    "\n",
    "Mit bedingten Anweisungen in Python können Sie verschiedene Codeblöcke ausführen, je nachdem, ob eine Bedingung `True` oder `False` ist.\n",
    "\n",
    "</div>\n",
    "</div>"
   ]
  },
  {
   "cell_type": "markdown",
   "metadata": {},
   "source": [
    "## `if`"
   ]
  },
  {
   "cell_type": "markdown",
   "metadata": {},
   "source": [
    "<div style=\"display: flex; justify-content: space-between;\">\n",
    "<div style=\"width: 48%; line-height: 1.3;\">\n",
    "\n",
    "The `if` statement is a fundamental control structure in Python. It is used to run a block of code conditionally, based on whether an expression evaluates to `True`. The syntax is as follows:\n",
    "\n",
    "</div>\n",
    "<div style=\"width: 48%; line-height: 1.3;color: grey;\">\n",
    "\n",
    "Die `if`-Anweisung ist eine grundlegende Kontrollstruktur in Python. Sie wird verwendet, um einen Codeblock bedingt auszuführen, je nachdem, ob ein Ausdruck als `Wahr` ausgewertet wird. Die Syntax lautet wie folgt:\n",
    "\n",
    "</div>\n",
    "</div>"
   ]
  },
  {
   "cell_type": "markdown",
   "metadata": {},
   "source": [
    "```python\n",
    "if <condition>:\n",
    "    <body>\n",
    "```"
   ]
  },
  {
   "cell_type": "code",
   "execution_count": null,
   "metadata": {},
   "outputs": [],
   "source": [
    "a = math.pi\n",
    "\n",
    "if a > 3:\n",
    "    print('a is greater than 3')"
   ]
  },
  {
   "cell_type": "markdown",
   "metadata": {},
   "source": [
    "<div style=\"display: flex; justify-content: space-between;\">\n",
    "<div style=\"width: 48%; line-height: 1.5;\">\n",
    "\n",
    "We can use the logical `and` and `or` operators to check two or more conditions simultaneously:\n",
    "\n",
    " - `(condition 1)  and  (condition 2)` : both conditions must be met for the statement to be evaluated as `True`\n",
    "\n",
    " - `(condition 1)  or  (condition 2)` : either (or both) can be met for the statement to be evaluated as `True`\n",
    "\n",
    "</div>\n",
    "<div style=\"width: 48%; line-height: 1.5;color: grey;\">\n",
    "\n",
    "Wir können die logischen Operatoren `and` und `or` verwenden, um zwei oder mehr Bedingungen gleichzeitig zu prüfen:\n",
    "\n",
    " - `(condition 1)  and  (condition 2)` : beide Bedingungen müssen erfüllt sein, damit die Aussage als `True` ausgewertet wird\n",
    " \n",
    " - `(condition 1)  or  (condition 2)` : eine (oder beide) Bedingungen können erfüllt sein, damit die Anweisung als `True` ausgewertet wird\n",
    "\n",
    "</div>\n",
    "</div>"
   ]
  },
  {
   "cell_type": "code",
   "execution_count": null,
   "metadata": {},
   "outputs": [],
   "source": [
    "a = 214\n",
    "\n",
    "if a > 200 and a < 250 and a!=213:\n",
    "    print(\"'a' is between 201 and 249 (inclusive) but isn't 213\")"
   ]
  },
  {
   "cell_type": "markdown",
   "metadata": {},
   "source": [
    "### `if... elif... else`"
   ]
  },
  {
   "cell_type": "markdown",
   "metadata": {},
   "source": [
    "<div style=\"display: flex; justify-content: space-between;\">\n",
    "<div style=\"width: 48%; line-height: 1.3;\">\n",
    "\n",
    "Frequently, we need to evaluate a condition and execute one block of code if the condition is `True`, and a different block if it is `False`. \n",
    "\n",
    "In such scenarios, the `else` clause provides an alternative path when the initial condition is not met.\n",
    "\n",
    "</div>\n",
    "<div style=\"width: 48%; line-height: 1.3;color: grey;\">\n",
    "\n",
    "Häufig müssen wir eine Bedingung auswerten und einen Codeblock ausführen, wenn die Bedingung `True` ist, und einen anderen Block, wenn sie `False` ist. \n",
    "\n",
    "In solchen Fällen bietet die `else`-Klausel einen alternativen Weg, wenn die Ausgangsbedingung nicht erfüllt ist.\n",
    "\n",
    "</div>\n",
    "</div>"
   ]
  },
  {
   "cell_type": "markdown",
   "metadata": {},
   "source": [
    "```python\n",
    "if <condition>:\n",
    "    <body 1>\n",
    "else:\n",
    "    <body 2>\n",
    "```"
   ]
  },
  {
   "cell_type": "markdown",
   "metadata": {},
   "source": [
    "<div style=\"display: flex; justify-content: space-between;\">\n",
    "<div style=\"width: 48%; line-height: 1.3;\">\n",
    "\n",
    "In the previous example, an `if` statement was used to print a message to screen if a number was greater than 200, but the code did nothing if the number was less than or equal to 200. \n",
    "\n",
    "Using an additional `else` statement allows us to modify our code to explicitly tell us if the number is less than or equal to 200:\n",
    "\n",
    "</div>\n",
    "<div style=\"width: 48%; line-height: 1.3;color: grey;\">\n",
    "\n",
    "Im vorigen Beispiel wurde eine `if`-Anweisung verwendet, um eine Meldung auf dem Bildschirm auszugeben, wenn eine Zahl größer als 200 war, aber der Code tat nichts, wenn die Zahl kleiner oder gleich 200 war. \n",
    "\n",
    "Mit einer zusätzlichen `else`-Anweisung können wir unseren Code so ändern, dass er uns explizit sagt, ob die Zahl kleiner oder gleich 200 ist:\n",
    "\n",
    "</div>\n",
    "</div>"
   ]
  },
  {
   "cell_type": "code",
   "execution_count": null,
   "metadata": {},
   "outputs": [],
   "source": [
    "a = 150\n",
    "\n",
    "if a > 200 and a < 250 and a!=213:\n",
    "    print(\"'a' is between 201 and 249 (inclusive) but isn't 213\")\n",
    "else:\n",
    "    print(\"'a' is less than 200\")"
   ]
  },
  {
   "cell_type": "markdown",
   "metadata": {},
   "source": [
    "<div class=\"alert alert-block alert-light\">\n",
    "\n",
    "<div style=\"display: flex; justify-content: space-between;\">\n",
    "<div style=\"width: 48%; line-height: 1.3;\">\n",
    "\n",
    "#### Exercise\n",
    "\n",
    " Using an `if-else` structure, write a program that determines whether a randomly generated integer between 0 and 10 is even or odd.\n",
    "\n",
    " Hint: We have learned that the modulus operator (`%`) calculates the remainder when one number is divided by another. This operator can be used to identify whether a number is even or odd, as even numbers are divisible by 2 with no remainder (i.e., the remainder is 0). \n",
    "\n",
    " You generate a random number with:\n",
    "</div>\n",
    "<div style=\"width: 48%; line-height: 1.3;color: grey;\">\n",
    "\n",
    "#### Übung\n",
    "\n",
    "Schreiben Sie mit Hilfe einer `if-else`-Struktur ein Programm, das ermittelt, ob eine zufällig erzeugte ganze Zahl zwischen 0 und 10 gerade oder ungerade ist.\n",
    "\n",
    "Tipp: Wir haben gelernt, dass der Modulusoperator (`%`) den Rest berechnet, wenn eine Zahl durch eine andere geteilt wird. Mit diesem Operator kann man feststellen, ob eine Zahl gerade oder ungerade ist, denn gerade Zahlen sind durch 2 teilbar, ohne dass ein Rest übrig bleibt (d.h. der Rest ist 0). \n",
    "\n",
    "Eine Zufallszahl erzeugt man mit:\n",
    "</div>\n",
    "</div>"
   ]
  },
  {
   "cell_type": "code",
   "execution_count": 18,
   "metadata": {},
   "outputs": [],
   "source": [
    "import random\n",
    "\n",
    "n = random.randint(0,10)"
   ]
  },
  {
   "cell_type": "code",
   "execution_count": null,
   "metadata": {},
   "outputs": [],
   "source": [
    "#countdown\n",
    "countdown_timer(5)"
   ]
  },
  {
   "cell_type": "code",
   "execution_count": null,
   "metadata": {},
   "outputs": [],
   "source": [
    "import random\n",
    "\n",
    "n = random.randint(0,10)\n",
    "\n",
    "if n % 2 == 0:\n",
    "    print(n, 'is even')\n",
    "else:\n",
    "    print(n, 'is odd')"
   ]
  },
  {
   "cell_type": "markdown",
   "metadata": {},
   "source": [
    "### `if... elif... else`"
   ]
  },
  {
   "cell_type": "markdown",
   "metadata": {},
   "source": [
    "<div style=\"display: flex; justify-content: space-between;\">\n",
    "<div style=\"width: 48%; line-height: 1.3;\">\n",
    "\n",
    "If you need to include multiple branching options in your code, you can use one or more `elif` (short for `else if`) clauses to handle additional conditions.\n",
    "\n",
    "</div>\n",
    "<div style=\"width: 48%; line-height: 1.3;color: grey;\">\n",
    "\n",
    "Wenn Sie mehrere Verzweigungsoptionen in Ihren Code einfügen müssen, können Sie eine oder mehrere `elif`-Klauseln (kurz für `else if`) verwenden, um zusätzliche Bedingungen zu behandeln.\n",
    "\n",
    "</div>\n",
    "</div>"
   ]
  },
  {
   "cell_type": "markdown",
   "metadata": {},
   "source": [
    "```python\n",
    "if <condition 1>:\n",
    "    <body 1>\n",
    "elif <condition 2>:\n",
    "    <body 2>   \n",
    "else:\n",
    "    <body 3>\n",
    "```"
   ]
  },
  {
   "cell_type": "markdown",
   "metadata": {},
   "source": [
    "<div style=\"display: flex; justify-content: space-between;\">\n",
    "<div style=\"width: 48%; line-height: 1.3;\">\n",
    "\n",
    "You can specify any number of `elif` statements, but only a single `else` clause is allowed, and it must appear as the final condition.\n",
    "\n",
    "Only one code block will be executed. Python evaluates each `condition` sequentially, and the first condition that evaluates to `True` triggers the execution of its corresponding `body` block. If none of the conditions are `True`, the code within the `else` clause (if present) will be executed.\n",
    "\n",
    "The `else` clause is optional. However, if it is omitted and no conditions evaluate to `True`, none of the code blocks will be executed.\n",
    "\n",
    "</div>\n",
    "<div style=\"width: 48%; line-height: 1.3;color: grey;\">\n",
    "\n",
    "Sie können eine beliebige Anzahl von `elif`-Anweisungen angeben, aber nur eine einzige `else`-Klausel ist erlaubt, und diese muss als letzte Bedingung erscheinen.\n",
    "\n",
    "Es wird nur ein Codeblock ausgeführt. Python wertet jede `condition` der Reihe nach aus, und die erste Bedingung, die `True` ergibt, löst die Ausführung des entsprechenden `body`-Blocks aus. Wenn keine der Bedingungen `True` ist, wird der Code in der `else`-Klausel (falls vorhanden) ausgeführt.\n",
    "\n",
    "Die `else`-Klausel ist optional. Wenn sie jedoch weggelassen wird und keine der Bedingungen als `True` ausgewertet wird, wird keiner der Codeblöcke ausgeführt.\n",
    "\n",
    "</div>\n",
    "</div>"
   ]
  },
  {
   "cell_type": "code",
   "execution_count": null,
   "metadata": {},
   "outputs": [],
   "source": [
    "n = 200\n",
    "\n",
    "if n > 200:\n",
    "    print(\"'n' is greater than 200\")\n",
    "elif n < 200:\n",
    "    print(\"'n' is less than 200\")\n",
    "elif n == 200:  # an 'else' clause could be used here instead\n",
    "    print(\"'n' is equal to 200\")"
   ]
  },
  {
   "cell_type": "code",
   "execution_count": 14,
   "metadata": {},
   "outputs": [
    {
     "name": "stdout",
     "output_type": "stream",
     "text": [
      "'n' is equal to 200\n"
     ]
    }
   ],
   "source": [
    "n = 200\n",
    "\n",
    "if n > 200:\n",
    "    print(\"'n' is greater than 200\")\n",
    "elif n < 200:\n",
    "    print(\"'n' is less than 200\")\n",
    "else:   \n",
    "    print(\"'n' is equal to 200\") "
   ]
  },
  {
   "cell_type": "markdown",
   "metadata": {},
   "source": [
    "<div style=\"display: flex; justify-content: space-between;\">\n",
    "<div style=\"width: 48%; line-height: 1.3;\">\n",
    "\n",
    "##  Using conditional statements within loops\n",
    "\n",
    "All of the `if`, `else`, and `elif` statements can be used inside loops. \n",
    "\n",
    "For example, if we wanted to print the numbers 0-10 inclusive, but replace 5 with the string 'Five' and 8 with the string 'Eight', we could use an `if-elif-else` structure within a `for` loop as follows:\n",
    "</div>\n",
    "<div style=\"width: 48%; line-height: 1.3;color: grey;\">\n",
    "\n",
    "## Bedingte Anweisungen innerhalb von Schleifen\n",
    "\n",
    "Alle `if`-, `else`- und `elif`-Anweisungen können innerhalb von Schleifen verwendet werden.\n",
    "\n",
    "Wenn wir zum Beispiel die Zahlen 0-10 einschließlich ausgeben wollen, aber 5 durch die Zeichenkette 'Fünf' und 8 durch die Zeichenkette 'Acht' ersetzen wollen, könnten wir eine `if-elif-else`-Struktur innerhalb einer `for`-Schleife wie folgt verwenden:\n",
    "</div>\n",
    "</div>"
   ]
  },
  {
   "cell_type": "code",
   "execution_count": null,
   "metadata": {},
   "outputs": [],
   "source": [
    "for i in range(11):\n",
    "    if i == 5:\n",
    "        print(\"Five\")\n",
    "    elif i == 8:\n",
    "        print(\"Eight\")\n",
    "    else:  \n",
    "        print(i)"
   ]
  },
  {
   "cell_type": "markdown",
   "metadata": {},
   "source": [
    "<div class=\"alert alert-block alert-light\">\n",
    "\n",
    "<div style=\"display: flex; justify-content: space-between;\">\n",
    "<div style=\"width: 48%; line-height: 1.3;\">\n",
    "\n",
    "# Exercises\n",
    "</div>\n",
    "<div style=\"width: 48%; line-height: 1.3;color: grey;\">\n",
    "\n",
    "# Übungen\n",
    "</div>\n",
    "</div>"
   ]
  },
  {
   "cell_type": "markdown",
   "metadata": {},
   "source": [
    "<div class=\"alert alert-block alert-light\">\n",
    "\n",
    "<div style=\"display: flex; justify-content: space-between;\">\n",
    "<div style=\"width: 48%; line-height: 1.3;\">\n",
    "\n",
    "####  1 \n",
    "\n",
    "Write a Python program that uses a `for` loop to calculate the factorial of 5.\n",
    "\n",
    "The factorial of a number (denoted as `n!`) is the product of all positive integers from n down to 1. \n",
    "\n",
    "Follow these steps:\n",
    "\n",
    "- Initialize a variable `factorial` with a value of 1 to store the result.\n",
    "\n",
    "- Use a `for` loop and the `range()` function to iterate through numbers from 1 to n (in this case, 5). The loop will run five times since n is 5.\n",
    " \n",
    "- In each iteration, multiply the current value of factorial by the current loop number (i), and update the factorial variable accordingly (`factorial = factorial * i`).\n",
    "\n",
    "- Once the loop finishes, print the final value of factorial, which will be the factorial of 5.\n",
    "\n",
    "</div>\n",
    "<div style=\"width: 48%; line-height: 1.3;color: grey;\">\n",
    "\n",
    "####  1 \n",
    "\n",
    "Schreibe ein Programm, das eine `for`-Schleife verwendet, um die Fakultät von 5 zu berechnen.\n",
    "\n",
    "Die Fakultät einer Zahl (bezeichnet als `n!`) ist das Produkt aller positiven ganzen Zahlen von n bis hinunter zu 1. \n",
    "\n",
    "Führen Sie die folgenden Schritte aus:\n",
    "\n",
    "- Initialisiere eine Variable `factorial` mit einem Wert von 1, um das Ergebnis zu speichern.\n",
    "\n",
    "- Verwenden Sie eine `for`-Schleife und die Funktion `range()`, um durch die Zahlen von 1 bis n (in diesem Fall 5) zu iterieren. Die Schleife wird fünfmal durchlaufen, da n gleich 5 ist.\n",
    "\n",
    "- Bei jeder Iteration wird der aktuelle Wert von factorial mit der aktuellen Schleifennummer (i) multipliziert und die Variable factorial entsprechend aktualisiert (`factorial = factorial * i`).\n",
    "\n",
    "- Wenn die Schleife beendet ist, drucke den Endwert von factorial aus, der die Fakultät von 5 sein wird.\n",
    "\n",
    "</div>\n",
    "</div>"
   ]
  },
  {
   "cell_type": "code",
   "execution_count": 15,
   "metadata": {},
   "outputs": [
    {
     "name": "stdout",
     "output_type": "stream",
     "text": [
      "The factorial of 5 is 120\n"
     ]
    }
   ],
   "source": [
    "num = 5\n",
    "factorial = 1\n",
    "if num < 0:\n",
    "    print(\"Factorial does not exist for negative numbers\")\n",
    "elif num == 0:\n",
    "    print(\"The factorial of 0 is 1\")\n",
    "else:\n",
    "# run loop 5 times\n",
    "    for i in range(1, num + 1):\n",
    "# multiply factorial by current number\n",
    "        factorial = factorial * i\n",
    "print(\"The factorial of\", num, \"is\", factorial)"
   ]
  },
  {
   "cell_type": "markdown",
   "metadata": {},
   "source": [
    "<div class=\"alert alert-block alert-light\">\n",
    "\n",
    "<div style=\"display: flex; justify-content: space-between;\">\n",
    "<div style=\"width: 48%; line-height: 1.3;\">\n",
    "\n",
    "####  2 \n",
    "\n",
    "The Fibonacci sequence is a series of numbers in which the next number is found by adding up the two numbers before it. \n",
    "\n",
    "The first two numbers are 0 and 1. \n",
    "\n",
    "For example: 0, 1, 1, 2, 3, 5, 8, 13, 21. \n",
    "\n",
    "The next number in this series is 13 + 21 = 34.\n",
    "</div>\n",
    "<div style=\"width: 48%; line-height: 1.3;color: grey;\">\n",
    "\n",
    "####  2 \n",
    "\n",
    "Die Fibonacci-Folge ist eine Zahlenreihe, bei der die nächste Zahl durch die Addition der beiden vorhergehenden Zahlen gefunden wird. \n",
    "\n",
    "Die ersten beiden Zahlen sind 0 und 1. \n",
    "\n",
    "Zum Beispiel: 0, 1, 1, 2, 3, 5, 8, 13, 21. \n",
    "\n",
    "Die nächste Zahl in dieser Reihe ist 13 + 21 = 34.\n",
    "</div>\n",
    "</div>\n",
    "<div style=\"text-align: center; margin-top: 20px;\">\n",
    "\n",
    "$$\n",
    "0 \\xrightarrow{+1} 1 \\xrightarrow{+1} 1 \\xrightarrow{+2} 2 \\xrightarrow{+3} 3 \\xrightarrow{+5} 5 \\xrightarrow{+8} 8 \\xrightarrow{+13} 13 \\xrightarrow{+21} 21 \\xrightarrow{+34} 34 \\xrightarrow{+55} 55\n",
    "$$\n",
    "</div>\n",
    "<div style=\"display: flex; justify-content: space-between;\">\n",
    "<div style=\"width: 48%; line-height: 1.3;\">\n",
    "\n",
    "Calculate the Fibonacci series up to 10 terms.\n",
    "\n",
    "- Initialize `num1 = 0` and `num2 = 1` (the first two numbers of the sequence). \n",
    "\n",
    "- Run a loop 10 times. \n",
    "\n",
    "    - In each iteration:  Print `num1`, which is the current number in the sequence. \n",
    "    - Calculate the next number: `result = num1 + num2`. \n",
    "    - Update the values of `num1` and `num2`: set `num1 = num2` and `num2 = result`.   \n",
    "</div>\n",
    "<div style=\"width: 48%; line-height: 1.3;color: grey;\">\n",
    "\n",
    "Berechnen Sie die Fibonacci-Reihe bis zu 10 Termen.\n",
    "\n",
    "- Initialisiere `num1 = 0` und `num2 = 1` (die ersten beiden Zahlen der Folge).\n",
    "\n",
    "- Führen Sie eine Schleife 10 Mal aus.\n",
    "\n",
    "    - In jeder Iteration:  Gib `num1` aus, das ist die aktuelle Zahl in der Folge.\n",
    "    - Berechne die nächste Zahl: `Ergebnis = num1 + num2`.\n",
    "    - Aktualisiere die Werte von `Zahl1` und `Zahl2`: Setze `Zahl1 = Zahl2` und `Zahl2 = Ergebnis`.  \n",
    "</div>\n",
    "</div>"
   ]
  },
  {
   "cell_type": "code",
   "execution_count": 19,
   "metadata": {},
   "outputs": [
    {
     "name": "stdout",
     "output_type": "stream",
     "text": [
      "Fibonacci sequence:\n",
      "0\n",
      "1\n",
      "1\n",
      "2\n",
      "3\n",
      "5\n",
      "8\n",
      "13\n",
      "21\n",
      "34\n"
     ]
    }
   ],
   "source": [
    "num1, num2 = 0, 1                       # first two numbers\n",
    "\n",
    "print(\"Fibonacci sequence:\")\n",
    "for i in range(10):                     # run loop 10 times\n",
    "    print(num1)                         # print next number of a series\n",
    "    # add last two numbers to get next number\n",
    "    #   result = num1 + num2\n",
    "    num1, num2 = num2, num1 + num2      # update values"
   ]
  },
  {
   "cell_type": "markdown",
   "metadata": {},
   "source": [
    "<div class=\"alert alert-block alert-light\">\n",
    "\n",
    "<div style=\"display: flex; justify-content: space-between;\">\n",
    "<div style=\"width: 48%; line-height: 1.3;\">\n",
    "\n",
    "####  3 \n",
    "\n",
    "Use a `while` loop to generate the same Fibonacci sequence.\n",
    "</div>\n",
    "<div style=\"width: 48%; line-height: 1.3;color: grey;\">\n",
    "####  3 \n",
    "\n",
    "Verwenden Sie eine `while`-Schleife, um die gleiche Fibonacci-Folge zu erzeugen.\n",
    "</div>\n",
    "</div>"
   ]
  },
  {
   "cell_type": "code",
   "execution_count": 17,
   "metadata": {},
   "outputs": [
    {
     "name": "stdout",
     "output_type": "stream",
     "text": [
      "Fibonacci sequence:\n",
      "0\n",
      "1\n",
      "1\n",
      "2\n",
      "3\n",
      "5\n",
      "8\n",
      "13\n",
      "21\n",
      "34\n"
     ]
    }
   ],
   "source": [
    "# first two numbers\n",
    "num1, num2 = 0, 1\n",
    "# in a while loop we need to initialize the loop variable\n",
    "count = 0\n",
    "\n",
    "print(\"Fibonacci sequence:\")\n",
    "# run loop 10 times\n",
    "while count < 10:\n",
    "# print next number of a series\n",
    "    print(num1)\n",
    "# update values\n",
    "    num1, num2 = num2, num1 + num2\n",
    "    count += 1"
   ]
  },
  {
   "cell_type": "markdown",
   "metadata": {},
   "source": [
    "<div class=\"alert alert-block alert-light\">\n",
    "\n",
    "<div style=\"display: flex; justify-content: space-between;\">\n",
    "<div style=\"width: 48%; line-height: 1.3;\">\n",
    "\n",
    "####  4 \n",
    "A prime number is a number that cannot be made by multiplying other whole numbers. \n",
    "\n",
    "A prime number is a natural number greater than 1 that is not a product of two smaller natural numbers. \n",
    "\n",
    "Print all prime numbers between 25 and 50.\n",
    "</div>\n",
    "<div style=\"width: 48%; line-height: 1.3;color: grey;\">\n",
    "\n",
    "####  4 \n",
    "Eine Primzahl ist eine Zahl, die nicht durch Multiplikation anderer ganzer Zahlen gebildet werden kann. \n",
    "\n",
    "Eine Primzahl ist eine natürliche Zahl größer als 1, die kein Produkt aus zwei kleineren natürlichen Zahlen ist. \n",
    "\n",
    "Drucke alle Primzahlen zwischen 25 und 50 aus.\n",
    "</div>\n",
    "</div>"
   ]
  },
  {
   "cell_type": "code",
   "execution_count": 21,
   "metadata": {},
   "outputs": [
    {
     "name": "stdout",
     "output_type": "stream",
     "text": [
      "Prime numbers between 25 and 50 are:\n",
      "29\n",
      "31\n",
      "37\n",
      "41\n",
      "43\n",
      "47\n"
     ]
    }
   ],
   "source": [
    "start = 25\n",
    "end = 50\n",
    "print(\"Prime numbers between\", start, \"and\", end, \"are:\")\n",
    "\n",
    "for num in range(start, end + 1):\n",
    "    if num > 1:                     # all prime numbers are greater than 1\n",
    "        for i in range(2, num):     # check for factors\n",
    "            if (num % i) == 0:      # not a prime number, so break inner loop and look for next number\n",
    "                break\n",
    "        else:\n",
    "            print(num)"
   ]
  },
  {
   "cell_type": "markdown",
   "metadata": {},
   "source": [
    "<div class=\"alert alert-block alert-light\">\n",
    "\n",
    "<div style=\"display: flex; justify-content: space-between;\">\n",
    "<div style=\"width: 48%; line-height: 1.3;\">\n",
    "\n",
    "####  5 \n",
    "\n",
    "Use a `for` loop and conditional statements to print only the numbers between 1 and 150 (inclusive) that are divisible by both 3 and 5 (e.g., 15), as well as those divisible by both 7 and 2 (e.g., 28). \n",
    "\n",
    "Ensure your code prints exactly 20 numbers in total.\n",
    "</div>\n",
    "<div style=\"width: 48%; line-height: 1.3;color: grey;\">\n",
    "\n",
    "####  5 \n",
    "\n",
    "Verwenden Sie eine `for`-Schleife und bedingte Anweisungen, um nur die Zahlen zwischen 1 und 150 (einschließlich) auszugeben, die sowohl durch 3 und 5 teilbar sind (z. B. 15) als auch durch 7 und 2 teilbar sind (z. B. 28). \n",
    "\n",
    "Stellen Sie sicher, dass Ihr Code insgesamt genau 20 Zahlen ausgibt.\n",
    "</div>\n",
    "</div>"
   ]
  },
  {
   "cell_type": "code",
   "execution_count": 22,
   "metadata": {},
   "outputs": [
    {
     "name": "stdout",
     "output_type": "stream",
     "text": [
      "14 is divisible by 2 and 7\n",
      "15 is divisible by 3 and 5\n",
      "28 is divisible by 2 and 7\n",
      "30 is divisible by 3 and 5\n",
      "42 is divisible by 2 and 7\n",
      "45 is divisible by 3 and 5\n",
      "56 is divisible by 2 and 7\n",
      "60 is divisible by 3 and 5\n",
      "70 is divisible by 2 and 7\n",
      "75 is divisible by 3 and 5\n",
      "84 is divisible by 2 and 7\n",
      "90 is divisible by 3 and 5\n",
      "98 is divisible by 2 and 7\n",
      "105 is divisible by 3 and 5\n",
      "112 is divisible by 2 and 7\n",
      "120 is divisible by 3 and 5\n",
      "126 is divisible by 2 and 7\n",
      "135 is divisible by 3 and 5\n",
      "140 is divisible by 2 and 7\n",
      "150 is divisible by 3 and 5\n"
     ]
    }
   ],
   "source": [
    "for i in range(1,151):\n",
    "    if i%3==0 and i%5==0:   # Check if 'i' is divsible by both 3 (i%3==0) and 5 (i%5==0)\n",
    "        print(i,\"is divisible by 3 and 5\")  # Print 'i' only if both statements are true\n",
    "    elif i%2==0 and i%7==0:\n",
    "        print(i,\"is divisible by 2 and 7\")"
   ]
  },
  {
   "cell_type": "markdown",
   "metadata": {},
   "source": [
    "<div class=\"alert alert-block alert-light\">\n",
    "\n",
    "<div style=\"display: flex; justify-content: space-between;\">\n",
    "<div style=\"width: 48%; line-height: 1.3;\">\n",
    "\n",
    "####  6 \n",
    "A Collatz sequence is a series of numbers generated in the following way:\n",
    "\n",
    " Start with any positive integer;\n",
    " If this number is even, divide by two to generate the next number in the series;\n",
    " If it is instead odd, multiply by three and add one;\n",
    " Repeat this process to generate subsequent members of the sequence.\n",
    "\n",
    "\n",
    "The Collatz conjecture (which remains unproven) suggests that no matter the starting number, the sequence will eventually reach 1. However, the length of the sequence varies depending on the initial number. For instance, starting with 3 produces a Collatz sequence with a length of 8:\n",
    "\n",
    "</div>\n",
    "<div style=\"width: 48%; line-height: 1.3;color: grey;\">\n",
    "\n",
    "####  6 \n",
    "Eine Collatz-Folge ist eine Reihe von Zahlen, die auf folgende Weise erzeugt werden:\n",
    "\n",
    " Beginne mit einer beliebigen positiven ganzen Zahl;\n",
    " Wenn diese Zahl gerade ist, dividiere durch zwei, um die nächste Zahl in der Reihe zu erzeugen;\n",
    " Ist sie stattdessen ungerade, multipliziere mit drei und addiere eins;\n",
    " Wiederhole diesen Vorgang, um die nächsten Glieder der Reihe zu erzeugen.\n",
    "\n",
    "Die Collatz-Vermutung (die nach wie vor unbewiesen ist) besagt, dass die Folge unabhängig von der Ausgangszahl schließlich 1 erreichen wird. Die Länge der Folge variiert jedoch in Abhängigkeit von der Ausgangszahl. Wenn man beispielsweise mit 3 beginnt, ergibt sich eine Collatz-Folge mit einer Länge von 8:\n",
    "</div>\n",
    "</div>\n",
    "<div style=\"text-align: center; margin-top: 20px;\">\n",
    "\n",
    "$$\n",
    "3\\xrightarrow{\\times 3,\\, +1} 10\\xrightarrow{\\div2}5\\xrightarrow{\\times 3,\\, +1}16\\xrightarrow{\\div2}8\\xrightarrow{\\div2}4\\xrightarrow{\\div2}2\\xrightarrow{\\div2}1\n",
    "$$\n",
    "</div>\n",
    "<div style=\"display: flex; justify-content: space-between;\">\n",
    "<div style=\"width: 48%; line-height: 1.3;\">\n",
    "\n",
    "Use a `while` loop to determine the length of the Collatz sequence starting with 837799, which holds the record for the longest Collatz sequence of any number below 1,000,000.\n",
    "</div>\n",
    "<div style=\"width: 48%; line-height: 1.3;color: grey;\">\n",
    "\n",
    "Verwenden Sie eine `while`-Schleife, um die Länge der Collatz-Folge zu bestimmen, die mit 837799 beginnt. Diese Zahl hält den Rekord für die längste Collatz-Folge einer Zahl unter 1.000.000.\n",
    "</div>\n",
    "</div>"
   ]
  },
  {
   "cell_type": "code",
   "execution_count": 23,
   "metadata": {},
   "outputs": [
    {
     "name": "stdout",
     "output_type": "stream",
     "text": [
      "525\n"
     ]
    }
   ],
   "source": [
    "n = 837799\n",
    "\n",
    "length = 1              # start measuring the length\n",
    "while n != 1:           # as long as n is not 1\n",
    "    if n % 2 == 0:      # if n is even, divide it by 2\n",
    "        n = n / 2\n",
    "    else:\n",
    "        n = 3 * n + 1   # if n is odd, multiply it by 3 and add 1\n",
    "    length += 1         # update the length\n",
    "print(length)\n"
   ]
  }
 ],
 "metadata": {
  "kernelspec": {
   "display_name": "base",
   "language": "python",
   "name": "python3"
  },
  "language_info": {
   "codemirror_mode": {
    "name": "ipython",
    "version": 3
   },
   "file_extension": ".py",
   "mimetype": "text/x-python",
   "name": "python",
   "nbconvert_exporter": "python",
   "pygments_lexer": "ipython3",
   "version": "3.10.14"
  }
 },
 "nbformat": 4,
 "nbformat_minor": 2
}
