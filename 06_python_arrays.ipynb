{
 "cells": [
  {
   "cell_type": "code",
   "execution_count": 65,
   "metadata": {},
   "outputs": [],
   "source": [
    "from IPython.display import display, clear_output, HTML\n",
    "import time\n",
    "\n",
    "def countdown_timer(minutes):\n",
    "    total_seconds = minutes * 60\n",
    "    for seconds in range(total_seconds, 0, -1):\n",
    "        mins, secs = divmod(seconds, 60)\n",
    "        time_str = f\"{mins:02}'{secs:02}''\"\n",
    "        clear_output(wait=True)\n",
    "        # HTML with styling\n",
    "        display(HTML(f'<div style=\"font-size: 24px; color: blue; font-weight: bold;\">Time remaining: {time_str}</div>'))\n",
    "        time.sleep(1)\n",
    "    clear_output(wait=True)\n",
    "    # Final message with different styling\n",
    "    display(HTML('<div style=\"font-size: 24px; color: green; font-weight: bold;\">Time\\'s up!</div>'))"
   ]
  },
  {
   "cell_type": "markdown",
   "metadata": {},
   "source": [
    "<div style=\"text-align: center;\">\n",
    "    <img src=\"https://upload.wikimedia.org/wikipedia/commons/thumb/f/f8/Python_logo_and_wordmark.svg/972px-Python_logo_and_wordmark.svg.png?20210516005643\" alt=\"The Python logo\" style=\"width: 60%; max-width: 500px;\">\n",
    "</div>"
   ]
  },
  {
   "cell_type": "markdown",
   "metadata": {},
   "source": [
    "<div class=\"alert alert-block alert-warning\">\n",
    "\n",
    "<div style=\"display: flex; justify-content: space-between;\">\n",
    "<div style=\"width: 48%; line-height: 1.3;\">\n",
    "\n",
    "# Arrays \n",
    "</div>\n",
    "<div style=\"width: 48%; line-height: 1.3;color: grey;\">\n",
    "\n",
    "# Arrays\n",
    "</div>\n",
    "</div>"
   ]
  },
  {
   "cell_type": "markdown",
   "metadata": {},
   "source": [
    "<div style=\"display: flex; justify-content: space-between;\">\n",
    "<div style=\"width: 48%; line-height: 1.5;\">\n",
    "\n",
    "Lists are examples of *data structures* in Python. \n",
    "\n",
    "However, for scientific computing and data manipulation, an array is often preferred. \n",
    "\n",
    "Unlike lists, arrays are designed specifically for handling numerical data and can represent vectors and matrices efficiently.  \n",
    "\n",
    "Arrays are not part of the core Python language. \n",
    "\n",
    "Fortunately, Python's ecosystem includes numerous libraries that extend its capabilities, and you can leverage these by importing the relevant modules. \n",
    "\n",
    "For working with arrays, we use a powerful library called <b>NumPy</b>, which stands for Numerical Python.  \n",
    "\n",
    "To use NumPy in your code, you need to import the module using the `import` statement, as we did to import `math` in the previous lecture. \n",
    "\n",
    "To simplify code and avoid typing \"numpy\" repeatedly, we commonly use the alias `np`. Here’s how you do it:\n",
    "        \n",
    "</div>\n",
    "<div style=\"width: 48%; line-height: 1.3;color: grey;\">\n",
    "\n",
    "Listen sind Beispiele für *Datenstrukturen* in Python. \n",
    "\n",
    "Für wissenschaftliche Berechnungen und Datenmanipulationen wird jedoch oft ein Array bevorzugt. \n",
    "\n",
    "Im Gegensatz zu Listen sind Arrays speziell für die Verarbeitung numerischer Daten konzipiert und können Vektoren und Matrizen effizient darstellen.\n",
    "\n",
    "Arrays sind nicht Teil der Kernsprache Python. \n",
    "\n",
    "Glücklicherweise enthält das Ökosystem von Python zahlreiche Bibliotheken, die die Fähigkeiten der Sprache erweitern, und Sie können diese nutzen, indem Sie die entsprechenden Module importieren. \n",
    "\n",
    "Für die Arbeit mit Arrays verwenden wir eine leistungsstarke Bibliothek namens <b>NumPy</b>, was für Numerical Python steht.  \n",
    "\n",
    "Um NumPy in Ihrem Code zu verwenden, müssen Sie das Modul mit der Anweisung `import` importieren, so wie wir es für den Import von `math` in der vorherigen Vorlesung getan haben. \n",
    "\n",
    "Um den Code zu vereinfachen und die wiederholte Eingabe von \"numpy\" zu vermeiden, verwenden wir häufig den Alias `np`. So geht's:\n",
    "        \n",
    "</div>\n",
    "</div>"
   ]
  },
  {
   "cell_type": "code",
   "execution_count": 5,
   "metadata": {},
   "outputs": [],
   "source": [
    "import numpy as np"
   ]
  },
  {
   "cell_type": "markdown",
   "metadata": {},
   "source": [
    "<div style=\"display: flex; justify-content: space-between;\">\n",
    "<div style=\"width: 48%; line-height: 1.3;\">\n",
    "\n",
    "With this import statement, you can now use `np` as a shorthand to access all the functionality provided by NumPy.\n",
    "        \n",
    "</div>\n",
    "<div style=\"width: 48%; line-height: 1.3;color: grey;\">\n",
    "\n",
    "Mit dieser Import-Anweisung können Sie nun `np` als Abkürzung für den Zugriff auf alle von NumPy bereitgestellten Funktionen verwenden.\n",
    "        \n",
    "</div>\n",
    "</div>"
   ]
  },
  {
   "cell_type": "markdown",
   "metadata": {},
   "source": [
    "<div style=\"display: flex; justify-content: space-between;\">\n",
    "<div style=\"width: 48%; line-height: 1.5; line-height: 1.3;\">\n",
    "\n",
    "## Differences between lists and arrays \n",
    "\n",
    "- Lists can store elements of different data types.\n",
    "- Arrays are designed to store elements of the same data type.\n",
    "\n",
    "- Lists are a built-in data structure in Python and are very versatile but slower and less efficient.\n",
    "- Arrays are typically provided by external libraries like NumPy and are optimized for operations involving large datasets or complex mathematical calculations.\n",
    "\n",
    "- Lists do not support direct mathematical operations on their elements.\n",
    "- Arrays, especially NumPy arrays, support vectorized operations.\n",
    "\n",
    "- Use lists for general-purpose collections of items where flexibility and mixed data types are required.\n",
    "- Use arrays for numerical computations, scientific calculations, and operations requiring high performance and efficiency with large datasets.\n",
    "</div>\n",
    "<div style=\"width: 48%; line-height: 1.3;color: grey;\">\n",
    "\n",
    "## Hauptfunktionen und Operationen \n",
    "\n",
    "- Listen können Elemente unterschiedlicher Datentypen speichern.\n",
    "- Arrays sind dafür ausgelegt, Elemente desselben Datentyps zu speichern.\n",
    "\n",
    "- Listen sind eine eingebaute Datenstruktur in Python und sind sehr vielseitig, aber langsamer und weniger effizient.\n",
    "- Arrays werden typischerweise von externen Bibliotheken wie NumPy bereitgestellt und sind für Operationen mit großen Datensätzen oder komplexen mathematischen Berechnungen optimiert.\n",
    "\n",
    "- Listen unterstützen keine direkten mathematischen Operationen auf ihren Elementen.\n",
    "- Arrays, insbesondere NumPy-Arrays, unterstützen vektorisierte Operationen.\n",
    "\n",
    "- Verwenden Sie Listen für allgemeine Sammlungen von Elementen, wenn Flexibilität und gemischte Datentypen erforderlich sind.\n",
    "- Verwenden Sie Arrays für numerische Berechnungen, wissenschaftliche Berechnungen und Operationen, die hohe Leistung und Effizienz bei großen Datensätzen erfordern.\n",
    "</div>\n",
    "</div>"
   ]
  },
  {
   "cell_type": "markdown",
   "metadata": {},
   "source": [
    "<div style=\"display: flex; justify-content: space-between;\">\n",
    "<div style=\"width: 48%; line-height: 1.5;\">\n",
    "\n",
    "## Creating arrays \n",
    "### Converting lists to arrays \n",
    "\n",
    "You can convert existing lists to arrays using the `np.array(list)` function. \n",
    "\n",
    "In this command, list can be either the name of an existing list or a new list defined by a sequence of comma-separated elements enclosed in square brackets: \n",
    "        \n",
    "</div>\n",
    "<div style=\"width: 48%; line-height: 1.3;color: grey;\">\n",
    "\n",
    "## Arrays erstellen \n",
    "### Konvertierung von Listen in Arrays\n",
    "\n",
    "Sie können vorhandene Listen mit der Funktion `np.array(list)` in Arrays umwandeln. \n",
    "\n",
    "In diesem Befehl kann list entweder der Name einer vorhandenen Liste oder eine neue Liste sein, die durch eine Folge von durch Kommata getrennten Elementen in eckigen Klammern definiert ist:\n",
    "        \n",
    "</div>\n",
    "</div>"
   ]
  },
  {
   "cell_type": "code",
   "execution_count": null,
   "metadata": {},
   "outputs": [],
   "source": [
    "#create the list \"number_list\" containing a sequence of integers\n",
    "number_list = [1, 2, 3, 4, 5, 6]\n",
    "\n",
    "#convert list to an array using np.array() command.\n",
    "number_array = np.array(number_list)\n",
    "\n",
    "#print array and confirm that it is a NumPy array\n",
    "print(number_list, type(number_list))\n",
    "print(number_array, type(number_array))"
   ]
  },
  {
   "cell_type": "code",
   "execution_count": null,
   "metadata": {},
   "outputs": [],
   "source": [
    "# this works, too\n",
    "number_array = np.array([1, 2, 3, 4, 5, 6])\n",
    "\n",
    "number_array"
   ]
  },
  {
   "cell_type": "markdown",
   "metadata": {},
   "source": [
    "<div style=\"display: flex; justify-content: space-between;\">\n",
    "<div style=\"width: 48%; line-height: 1.3;\">\n",
    "\n",
    "### Using built-in commands \n",
    "</div>\n",
    "<div style=\"width: 48%; line-height: 1.3;color: grey;\">\n",
    "   \n",
    "### Verwendung integrierter Befehle\n",
    "</div>\n",
    "</div>"
   ]
  },
  {
   "cell_type": "markdown",
   "metadata": {},
   "source": [
    "##### `arange`"
   ]
  },
  {
   "cell_type": "markdown",
   "metadata": {},
   "source": [
    "<div style=\"display: flex; justify-content: space-between;\">\n",
    "<div style=\"width: 48%; line-height: 1.5;\">\n",
    "\n",
    "`np.arange(start, stop, step)` creates an array of evenly spaced values starting from `start` (inclusive) up to `stop` (<b>exclusive</b>) with a spacing of `step` between consecutive values. \n",
    "        \n",
    "</div>\n",
    "<div style=\"width: 48%; line-height: 1.5;color: grey;\">\n",
    "\n",
    "`np.arange(start, stop, step)` erzeugt ein Array von gleichmäßig verteilten Werten von `start` (inklusive) bis `stop` (<b>ausgeschlossen</b>) mit einem Abstand von `step` zwischen aufeinanderfolgenden Werten.\n",
    "        \n",
    "</div>\n",
    "</div>"
   ]
  },
  {
   "cell_type": "code",
   "execution_count": null,
   "metadata": {},
   "outputs": [],
   "source": [
    "a = np.arange(0, 10, 1) \n",
    "\n",
    "a"
   ]
  },
  {
   "cell_type": "code",
   "execution_count": null,
   "metadata": {},
   "outputs": [],
   "source": [
    "a = np.arange(0, 10, 1.1) \n",
    "\n",
    "a"
   ]
  },
  {
   "cell_type": "markdown",
   "metadata": {},
   "source": [
    "##### `linspace`"
   ]
  },
  {
   "cell_type": "markdown",
   "metadata": {},
   "source": [
    "<div style=\"display: flex; justify-content: space-between;\">\n",
    "<div style=\"width: 48%; line-height: 1.5;\">\n",
    "\n",
    "`np.linspace(start, stop, num)` generates an array of `num` evenly spaced values between `start` and `stop`, <b>inclusive</b> of both endpoints. \n",
    "\n",
    "This method is useful for initializing an array to store future data, provided you know the size in advance, as replacing elements in a NumPy array is faster than appending to an existing one.\n",
    "        \n",
    "</div>\n",
    "<div style=\"width: 48%; line-height: 1.5;color: grey;\">\n",
    "\n",
    "`np.linspace(start, stop, num)` erzeugt ein Array von `num` mit gleichmäßigen Abständen zwischen `start` und `stop`, <b>einschließlich</b> der beiden Endpunkte. \n",
    "\n",
    "Diese Methode ist nützlich für die Initialisierung eines Arrays, um zukünftige Daten zu speichern, vorausgesetzt, man kennt die Größe im Voraus, da das Ersetzen von Elementen in einem NumPy-Array schneller ist als das Anhängen an ein bestehendes Array.\n",
    "        \n",
    "</div>\n",
    "</div>"
   ]
  },
  {
   "cell_type": "code",
   "execution_count": null,
   "metadata": {},
   "outputs": [],
   "source": [
    "print(np.arange(2,15,5))    # arange gives the step size\n",
    "\n",
    "print(np.linspace(2,15,5))  # linspace gives the number of points"
   ]
  },
  {
   "cell_type": "markdown",
   "metadata": {},
   "source": [
    "##### `zeros`"
   ]
  },
  {
   "cell_type": "markdown",
   "metadata": {},
   "source": [
    "<div style=\"display: flex; justify-content: space-between;\">\n",
    "<div style=\"width: 48%; line-height: 1.5;\">\n",
    "\n",
    "`np.zeros(num)` creates an array filled with zeros, where `num` specifies the length of the array.\n",
    "        \n",
    "</div>\n",
    "<div style=\"width: 48%; line-height: 1.5;color: grey;\">\n",
    "\n",
    "`np.linspace(start, stop, num)` erzeugt ein Array von `num` gleichmäßig verteilten Werten zwischen `start` und `stop`, einschließlich beider Endpunkte.\n",
    "        \n",
    "</div>\n",
    "</div>"
   ]
  },
  {
   "cell_type": "code",
   "execution_count": null,
   "metadata": {},
   "outputs": [],
   "source": [
    "#Create an array with 10 elements, each of them equal to zero\n",
    "np.zeros(10)"
   ]
  },
  {
   "cell_type": "markdown",
   "metadata": {},
   "source": [
    "<div class=\"alert alert-block alert-light\">\n",
    "\n",
    "<div style=\"display: flex; justify-content: space-between;\">\n",
    "<div style=\"width: 48%; line-height: 1.3;\">\n",
    "\n",
    "#### Exercise\n",
    "\n",
    "Create the arrays for the first 10 integers, odd numbers up to 10, and even numbers up to 10 using:\n",
    "\n",
    "- `np.array()` \n",
    "\n",
    "- `np.linspace()`\n",
    "\n",
    "- `np.arange()`\n",
    "</div>\n",
    "<div style=\"width: 48%; line-height: 1.3;color: grey;\">\n",
    "\n",
    "#### Übung\n",
    "\n",
    "Erstellen Sie die Arrays für die ersten 10 ganzen Zahlen, die ungeraden Zahlen bis 10 und die geraden Zahlen bis 10 mit:\n",
    "\n",
    "- `np.array()`\n",
    "\n",
    "- `np.linspace()`\n",
    "\n",
    "- `np.arange()`\n",
    "</div>\n",
    "</div>"
   ]
  },
  {
   "cell_type": "code",
   "execution_count": null,
   "metadata": {},
   "outputs": [],
   "source": [
    "#countdown\n",
    "countdown_timer(5)"
   ]
  },
  {
   "cell_type": "markdown",
   "metadata": {},
   "source": [
    "<div style=\"display: flex; justify-content: space-between;\">\n",
    "<div style=\"width: 48%; line-height: 1.3;\">\n",
    "\n",
    "## Indexing and Slicing \n",
    "\n",
    "Arrays are indexed and sliced in the same manner as lists:\n",
    "        \n",
    "</div>\n",
    "<div style=\"width: 48%; line-height: 1.3;color: grey;\">\n",
    "\n",
    "## Indexierung und Slicing \n",
    "\n",
    "Arrays werden auf die gleiche Weise indiziert und zerlegt wie Listen:\n",
    "        \n",
    "</div>\n",
    "</div>"
   ]
  },
  {
   "cell_type": "markdown",
   "metadata": {},
   "source": [
    "<div style=\"text-align: center;\">\n",
    "<img src=\"./figures/ListIndex.png\" width=\"400\"> \n",
    "</div>"
   ]
  },
  {
   "cell_type": "markdown",
   "metadata": {},
   "source": [
    "<div class=\"alert alert-block alert-light\">\n",
    "\n",
    "<div style=\"display: flex; justify-content: space-between;\">\n",
    "<div style=\"width: 48%; line-height: 1.3;\">\n",
    "\n",
    "#### Exercise\n",
    "\n",
    "- Use `np.arange()` to automatically generate an array containing numbers between 25 and 200 with a step size of 23.\n",
    "\n",
    "- Get the value of the third element using indexing. \n",
    "\n",
    "- Get the value of the penultimate element using negative indexing.\n",
    "\n",
    "- Get the value of the fourth through the seventh element using slicing.\n",
    "</div>\n",
    "<div style=\"width: 48%; line-height: 1.3;color: grey;\">\n",
    "\n",
    "#### Übung\n",
    "\n",
    "- Verwenden Sie `np.arange()`, um automatisch ein Array mit Zahlen zwischen 25 und 200 mit einer Schrittweite von 23 zu erzeugen.\n",
    "\n",
    "- Ermitteln Sie den Wert des dritten Elements mithilfe der Indizierung.\n",
    "\n",
    "- Ermitteln Sie den Wert des vorletzten Elements mit Hilfe der negativen Indizierung.\n",
    "\n",
    "- Ermitteln Sie den Wert des vierten bis siebten Elements mithilfe von Slicing.\n",
    "</div>\n",
    "</div>"
   ]
  },
  {
   "cell_type": "code",
   "execution_count": null,
   "metadata": {},
   "outputs": [],
   "source": [
    "#countdown\n",
    "countdown_timer(5)"
   ]
  },
  {
   "cell_type": "code",
   "execution_count": null,
   "metadata": {},
   "outputs": [],
   "source": [
    "a = np.arange(25,201,23)\n",
    "\n",
    "print(a)\n",
    "print(a[2])\n",
    "print(a[-2])\n",
    "print(a[3:8])"
   ]
  },
  {
   "cell_type": "code",
   "execution_count": 2,
   "metadata": {},
   "outputs": [
    {
     "data": {
      "text/plain": [
       "40.0"
      ]
     },
     "execution_count": 2,
     "metadata": {},
     "output_type": "execute_result"
    }
   ],
   "source": [
    "10 * (4 * 45/60 + 1 )"
   ]
  },
  {
   "cell_type": "markdown",
   "metadata": {},
   "source": [
    "<div style=\"display: flex; justify-content: space-between;\">\n",
    "<div style=\"width: 48%; line-height: 1.3;\">\n",
    "\n",
    "However, whilst nested lists must be indexed with sequences of square brackets:\n",
    "</div>\n",
    "<div style=\"width: 48%; line-height: 1.3;color: grey;\">\n",
    "\n",
    "Während verschachtelte Listen jedoch mit Folgen von eckigen Klammern indiziert werden müssen:\n",
    "</div>\n",
    "</div>"
   ]
  },
  {
   "cell_type": "code",
   "execution_count": 3,
   "metadata": {},
   "outputs": [
    {
     "data": {
      "text/plain": [
       "4"
      ]
     },
     "execution_count": 3,
     "metadata": {},
     "output_type": "execute_result"
    }
   ],
   "source": [
    "list = [[1, 2, 0], \n",
    "        [1, 3, 4], \n",
    "        [-2, 0.5, 1]]\n",
    "\n",
    "list[1][2]"
   ]
  },
  {
   "cell_type": "markdown",
   "metadata": {},
   "source": [
    "<div style=\"display: flex; justify-content: space-between;\">\n",
    "<div style=\"width: 48%; line-height: 1.3;\">\n",
    "\n",
    "The preferred way of indexing into multidimensional NumPy arrays is with comma- separated values:\n",
    "</div>\n",
    "<div style=\"width: 48%; line-height: 1.3;color: grey;\">\n",
    "\n",
    "Die bevorzugte Art der Indizierung in mehrdimensionalen NumPy-Arrays ist die Verwendung von kommagetrennten Werten:\n",
    "</div>\n",
    "</div>"
   ]
  },
  {
   "cell_type": "code",
   "execution_count": 6,
   "metadata": {},
   "outputs": [
    {
     "data": {
      "text/plain": [
       "array([[ 1. ,  2. ,  0. ],\n",
       "       [ 1. ,  3. ,  4. ],\n",
       "       [-2. ,  0.5,  1. ]])"
      ]
     },
     "execution_count": 6,
     "metadata": {},
     "output_type": "execute_result"
    }
   ],
   "source": [
    "array = np.array(list)\n",
    "\n",
    "array"
   ]
  },
  {
   "cell_type": "code",
   "execution_count": 7,
   "metadata": {},
   "outputs": [
    {
     "data": {
      "text/plain": [
       "4.0"
      ]
     },
     "execution_count": 7,
     "metadata": {},
     "output_type": "execute_result"
    }
   ],
   "source": [
    "array[1, 2]"
   ]
  },
  {
   "cell_type": "markdown",
   "metadata": {},
   "source": [
    "<div style=\"display: flex; justify-content: space-between;\">\n",
    "<div style=\"width: 48%; line-height: 1.3;\">\n",
    "\n",
    "*Note also that NumPy converted the original, integer 4 in to a float: The presence of* `0.5` *in the initializing statement forced the entire array to become one of floating point values: NumPy arrays only ever have a single type.*\n",
    "</div>\n",
    "<div style=\"width: 48%; line-height: 1.3;color: grey;\">\n",
    "\n",
    "*Beachten Sie auch, dass NumPy die ursprüngliche Ganzzahl 4 in eine Fließkommazahl umgewandelt hat: Das Vorhandensein von* `0.5` *in der Initialisierungsanweisung zwang das gesamte Array, zu einem Fließkommawert zu werden: NumPy-Arrays haben immer nur einen einzigen Typ.*\n",
    "</div>\n",
    "</div>"
   ]
  },
  {
   "cell_type": "markdown",
   "metadata": {},
   "source": [
    "<div style=\"display: flex; justify-content: space-between;\">\n",
    "<div style=\"width: 48%; line-height: 1.3;\">\n",
    "\n",
    "## Manipulating arrays \n",
    "\n",
    "Array elements are manipulated using the same methods as those used for lists:\n",
    "        \n",
    "</div>\n",
    "<div style=\"width: 48%; line-height: 1.3;color: grey;\">\n",
    "\n",
    "## Manipulation von Arrays\n",
    "\n",
    "Array-Elemente werden mit denselben Methoden bearbeitet, die auch für Listen verwendet werden:\n",
    "        \n",
    "</div>\n",
    "</div>"
   ]
  },
  {
   "cell_type": "markdown",
   "metadata": {},
   "source": [
    "<div class=\"alert alert-block alert-light\">\n",
    "\n",
    "<div style=\"display: flex; justify-content: space-between;\">\n",
    "<div style=\"width: 48%; line-height: 1.3;\">\n",
    "\n",
    "#### Exercise\n",
    "\n",
    "- Use `np.linspace()` to automatically create an array containing 11 evenly spaced elements between 0 and 1 inclusive.\n",
    "\n",
    "- Change the value of the first element in the array to 5: what type does this element have? \n",
    "\n",
    "- Change the value of the final element to 100.\n",
    "\n",
    "- Change the values of elements 5-7 to 0.16, 0.25, 0.36, respectively, simultaneously using slicing.\n",
    "</div>\n",
    "<div style=\"width: 48%; line-height: 1.3;color: grey;\">\n",
    "\n",
    "#### Übung\n",
    "\n",
    "- Verwenden Sie `np.linspace()`, um automatisch ein Array zu erstellen, das 11 gleichmäßig verteilte Elemente zwischen 0 und einschließlich 1 enthält.\n",
    "\n",
    "- Ändere den Wert des ersten Elements im Array auf 5: Welchen Typ hat dieses Element?\n",
    "\n",
    "- Ändern Sie den Wert des letzten Elements in 100.\n",
    "\n",
    "- Ändern Sie die Werte der Elemente 5-7 auf 0,16, 0,25 bzw. 0,36, und zwar gleichzeitig durch Slicing.\n",
    "</div>\n",
    "</div>"
   ]
  },
  {
   "cell_type": "code",
   "execution_count": null,
   "metadata": {},
   "outputs": [],
   "source": [
    "#countdown\n",
    "countdown_timer(5)"
   ]
  },
  {
   "cell_type": "markdown",
   "metadata": {},
   "source": [
    "#### Solution"
   ]
  },
  {
   "cell_type": "code",
   "execution_count": null,
   "metadata": {},
   "outputs": [],
   "source": [
    "a = np.linspace(0,1,11)\n",
    "\n",
    "a"
   ]
  },
  {
   "cell_type": "code",
   "execution_count": null,
   "metadata": {},
   "outputs": [],
   "source": [
    "a[0] = 5\n",
    "\n",
    "a"
   ]
  },
  {
   "cell_type": "code",
   "execution_count": null,
   "metadata": {},
   "outputs": [],
   "source": [
    "a[-1] = 100\n",
    "\n",
    "a"
   ]
  },
  {
   "cell_type": "code",
   "execution_count": null,
   "metadata": {},
   "outputs": [],
   "source": [
    "a[4:7] = 0.16, 0.25, 0.36\n",
    "\n",
    "a"
   ]
  },
  {
   "cell_type": "markdown",
   "metadata": {},
   "source": [
    "<div style=\"display: flex; justify-content: space-between;\">\n",
    "<div style=\"width: 48%; line-height: 1.3;\">\n",
    "\n",
    "## Using arrays in mathematical computations \n",
    "\n",
    "The biggest difference between lists and arrays lies in their handling of mathematical operations. \n",
    "\n",
    "For instance, consider the list of numbers `number_list = [1, 2, 3, 4]`. \n",
    "\n",
    "If we want to create a new list where each element is 3 times larger than the corresponding value in `number_list` (i.e., 3, 6, 9, 12), one might be tempted to simply multiply the original list by 3:\n",
    "</div>\n",
    "<div style=\"width: 48%; line-height: 1.3;color: grey;\">\n",
    "\n",
    "## Verwendung von Arrays in mathematischen Berechnungen\n",
    "\n",
    "Der größte Unterschied zwischen Listen und Arrays liegt in der Handhabung von mathematischen Operationen. \n",
    "\n",
    "Betrachten wir zum Beispiel die Zahlenliste `number_list = [1, 2, 3, 4]`. \n",
    "\n",
    "Wenn wir eine neue Liste erstellen wollen, in der jedes Element dreimal so groß ist wie der entsprechende Wert in `number_list` (d.h. 3, 6, 9, 12), könnte man versucht sein, die ursprüngliche Liste einfach mit 3 zu multiplizieren:\n",
    "</div>\n",
    "</div>"
   ]
  },
  {
   "cell_type": "code",
   "execution_count": null,
   "metadata": {},
   "outputs": [],
   "source": [
    "#Create list of numbers\n",
    "number_list = [1,2,3,4]\n",
    "\n",
    "#Multiply this list by 3\n",
    "number_list = number_list*3\n",
    "\n",
    "#look at the result\n",
    "number_list"
   ]
  },
  {
   "cell_type": "markdown",
   "metadata": {},
   "source": [
    "<div style=\"display: flex; justify-content: space-between;\">\n",
    "<div style=\"width: 48%; line-height: 1.3;\">\n",
    "\n",
    "Clearly, this approach does not achieve our intended result! \n",
    "\n",
    "The situation worsens with other simple operations (such as adding 1 to each element or computing the sine), which will likely fail and produce error messages (try it yourself).\n",
    "\n",
    "To mathematically manipulate the numbers in lists, you must process each element individually:\n",
    "        \n",
    "</div>\n",
    "<div style=\"width: 48%; line-height: 1.3;color: grey;\">\n",
    "\n",
    "Es ist klar, dass dieser Ansatz nicht zum gewünschten Ergebnis führt! \n",
    "\n",
    "Die Situation verschlimmert sich bei anderen einfachen Operationen (z.B. Addition von 1 zu jedem Element oder Berechnung des Sinus), die wahrscheinlich fehlschlagen und Fehlermeldungen erzeugen werden (probieren Sie es selbst aus).\n",
    "\n",
    "Um die Zahlen in Listen mathematisch zu manipulieren, müssen Sie jedes Element einzeln verarbeiten:\n",
    "        \n",
    "</div>\n",
    "</div>"
   ]
  },
  {
   "cell_type": "code",
   "execution_count": null,
   "metadata": {},
   "outputs": [],
   "source": [
    "number_list=[1,2,3,4]\n",
    "\n",
    "#Multiply each element by 3 \n",
    "number_list[0] = number_list[0]*3\n",
    "number_list[1] = number_list[1]*3\n",
    "number_list[2] = number_list[2]*3\n",
    "number_list[3] = number_list[3]*3\n",
    "\n",
    "#look at the result\n",
    "number_list"
   ]
  },
  {
   "cell_type": "markdown",
   "metadata": {},
   "source": [
    "<div style=\"display: flex; justify-content: space-between;\">\n",
    "<div style=\"width: 48%; line-height: 1.3;\">\n",
    "\n",
    "On the other hand, if we had used an array for our original data, the first approach would have worked as intended:\n",
    "        \n",
    "</div>\n",
    "<div style=\"width: 48%; line-height: 1.3;color: grey;\">\n",
    "\n",
    "Hätten wir hingegen ein Array für unsere ursprünglichen Daten verwendet, hätte der erste Ansatz wie vorgesehen funktioniert:\n",
    "        \n",
    "</div>\n",
    "</div>"
   ]
  },
  {
   "cell_type": "code",
   "execution_count": null,
   "metadata": {},
   "outputs": [],
   "source": [
    "#Create array of numbers \n",
    "number_array = np.array([1, 2, 3, 4])\n",
    "\n",
    "#Multiply this array by 3\n",
    "number_array = number_array*3\n",
    "\n",
    "#look at the result\n",
    "number_array"
   ]
  },
  {
   "cell_type": "code",
   "execution_count": null,
   "metadata": {},
   "outputs": [],
   "source": [
    "#create an array containing all the whole numbers from -2 to 5, inclusive\n",
    "a = np.linspace(-2,5,8)\n",
    "\n",
    "a"
   ]
  },
  {
   "cell_type": "code",
   "execution_count": null,
   "metadata": {},
   "outputs": [],
   "source": [
    "a + 3"
   ]
  },
  {
   "cell_type": "code",
   "execution_count": null,
   "metadata": {},
   "outputs": [],
   "source": [
    "a/2"
   ]
  },
  {
   "cell_type": "code",
   "execution_count": null,
   "metadata": {},
   "outputs": [],
   "source": [
    "a**3+1"
   ]
  },
  {
   "cell_type": "markdown",
   "metadata": {},
   "source": [
    "<div style=\"display: flex; justify-content: space-between;\">\n",
    "<div style=\"width: 48%; line-height: 1.3;\">\n",
    "\n",
    "NumPy has the same mathematical functions as the `math` module introduced in the previous lesson.\n",
    "        \n",
    "</div>\n",
    "<div style=\"width: 48%; line-height: 1.3;color: grey;\">\n",
    "\n",
    "NumPy hat die gleichen mathematischen Funktionen wie das `math`-Modul, das in der vorherigen Lektion vorgestellt wurde.\n",
    "        \n",
    "</div>\n",
    "</div>"
   ]
  },
  {
   "cell_type": "code",
   "execution_count": null,
   "metadata": {},
   "outputs": [],
   "source": [
    "np.cos(a) "
   ]
  },
  {
   "cell_type": "code",
   "execution_count": null,
   "metadata": {},
   "outputs": [],
   "source": [
    "10**a"
   ]
  },
  {
   "cell_type": "markdown",
   "metadata": {},
   "source": [
    "| Operation                    | Operation                   | Python `math` Function   | NumPy `np` Function      |\n",
    "|------------------------------|-----------------------------|--------------------------|--------------------------|\n",
    "| Square Root                  | Quadratwurzel               | `math.sqrt(x)`           | `np.sqrt(x)`             |\n",
    "| Exponentiation               | Exponentiation              | `math.exp(x)`            | `np.exp(x)`              |\n",
    "| Logarithm (base e)           | Logarithmus (Basis e)       | `math.log(x)`            | `np.log(x)`              |\n",
    "| Logarithm (base 10)          | Logarithmus (Basis 10)      | `math.log10(x)`          | `np.log10(x)`            |\n",
    "| Sine                         | Sinus                       | `math.sin(x)`            | `np.sin(x)`              |\n",
    "| Cosine                       | Kosinus                     | `math.cos(x)`            | `np.cos(x)`              |\n",
    "| Tangent                      | Tangens                     | `math.tan(x)`            | `np.tan(x)`              |\n",
    "| Arcsine                      | Arkussinus                  | `math.asin(x)`           | `np.arcsin(x)`           |\n",
    "| Arccosine                    | Arkuskosinus                | `math.acos(x)`           | `np.arccos(x)`           |\n",
    "| Arctangent                   | Arkustangens                | `math.atan(x)`           | `np.arctan(x)`           |\n",
    "| Hyperbolic Sine              | Hyperbolischer Sinus        | `math.sinh(x)`           | `np.sinh(x)`             |\n",
    "| Hyperbolic Cosine            | Hyperbolischer Kosinus      | `math.cosh(x)`           | `np.cosh(x)`             |\n",
    "| Hyperbolic Tangent           | Hyperbolischer Tangens      | `math.tanh(x)`           | `np.tanh(x)`             |\n",
    "| Convert Degrees to Radians   | Grad in Bogenmaß umwandeln  | `math.radians(x)`        | `np.deg2rad(x)`          |\n",
    "| Convert Radians to Degrees   | Bogenmaß in Grad umwandeln  | `math.degrees(x)`        | `np.rad2deg(x)`          |\n",
    "| Power                        | Potenz                      | `math.pow(x, y)`         | `np.power(x, y)`         |\n",
    "| Absolute Value               | Absoluter Wert              | `math.abs(x)`            | `np.abs(x)`              |\n",
    "| Factorial                    | Fakultät                    | `math.factorial(x)`      | `np.math.factorial(x)`   |\n",
    "| Pi (π)                       | Pi (π)                      | `math.pi`                | `np.pi`                  |\n",
    "| Euler's Number (e)            | Eulersche Zahl (e)          | `math.e`                 | `np.e`                   |"
   ]
  },
  {
   "cell_type": "markdown",
   "metadata": {},
   "source": [
    "<div style=\"display: flex; justify-content: space-between;\">\n",
    "<div style=\"width: 48%; line-height: 1.3;\">\n",
    "\n",
    "Arrays can be added, subtracted, multiplied, and divided on an element-by-element basis, as long as the two arrays have the same length:\n",
    "        \n",
    "</div>\n",
    "<div style=\"width: 48%; line-height: 1.3;color: grey;\">\n",
    "\n",
    "Arrays können Element für Element addiert, subtrahiert, multipliziert und geteilt werden, solange die beiden Arrays die gleiche Länge haben:\n",
    "        \n",
    "</div>\n",
    "</div>"
   ]
  },
  {
   "cell_type": "code",
   "execution_count": null,
   "metadata": {},
   "outputs": [],
   "source": [
    "#Create two arrays, each with four elements\n",
    "a = np.array([1, 2, 3, 4])\n",
    "b = np.array([5, 6, 7, 8])\n",
    "\n",
    "print(\"a+b =\", a+b)\n",
    "print(\"a-b =\", a-b)\n",
    "print(\"a*b =\", a*b) # this is NOT equivalent to the dot or cross product of two vectors!\n",
    "print(\"b/a =\", b/a)"
   ]
  },
  {
   "cell_type": "markdown",
   "metadata": {},
   "source": [
    "<div style=\"display: flex; justify-content: space-between;\">\n",
    "<div style=\"width: 48%; line-height: 1.3;\">\n",
    "\n",
    "We will leverage NumPy's powerful vectorized operations to calculate and plot a function by applying it to an array of values representing the independent variable.\n",
    "\n",
    "It’s easier to do it than to explain it:\n",
    "        \n",
    "</div>\n",
    "<div style=\"width: 48%; line-height: 1.3;color: grey;\">\n",
    "\n",
    "Wir werden die leistungsstarken vektorisierten Operationen von NumPy nutzen, um eine Funktion zu berechnen und darzustellen, indem wir sie auf ein Array von Werten anwenden, die die unabhängige Variable darstellen.\n",
    "\n",
    "Es ist einfacher, es zu tun, als es zu erklären:\n",
    "        \n",
    "</div>\n",
    "</div>"
   ]
  },
  {
   "cell_type": "code",
   "execution_count": null,
   "metadata": {},
   "outputs": [],
   "source": [
    "import numpy as np\n",
    "import matplotlib.pyplot as plt\n",
    "\n",
    "# Create an array of values from 0 to 2π\n",
    "x = np.linspace(0, 2 * np.pi, 100)\n",
    "\n",
    "# Calculate the sine of each value in the array\n",
    "y = np.sin(x)\n",
    "\n",
    "# Plot the sine function\n",
    "plt.scatter(x, y, marker=\".\")\n",
    "plt.plot(x, y)\n",
    "plt.xlabel('x, rad')\n",
    "plt.ylabel('sin(x)')\n",
    "plt.title('Plot of sin(x)')\n",
    "plt.grid(True)\n",
    "plt.show()"
   ]
  },
  {
   "cell_type": "markdown",
   "metadata": {},
   "source": [
    "<div style=\"display: flex; justify-content: space-between;\">\n",
    "<div style=\"width: 48%; line-height: 1.3;\">\n",
    "\n",
    "The value of the function is calculated at each corresponding value of x in the array, resulting in an array of y values that represent the function's output for every input x.\n",
    "        \n",
    "</div>\n",
    "<div style=\"width: 48%; line-height: 1.3;color: grey;\">\n",
    "\n",
    "Der Wert der Funktion wird für jeden entsprechenden Wert von x in der Matrix berechnet, was zu einer Matrix von y-Werten führt, die die Ausgabe der Funktion für jede Eingabe x darstellen.\n",
    "        \n",
    "</div>\n",
    "</div>"
   ]
  },
  {
   "cell_type": "markdown",
   "metadata": {},
   "source": [
    "<div style=\"display: flex; justify-content: space-between;\">\n",
    "<div style=\"width: 48%; line-height: 1.3;\">\n",
    "\n",
    "####  Boolean arrays \n",
    "\n",
    "Comparison operations on a NumPy array are vectorized and return an array of `True` and `False` values:\n",
    "</div>\n",
    "<div style=\"width: 48%; line-height: 1.3;color: grey;\">\n",
    "\n",
    "#### Bolean-Arrays \n",
    "\n",
    "Vergleichsoperationen auf einem NumPy-Array sind vektorisiert und geben ein Array mit `True` und `False` Werten zurück:\n",
    "</div>\n",
    "</div>"
   ]
  },
  {
   "cell_type": "code",
   "execution_count": 26,
   "metadata": {},
   "outputs": [
    {
     "name": "stdout",
     "output_type": "stream",
     "text": [
      "[False False  True  True  True False]\n",
      "[False  True False False False  True]\n",
      "[False False False  True False False]\n"
     ]
    }
   ],
   "source": [
    "arr = np.array([0, 1, 2, 4, 2, 1])\n",
    "\n",
    "print(arr > 1)\n",
    "print(arr == 1)\n",
    "print(arr**2 > 10)"
   ]
  },
  {
   "cell_type": "markdown",
   "metadata": {},
   "source": [
    "<div style=\"display: flex; justify-content: space-between;\">\n",
    "<div style=\"width: 48%; line-height: 1.3;\">\n",
    "\n",
    "Since the boolean quantities `True` and `False` are equal to the integer values `1` and `0`, respectively, these boolean arrays can be passed to `np.sum` to count the number of `True` values:\n",
    "</div>\n",
    "<div style=\"width: 48%; line-height: 1.3;color: grey;\">\n",
    "\n",
    "Da die booleschen Größen `True` und `False` gleich den ganzzahligen Werten `1` bzw. `0` sind, können diese booleschen Arrays an `np.sum` übergeben werden, um die Anzahl der `True`-Werte zu zählen:\n",
    "</div>\n",
    "</div>"
   ]
  },
  {
   "cell_type": "code",
   "execution_count": 27,
   "metadata": {},
   "outputs": [
    {
     "data": {
      "text/plain": [
       "3"
      ]
     },
     "execution_count": 27,
     "metadata": {},
     "output_type": "execute_result"
    }
   ],
   "source": [
    "np.sum(arr > 1)     # Number of elements greater than 1"
   ]
  },
  {
   "cell_type": "markdown",
   "metadata": {},
   "source": [
    "<div style=\"display: flex; justify-content: space-between;\">\n",
    "<div style=\"width: 48%; line-height: 1.3;\">\n",
    "\n",
    "###  Summary statistics (aggregation) \n",
    "\n",
    "**Numpy aggregation** refers to the process of applying a function to summarize or combine a collection of data, typically an array or a matrix, into a single value or a smaller set of values. \n",
    "\n",
    "These aggregation functions in NumPy are used to compute metrics like sums, averages, min/max values, and more, over an entire array or along specific axes.\n",
    "</div>\n",
    "<div style=\"width: 48%; line-height: 1.3;color: grey;\">\n",
    "\n",
    "###  Zusammenfassende Statistiken (Aggregation)\n",
    "\n",
    "Die **Numpy-Aggregation** bezieht sich auf den Prozess der Anwendung einer Funktion, um eine Sammlung von Daten, typischerweise ein Array oder eine Matrix, zu einem einzigen Wert oder einer kleineren Menge von Werten zusammenzufassen oder zu kombinieren. \n",
    "\n",
    "Diese Aggregationsfunktionen in NumPy werden verwendet, um Metriken wie Summen, Mittelwerte, Min/Max-Werte und mehr über ein ganzes Array oder entlang bestimmter Achsen zu berechnen.\n",
    "</div>\n",
    "</div>"
   ]
  },
  {
   "cell_type": "markdown",
   "metadata": {},
   "source": [
    "| Function                              | Description                                         | Beschreibung                              |\n",
    "|---------------------------------------|-----------------------------------------------------|-------------------------------------------------|\n",
    "| `np.sum()`                            | Adds up all the elements in an array.               | Summiert alle Elemente in einem Array.           |\n",
    "| `np.mean()`                           | Calculates the average (mean) of the elements.      | Berechnet den Durchschnitt (Mittelwert) der Elemente. |\n",
    "| `np.min()` / `np.max()`               | Finds the minimum or maximum value.                 | Findet den minimalen oder maximalen Wert.        |\n",
    "| `np.median()`                         | Computes the median value.                          | Berechnet den Medianwert.                        |\n",
    "| `np.std()`                            | Computes the standard deviation.                    | Berechnet die Standardabweichung.                |\n",
    "| `np.prod()`                           | Multiplies all elements together.                   | Multipliziert alle Elemente miteinander.         |\n",
    "| `np.var()`                            | Calculates the variance of the elements.            | Berechnet die Varianz der Elemente.              |\n",
    "| `np.cumsum()`                         | Returns the cumulative sum of elements.             | Gibt die kumulative Summe der Elemente zurück.   |\n",
    "| `np.cumprod()`                        | Returns the cumulative product of elements.         | Gibt das kumulative Produkt der Elemente zurück. |\n",
    "| `np.argmax()` / `np.argmin()`         | Returns the indices of the maximum or minimum value.| Gibt die Indizes des maximalen oder minimalen Werts zurück. |\n",
    "\n",
    "#### Aggregation along axes:\n",
    "For multidimensional arrays, you can aggregate over specific axes (rows or columns) by passing the `axis` argument. For example:\n",
    "- `np.sum(arr, axis=0)` sums along the columns. *(Summiert entlang der Spalten.)*\n",
    "- `np.sum(arr, axis=1)` sums along the rows. *(Summiert entlang der Zeilen.)*"
   ]
  },
  {
   "cell_type": "markdown",
   "metadata": {},
   "source": [
    "<div style=\"display: flex; justify-content: space-between;\">\n",
    "<div style=\"width: 48%; line-height: 1.3;\">\n",
    "\n",
    "The following table contrasts the statistical operations between Python lists and NumPy arrays. \n",
    "        \n",
    "</div>\n",
    "<div style=\"width: 48%; line-height: 1.3;color: grey;\">\n",
    "\n",
    "In der folgenden Tabelle werden die statistischen Operationen zwischen Python-Listen und NumPy-Arrays gegenübergestellt.\n",
    "        \n",
    "</div>\n",
    "</div>"
   ]
  },
  {
   "cell_type": "markdown",
   "metadata": {},
   "source": [
    "| Operation              | Description                                        | Beschreibung                          | Lists                         | Arrays                         |\n",
    "|------------------------|----------------------------------------------------|---------------------------------------|--------------------------------|--------------------------------|\n",
    "| **Mean**               | Average of all elements                           | Durchschnitt aller Elemente           | `sum(list) / len(list)`         | `np.mean(array)`               |\n",
    "| **Median**             | Middle value of the sorted collection             | Mittlerer Wert der sortierten Sammlung | `sorted(list)[len(list)//2]`    | `np.median(array)`             |\n",
    "| **Standard Deviation** | Measure of the dispersion of the data             | Maß für die Streuung der Daten         | N/A | `np.std(array)`                |\n",
    "| **Variance**           | Measure of the spread of the data                 | Maß für die Variabilität der Daten     | N/A | `np.var(array)`                |\n",
    "| **Minimum**            | Smallest value in the collection                   | Kleinster Wert in der Sammlung         | `min(list)`                     | `np.min(array)`                |\n",
    "| **Maximum**            | Largest value in the collection                    | Größter Wert in der Sammlung           | `max(list)`                     | `np.max(array)`                |\n",
    "| **Sum**                | Total sum of all elements                         | Gesamtsumme aller Elemente            | `sum(list)`                     | `np.sum(array)`                |\n",
    "| **Count**              | Number of elements in the collection              | Anzahl der Elemente in der Sammlung    | `len(list)`                     | `np.size(array)`               |\n",
    "| **Percentile**         | Value below which a given percentage of observations fall | Wert, unter dem ein bestimmter Prozentsatz der Beobachtungen liegt | N/A | `np.percentile(array, q)`      |\n",
    "| **Correlation Coefficient** | Measure of linear relationship between two collections | Maß für die lineare Beziehung zwischen zwei Sammlungen | N/A | `np.corrcoef(array1, array2)`  |\n"
   ]
  },
  {
   "cell_type": "markdown",
   "metadata": {},
   "source": [
    "<div class=\"alert alert-block alert-light\">\n",
    "\n",
    "<div style=\"display: flex; justify-content: space-between;\">\n",
    "<div style=\"width: 48%; line-height: 1.3;\">\n",
    "\n",
    "#### Exercise\n",
    "You are given an array of grades from a recent exam.\n",
    "\n",
    "1. Analyze this distribution of grades using only those aggregation functions that provide meaningful insights about the overall performance.\n",
    "Using these aggregation functions, summarize the overall performance of the class and reflect on the spread and central tendencies of the grades.\n",
    "\n",
    "2. Assuming the indexes uniquely identify students, which student received the highest grade?\n",
    "</div>\n",
    "<div style=\"width: 48%; line-height: 1.3;color: grey;\">\n",
    "\n",
    "#### Übung\n",
    "Sie erhalten eine Reihe von Noten aus einer kürzlich durchgeführten Prüfung.\n",
    "\n",
    "1. Analysieren Sie diese Verteilung der Noten, indem Sie nur die Aggregationsfunktionen verwenden, die aussagekräftige Erkenntnisse über die Gesamtleistung liefern.\n",
    "Fassen Sie anhand dieser Aggregationsfunktionen die Gesamtleistung der Klasse zusammen und betrachten Sie die Verteilung und die zentralen Tendenzen der Noten.\n",
    "\n",
    "2. Angenommen, die Indizes identifizieren die Schüler eindeutig, welcher Schüler hat die beste Note erhalten?\n",
    "</div>\n",
    "</div>"
   ]
  },
  {
   "cell_type": "code",
   "execution_count": 10,
   "metadata": {},
   "outputs": [],
   "source": [
    "grades = [5.0, 5.0, 2.7, 5.0, 2.7, 1.7, 5.0, 5.0, 3.3, 3.7, 5.0, 2.7, 3.3, 3.0, 2.7, 4.0, 3.0, 3.3, 2.7, 3.7, 3.3, 3.7, 5.0, 1.3, 2.7, 3.3, 2.7, 5.0, \n",
    " 3.7, 5.0, 2.7, 2.7, 5.0, 3.0, 1.7, 3.0, 1.0, 2.3, 5.0, 5.0, 2.3, 2.3, 5.0, 3.7]"
   ]
  },
  {
   "cell_type": "code",
   "execution_count": null,
   "metadata": {},
   "outputs": [],
   "source": [
    "countdown_timer(5)"
   ]
  },
  {
   "cell_type": "code",
   "execution_count": 16,
   "metadata": {},
   "outputs": [
    {
     "data": {
      "text/plain": [
       "(1.0, 5.0, 3.475, 3.3, 1.153)"
      ]
     },
     "execution_count": 16,
     "metadata": {},
     "output_type": "execute_result"
    }
   ],
   "source": [
    "min_grade = np.min(grades)\n",
    "max_grade = np.max(grades)\n",
    "\n",
    "mean_grade = np.mean(grades)\n",
    "median_grade = np.median(grades)\n",
    "std_dev_grade = round(np.std(grades),3)\n",
    "\n",
    "(min_grade, max_grade, mean_grade, median_grade, std_dev_grade)"
   ]
  },
  {
   "cell_type": "code",
   "execution_count": 18,
   "metadata": {},
   "outputs": [
    {
     "data": {
      "text/plain": [
       "36"
      ]
     },
     "execution_count": 18,
     "metadata": {},
     "output_type": "execute_result"
    }
   ],
   "source": [
    "top_performer = np.argmin(grades)\n",
    "\n",
    "top_performer"
   ]
  },
  {
   "cell_type": "markdown",
   "metadata": {},
   "source": [
    "<div style=\"display: flex; justify-content: space-between;\">\n",
    "<div style=\"width: 48%; line-height: 1.3;\">\n",
    "\n",
    "###  NaN: Not a Number \n",
    "\n",
    "In the standard floating point description of numbers, there is a special value, “NaN,” which stands for “Not a Number,” denoting an undefined or invalid value. NumPy’s representation of NaN is `numpy.nan`. \n",
    "\n",
    "For example: There is no number, $x$, for which $\\sin(x) = 1.5$ is defined, and so attempting to find the arcsin of 1.5 yields NaN (with a warning).\n",
    "</div>\n",
    "<div style=\"width: 48%; line-height: 1.3;color: grey;\">\n",
    "\n",
    "###  NaN: Keine Zahl \n",
    "\n",
    "In der Standard-Gleitkomma-Beschreibung von Zahlen gibt es einen speziellen Wert, \"NaN\", der für \"Not a Number\" steht und einen undefinierten oder ungültigen Wert bezeichnet. NumPy's Darstellung von NaN ist `numpy.nan`. \n",
    "\n",
    "Zum Beispiel: Es gibt keine Zahl $x$, für die $\\sin(x) = 1.5$ definiert ist, so dass der Versuch, den Bogensinus von 1.5 zu finden, NaN ergibt (mit einer Warnung).\n",
    "</div>\n",
    "</div>"
   ]
  },
  {
   "cell_type": "code",
   "execution_count": 21,
   "metadata": {},
   "outputs": [
    {
     "name": "stderr",
     "output_type": "stream",
     "text": [
      "/var/folders/kr/hd4z04ps7gj0rkc4v2688f9m0000gn/T/ipykernel_3878/1338636312.py:1: RuntimeWarning: invalid value encountered in arcsin\n",
      "  arr = np.arcsin([-0.5, 0, 0.5, np.sqrt(3)/2, 1, 1.5])\n"
     ]
    },
    {
     "data": {
      "text/plain": [
       "array([-0.52359878,  0.        ,  0.52359878,  1.04719755,  1.57079633,\n",
       "               nan])"
      ]
     },
     "execution_count": 21,
     "metadata": {},
     "output_type": "execute_result"
    }
   ],
   "source": [
    "arr = np.arcsin([-0.5, 0, 0.5, np.sqrt(3)/2, 1, 1.5])\n",
    "\n",
    "arr"
   ]
  },
  {
   "cell_type": "markdown",
   "metadata": {},
   "source": [
    "<div style=\"display: flex; justify-content: space-between;\">\n",
    "<div style=\"width: 48%; line-height: 1.3;\">\n",
    "\n",
    "Dealing with NaN entries in an array can be cumbersome and if an array includes such values, the aggregation functions will also return `numpy.nan`.\n",
    "\n",
    "Luckily, where it is appropriate to simply ignore these invalid array entries there are a family of related methods, `nanmin`, `nanmax`, etc. that do so:\n",
    "</div>\n",
    "<div style=\"width: 48%; line-height: 1.3;color: grey;\">\n",
    "\n",
    "Der Umgang mit NaN-Einträgen in einem Array kann mühsam sein, und wenn ein Array solche Werte enthält, geben die Aggregationsfunktionen auch `numpy.nan` zurück.\n",
    "\n",
    "Glücklicherweise gibt es für die Fälle, in denen es angebracht ist, diese ungültigen Array-Einträge einfach zu ignorieren, eine Reihe verwandter Methoden, `nanmin`, `nanmax`, usw., die dies tun:\n",
    "</div>\n",
    "</div>"
   ]
  },
  {
   "cell_type": "code",
   "execution_count": 22,
   "metadata": {},
   "outputs": [
    {
     "name": "stdout",
     "output_type": "stream",
     "text": [
      "1.5707963267948966\n",
      "0.5235987755982988\n",
      "4\n"
     ]
    }
   ],
   "source": [
    "print(np.nanmax(arr))          # Maximum valid value, ignoring nans\n",
    "print(np.nanmean(arr))         # Mean of all valid values in arr\n",
    "print(np.nanargmax(arr))       # Index of the maximum valid value in arr"
   ]
  },
  {
   "cell_type": "markdown",
   "metadata": {},
   "source": [
    "<div class=\"alert alert-block alert-light\">\n",
    "\n",
    "<div style=\"display: flex; justify-content: space-between;\">\n",
    "<div style=\"width: 48%; line-height: 1.3;\">\n",
    "Exercise\n",
    " \n",
    "The Lennard-Jones potential is an intermolecular pair potential. \n",
    "\n",
    "This simplified model describes the essential features of interactions between simple atoms and molecules: Two interacting particles repel each other at very close distance, attract each other at moderate distance, and eventually stop interacting at infinite distance.\n",
    "\n",
    "The Lennard-Jones potential is given by the formula:\n",
    "        \n",
    "</div>\n",
    "<div style=\"width: 48%; line-height: 1.3;color: grey;\">\n",
    "Übung\n",
    " \n",
    "Das Lennard-Jones-Potenzial ist ein intermolekulares Paarpotenzial. \n",
    "\n",
    "Dieses vereinfachte Modell beschreibt die wesentlichen Merkmale der Wechselwirkungen zwischen einfachen Atomen und Molekülen: Zwei wechselwirkende Teilchen stoßen sich bei sehr geringem Abstand ab, ziehen sich bei mittlerem Abstand an und hören schließlich bei unendlichem Abstand auf, miteinander zu wechselwirken.\n",
    "\n",
    "Das Lennard-Jones-Potenzial wird durch die folgende Formel beschrieben:\n",
    "        \n",
    "</div>\n",
    "</div>\n",
    "<div style=\"text-align: center; margin-top: 20px;\">\n",
    "\n",
    "$$\n",
    "V(r) = 4\\varepsilon \\left[ \\left(\\frac{\\sigma}{r}\\right)^{12} - \\left(\\frac{\\sigma}{r}\\right)^{6} \\right],\n",
    "$$\n",
    "</div>\n",
    "<div style=\"display: flex; justify-content: space-between;\">\n",
    "<div style=\"width: 48%; line-height: 1.3;\">\n",
    "where:\n",
    "\n",
    "- $r$ is the distance between the two atoms.\n",
    "\n",
    "- $\\varepsilon$ is the depth of the potential well (indicating how strongly the two particles attract each other).\n",
    "\n",
    "- $\\sigma$ is the distance at which the potential is zero.\n",
    "        \n",
    "1. Define the values for &epsilon; and &sigma;. For simplicity, use $\\varepsilon = 1.0$ and $\\sigma = 1.0$.\n",
    "\n",
    "2. Create an array of interatomic distances (`r_values`) from 0.98 to 2.50 with a step size of 0.02.\n",
    "\n",
    "3. Calculate the Lennard-Jones potential (`V_values`) for each value of `r_values`.\n",
    "\n",
    "4. Execute the provided snippet that plots the potential $V(r)$ as a function of $r$. \n",
    "This is a simple plot and not particularly polished, but it serves its purpose for now. Later in the course, we'll learn how to create and customize more visually appealing plots.\n",
    "</div>\n",
    "<div style=\"width: 48%; line-height: 1.3;color: grey;\">\n",
    "wobei:\n",
    "\n",
    "- $r$ ist der Abstand zwischen den beiden Atomen.\n",
    "\n",
    "- $\\varepsilon$ ist die Tiefe des Potentialtopfes (gibt an, wie stark sich die beiden Teilchen gegenseitig anziehen).\n",
    "\n",
    "- $\\sigma$ ist der Abstand, bei dem das Potenzial null ist.\n",
    "        \n",
    "1. Bestimmen Sie die Werte für &epsilon; und &sigma;. Verwenden Sie $\\varepsilon = 1.0$ und $\\sigma = 1.0$.\n",
    "\n",
    "2. Erstellen Sie ein Array von interatomaren Abständen (`r_values`) von 0.98 bis 2.50 mit einer Schrittweite von 0.02.\n",
    "\n",
    "3. Berechnen Sie das Lennard-Jones-Potential (`V_values`) für jeden Wert von `r_values`.\n",
    "\n",
    "4. Führen Sie das mitgelieferte Snippet aus, das das Potential $V(r)$ als Funktion von $r$ aufzeichnet.\n",
    "Dies ist eine einfache Darstellung und nicht besonders ausgefeilt, aber sie erfüllt ihren Zweck für den Moment. Im weiteren Verlauf des Kurses werden wir lernen, wie man visuell ansprechendere Diagramme erstellt und anpasst.\n",
    "</div>\n",
    "</div>"
   ]
  },
  {
   "cell_type": "code",
   "execution_count": null,
   "metadata": {},
   "outputs": [],
   "source": [
    "# your code"
   ]
  },
  {
   "cell_type": "code",
   "execution_count": 31,
   "metadata": {},
   "outputs": [],
   "source": [
    "import numpy as np\n",
    "\n",
    "# Define parameters\n",
    "epsilon = 1.0  # Depth of the potential well\n",
    "sigma = 1.0    # Distance at which the potential is zero\n",
    "\n",
    "# Create an array of interatomic distances (r) from 0.99 to 3.0 with a step size of 0.02\n",
    "r_values = np.arange(0.98, 2.52, 0.02)\n",
    "\n",
    "# Calculate the Lennard-Jones potential for each value of r using vectorized operations\n",
    "V_values = 4 * epsilon * ((sigma / r_values)**12 - (sigma / r_values)**6)"
   ]
  },
  {
   "cell_type": "code",
   "execution_count": 38,
   "metadata": {},
   "outputs": [
    {
     "data": {
      "image/png": "[encoded data removed]",
      "text/plain": [
       "<Figure size 600x500 with 1 Axes>"
      ]
     },
     "metadata": {},
     "output_type": "display_data"
    }
   ],
   "source": [
    "# Re-importing necessary libraries after environment reset\n",
    "import seaborn as sns\n",
    "import matplotlib.pyplot as plt\n",
    "\n",
    "# Using seaborn's default styling for better aesthetics\n",
    "sns.set_theme(style=\"whitegrid\")\n",
    "\n",
    "# Plotting the Lennard-Jones potential with seaborn\n",
    "plt.figure(figsize=(6, 5))\n",
    "sns.lineplot(x=r_values, y=V_values, marker=\"o\")\n",
    "\n",
    "# Labels\n",
    "plt.xlabel('Interatomic Distance (r)')\n",
    "plt.ylabel('Potential Energy V(r)')\n",
    "\n",
    "# Show plot\n",
    "plt.show()"
   ]
  },
  {
   "cell_type": "markdown",
   "metadata": {},
   "source": [
    "<div class=\"alert alert-block alert-light\">\n",
    "\n",
    "<div style=\"display: flex; justify-content: space-between;\">\n",
    "<div style=\"width: 48%; line-height: 1.3;\">\n",
    "\n",
    "#### Exercise \n",
    "\n",
    "Calculate the vertical position $y$ of an object undergoing projectile motion, given that it is launched at ground level ($y_0 = 0$), at an angle of $70^{\\circ}$, that the vertical component of acceleration $g$ = -9.81 m/s<sup>2</sup>, and that it is launched with a speed of $v_0$ = 37 m/s. Use time $t$ as the input variable, and recall that:\n",
    "</div>\n",
    "<div style=\"width: 48%; line-height: 1.3;color: grey;\">\n",
    "\n",
    "#### Übung\n",
    "\n",
    "Berechnen Sie die vertikale Position $y$ eines Objekts, das eine Projektilbewegung durchläuft, unter der Voraussetzung, dass es in Bodennähe ($y_0 = 0$) unter einem Winkel von $70^{\\circ}$ abgeschossen wird, dass die vertikale Komponente der Beschleunigung $g$ = -9.81 m/s<sup>2</sup> ist und dass es mit einer Geschwindigkeit von $v_0$ = 37 m/s abgeschossen wird. Verwenden Sie die Zeit $t$ als Eingangsvariable und erinnern Sie sich, dass:\n",
    "</div>\n",
    "</div>\n",
    "<div style=\"text-align: center; margin-top: 20px;\">\n",
    "\n",
    "$$y=y_{0} + v_{0}\\sin(\\theta)t + \\frac{1}{2} g t^{2}$$ \n",
    "</div>\n",
    "<div style=\"display: flex; justify-content: space-between;\">\n",
    "<div style=\"width: 48%; line-height: 1.3;\">\n",
    "\n",
    "- Define all relevant variables: `y_0, v_0, g, theta`.\n",
    "\n",
    "- Calculate the time it takes for the projectile to hit the ground by finding the roots of the equation when $y = 0$. Ensure angles are expressed in radians, not degrees.\n",
    "\n",
    "- Use NumPy to create an array `time` of 100 equally spaced time values between the two roots you just calculated.\n",
    "</div>\n",
    "<div style=\"width: 48%; line-height: 1.3;color: grey;\">\n",
    "\n",
    "- Definieren Sie alle relevanten Variablen: `y_0, v_0, g, theta`.\n",
    "\n",
    "- Berechnen Sie die Zeit, die das Projektil braucht, um den Boden zu treffen, indem du die Wurzeln der Gleichung findest, wenn $y = 0$ ist. Achte darauf, dass die Winkel in Bogenmaß und nicht in Grad angegeben werden.\n",
    "\n",
    "- Erstellen Sie mit NumPy ein Array `time` mit 100 gleichmäßig verteilten Zeitwerten zwischen den beiden Wurzeln, die Sie gerade berechnet haben.\n",
    "</div>\n",
    "</div>"
   ]
  },
  {
   "cell_type": "code",
   "execution_count": 47,
   "metadata": {},
   "outputs": [],
   "source": [
    "y_0 = 0.0\n",
    "v_0 = 37.0\n",
    "g = -9.81\n",
    "theta = np.radians(70.0)\n",
    "\n",
    "c = y_0\n",
    "b = v_0 * np.sin(theta)\n",
    "a = 0.5 * g"
   ]
  },
  {
   "cell_type": "code",
   "execution_count": 48,
   "metadata": {},
   "outputs": [
    {
     "data": {
      "text/plain": [
       "(-0.0, 7.088405090535904)"
      ]
     },
     "execution_count": 48,
     "metadata": {},
     "output_type": "execute_result"
    }
   ],
   "source": [
    "# Quadratic formula: t = (-b ± sqrt(b^2 - 4ac)) / 2a\n",
    "discriminant = b**2 - 4*a*c\n",
    "t1 = (-b + np.sqrt(discriminant)) / (2*a)\n",
    "t2 = (-b - np.sqrt(discriminant)) / (2*a)\n",
    "\n",
    "t1, t2"
   ]
  },
  {
   "cell_type": "code",
   "execution_count": 49,
   "metadata": {},
   "outputs": [
    {
     "data": {
      "image/png": "[encoded data removed]",
      "text/plain": [
       "<Figure size 640x480 with 1 Axes>"
      ]
     },
     "metadata": {},
     "output_type": "display_data"
    }
   ],
   "source": [
    "import numpy as np\n",
    "import matplotlib.pyplot as plt\n",
    "\n",
    "y_0 = 0.0\n",
    "v_0 = 37.0\n",
    "g = -9.81\n",
    "theta = np.radians(70.0)\n",
    "time = np.linspace(0,t2,100)\n",
    "\n",
    "sns.lineplot(x=time, y=(y_0 + v_0 * np.sin(theta) * time + 0.5 * g * time**2))\n",
    "\n",
    "# Labels\n",
    "plt.xlabel('time (s)')\n",
    "plt.ylabel(r'$y$ (m)')\n",
    "\n",
    "plt.show()"
   ]
  },
  {
   "cell_type": "code",
   "execution_count": null,
   "metadata": {},
   "outputs": [],
   "source": []
  }
 ],
 "metadata": {
  "kernelspec": {
   "display_name": "base",
   "language": "python",
   "name": "python3"
  },
  "language_info": {
   "codemirror_mode": {
    "name": "ipython",
    "version": 3
   },
   "file_extension": ".py",
   "mimetype": "text/x-python",
   "name": "python",
   "nbconvert_exporter": "python",
   "pygments_lexer": "ipython3",
   "version": "3.10.14"
  }
 },
 "nbformat": 4,
 "nbformat_minor": 2
}
